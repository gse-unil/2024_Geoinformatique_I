{
 "cells": [
  {
   "cell_type": "markdown",
   "id": "20b8fc34",
   "metadata": {},
   "source": [
    "# Étape 4: géotraitement - évaluation de la zone industrielle"
   ]
  },
  {
   "cell_type": "markdown",
   "id": "f4ae6650",
   "metadata": {},
   "source": [
    "Dans cette étape nous allons déterminer **le nombre de personnes dans le périmètre autour de la zone industrielle**.\n",
    "\n",
    "Le calcul du nombre de personnes est fait selon les indications dans l'Ordonnance sur la Protection contre les Accidents Majeurs (OPAM):\n",
    "\n",
    "Nombre de personnes présentes pendant un jour de semaine:  \n",
    "$N_{jsem} = 0.3 \\cdot P + 0.8 \\cdot E$  \n",
    "où $P$ est la population résidente et $E$ le nombre d'emplois.\n",
    "\n",
    "Nombre de personnes présentes pendant une nuit de semaine:  \n",
    "$N_{nsem} = 0.9 \\cdot P + 0.05 \\cdot E$\n",
    "\n",
    "Nombre de personnes présentes pendant un jour de weekend:  \n",
    "$N_{jwe} = 0.6 \\cdot P + 0.05 \\cdot E$\n",
    "\n",
    "Nombre de personnes présentes pendant une nuit de weekend:  \n",
    "$N_{nwe} = P$\n",
    "\n",
    "Les périmètres considérés sont: 500 m, 1 km, et 5 km.\n",
    "\n",
    "Nous souhaitons obtenir **le nombre de personnes par périmètre et par commune**.\n",
    "\n",
    "Nous allons fiare l'intégralité de cette analyse **avec Geopandas**, à priori sur Google Colab.\n",
    "\n",
    "Les étapes de travail sont en gros:\n",
    "\n",
    "1. Création des périmètres de 500 m, 1 km et 5 km\n",
    "2. Intersection des périmètres avec les communes afin de savoir quelle partie de quel périmètre se trouve dans quelle commune.\n",
    "3. Déterminer le nombre d'habitants et d'emplois pour chaque périmètre-commune.\n",
    "4. Calcul du nombre de personnes\n",
    "\n",
    "Le résultat sera sauvegardé dans des fichiers CSV.\n",
    "\n",
    "Les ressources conseillés pour l'étape 4 du projet sont en gros:\n",
    "\n",
    "- Le tutoriel d'introduction à GeoPandas sur Moodle. Il contient la plupart des éléments à mettre en oeuvre.\n",
    "\n",
    "- La documentation officielle des modules Python utilisés, dont notamment [GeoPandas](https://geopandas.org) et [Pandas](http://pandas.pydata.org/).\n",
    "\n",
    "- Votre moteur de recherche préféré et votre modèle IA préféré\n",
    "\n",
    "- Échangez-vous avec vos collègues. Mais n'échangez pas de fichiers et ne copiez pas le code de quelqu'un d'autre. \n",
    "\n",
    "On n'écrit pas de code sans documentation, mais il faut comprendre ce qu'on fait. Si vous ne comprenez pas un élément, essayez de l'apprendre. "
   ]
  },
  {
   "cell_type": "markdown",
   "id": "f9d635bf",
   "metadata": {},
   "source": [
    "## 1. Création des périmètres de 500 m, 1 km et 5 km\n",
    "\n",
    "À partir du Geopackage de votre zone industrielle, créez une zone tampon pour chacun des périmètres.\n",
    "\n",
    "Le module `pyogrio` permet de lister les couches à l'intérieur de votre Geopackage et ainsi lire la bonne couche. Vous trouvez un exemple dans le tutoriel GeoPandas.\n",
    "\n",
    "Vous pouvez ensuite procéder au calcul de la zone tampon («buffer» en anglais).\n",
    "\n",
    "Une chose importante à considérer est le fait que votre zone industrielle est composée de plusieurs polygones. GeoPandas crée une zone tampon par polygone. Il faudra donc fusionner les zones tampons obtenues. Ceci peut se faire avec l'opération [`union_all`](https://geopandas.org/en/stable/docs/user_guide/geometric_manipulations.html#GeoSeries.union_all), ou si vous avez une vielle version de GeoPandas avec [`unary_union`](https://geopandas.org/en/v0.14.1/docs/reference/api/geopandas.GeoSeries.unary_union.html)."
   ]
  },
  {
   "cell_type": "markdown",
   "id": "cc5e0901",
   "metadata": {},
   "source": [
    "Regardez le type du résultat que vous obtenez de l'opération `union_all`. Il s'agit d'une géométrie [`Shapely`](https://shapely.readthedocs.io). Il s'agit du module Python utilisé par GeoPandas pour gérer les géométries."
   ]
  },
  {
   "cell_type": "markdown",
   "id": "ff089166",
   "metadata": {},
   "source": [
    "Le calcul simple des zones tampons crée des zones qui se superposent. Pour pouvoir faire des sommes plus tard, il est préférable d'avoir des sortes d'anneaux, donc un anneau pour le périmètre entre 500 m et 1 km, et entre 1 km et 5 km. Un tel anneau ressemble à quelque chose comme ça:"
   ]
  },
  {
   "cell_type": "markdown",
   "id": "16f242fc",
   "metadata": {},
   "source": [
    "<img src=\"data:image/png;base64,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\" />"
   ]
  },
  {
   "cell_type": "markdown",
   "id": "e91adc6c",
   "metadata": {},
   "source": [
    "Pour obtenir une telle géométrie, il faut appliquer l'opérateur «difference». Il s'agit d'une fonction de Shapely, voir [ici](https://shapely.readthedocs.io/en/stable/manual.html#object.difference)."
   ]
  },
  {
   "cell_type": "markdown",
   "id": "df69dab5",
   "metadata": {},
   "source": [
    "À la fin de cette étape, vous devez avoir trois zones tampon:\n",
    "\n",
    "- celle de 500 mètres\n",
    "- celle de 1 km après différence avec celle de 500 mètres\n",
    "- la zone tampon de 5 km moins celle de 1 km"
   ]
  },
  {
   "cell_type": "markdown",
   "id": "63af094c",
   "metadata": {},
   "source": [
    "## 2. Intersection des périmètres avec les communes"
   ]
  },
  {
   "cell_type": "markdown",
   "id": "758e63c9",
   "metadata": {},
   "source": [
    "Afin d'avoir un décompte des personnes non seulement par périmètre mais aussi par commune, nous devons intégrer l'information sur les communes dans chaque zone tampon.\n",
    "\n",
    "Ceci peut se faire à l'aide d'une intersection avec la couche des communes. Prenez les communes pour toute la Suisse et non pas seulement pour de canton de Vaud. Les parties à l'étranger ne sont pas considérées et seront coupées à cette étape (nous n'avons pas les données statistiques pour l'étranger).\n",
    "\n",
    "L'intersection peut se faire avec la fonction `overlay` de GeoPandas. Cette fonction demande deux GeoDataFrames. Après lecture du fichier Geopackage, nous avons bel et bien un GeoDataFrame pour les communes. Mais pour les zones tampon, nous avons des géométries brutes. Nous devons d'abord les transformer en GeoDataFrame avec quelque chose comme:"
   ]
  },
  {
   "cell_type": "code",
   "execution_count": null,
   "id": "de60f834",
   "metadata": {},
   "outputs": [],
   "source": [
    "gpd.GeoDataFrame(geometry=[zone_tampon], crs='EPSG:2056')"
   ]
  },
  {
   "cell_type": "markdown",
   "id": "19669dc4",
   "metadata": {},
   "source": [
    "Par ailleurs, au lieu d'écrire le même code 3 fois (une fois pour chaque zone), nous pouvons l'intégrer dans une boucle. Nous pourrions par exemple d'abord créer un dictionnaire avec les 3 géométries des zones tampons (avec le périmètre comme clé et la géométrie comme valeur):"
   ]
  },
  {
   "cell_type": "code",
   "execution_count": null,
   "id": "a0229983",
   "metadata": {},
   "outputs": [],
   "source": [
    "zi_buf = { '500m': zi_500m, '1km': zi_1km_diff, '5km': zi_5km_diff }"
   ]
  },
  {
   "cell_type": "markdown",
   "id": "d900647b",
   "metadata": {},
   "source": [
    "Et ensuite nous pouvons faire une boucle à travers ce dictionnaire. À l'aide d'une *«compréhension de dictionnaire»* (*«dictionary comprehension»* en anglais), ceci peut se faire en une seule ligne de code (c'est bien une seule ligne de code, même si elle est écrite sur plusieurs lignes pour faire joli):"
   ]
  },
  {
   "cell_type": "code",
   "execution_count": null,
   "id": "0bf5f321",
   "metadata": {},
   "outputs": [],
   "source": [
    "zi_buf_gdf = {\n",
    "    k: gpd.GeoDataFrame(geometry=[poly], crs='EPSG:2056')\n",
    "    for k, poly in zi_buf.items()\n",
    "}"
   ]
  },
  {
   "cell_type": "markdown",
   "id": "a1dc119d",
   "metadata": {},
   "source": [
    "À vous de voir si voulez adopter ou non ce style un peu plus succinct d'écrire votre code."
   ]
  },
  {
   "cell_type": "markdown",
   "id": "3fdbd3be",
   "metadata": {},
   "source": [
    "Une fois que vous avez fait l'intersection, inspectez le résultat. Regardez p.ex. d'abord la zone tampon seulement:"
   ]
  },
  {
   "cell_type": "code",
   "execution_count": null,
   "id": "119277dd",
   "metadata": {},
   "outputs": [],
   "source": [
    "zi_buf_gdf['500m']"
   ]
  },
  {
   "cell_type": "markdown",
   "id": "1a1ca5fa",
   "metadata": {},
   "source": [
    "Et ensuite le résultat après intersection:"
   ]
  },
  {
   "cell_type": "code",
   "execution_count": null,
   "id": "cfbdbd95",
   "metadata": {},
   "outputs": [],
   "source": [
    "zi_buf_cmnes['500m']"
   ]
  },
  {
   "cell_type": "markdown",
   "id": "dc8e9146",
   "metadata": {},
   "source": [
    "Ceci vous doit indiquer si l'opération semble avoir marché.\n",
    "\n",
    "Afficher également au moins une des zones avec `plot`, p.ex."
   ]
  },
  {
   "cell_type": "code",
   "execution_count": null,
   "id": "165d5521",
   "metadata": {},
   "outputs": [],
   "source": [
    "zi_buf_cmnes['500m'].plot()"
   ]
  },
  {
   "cell_type": "markdown",
   "id": "88b56525",
   "metadata": {},
   "source": [
    "Vous avez maintenant un GeoDataFrame pour chaque zone tampon. Chaque zone tampon a été décomposée en plusieurs polygones, un polygone par commune."
   ]
  },
  {
   "cell_type": "markdown",
   "id": "03908f9d",
   "metadata": {},
   "source": [
    "Une fois que vous avez vérifié le résultat de vos calculs et que tout semble ok, vous pouvez passer au point suivant."
   ]
  },
  {
   "cell_type": "markdown",
   "id": "f5446ff5",
   "metadata": {},
   "source": [
    "## 3. Déterminer le nombre d'habitants et d'emplois"
   ]
  },
  {
   "cell_type": "markdown",
   "id": "bb1d06d1",
   "metadata": {},
   "source": [
    "Une fois que les zones tampon sont prêtes, il faut passer au calcul du nombre d'habitants et d'emplois. Ces données sont disponibles sous forme de points, un point par hectare. En gros, on va regarder quels points tombent à l'intérieur de quel polygon des zones tampon, et ensuite faire la somme du champ de population ou d'emplois de tous ces points à l'intérieur.\n",
    "\n",
    "Pour cela, il faut faire une jointure spatiale entre la couche des points (avec le nombre d'habitants resp. d'emplois) et les polygones des zones tampon. Ainsi, les informations des polygones sont disponibles pour chaque point. Ensuite, il faut faire une opération «group by» avec le calcul de la somme sur colonne des habitants ou des emplois.\n",
    "\n",
    "Vous disposez d'une fonction qui fait cette tâche d'une jointure spatiale suivi du calcul de la somme après «group by»:"
   ]
  },
  {
   "cell_type": "code",
   "execution_count": null,
   "id": "b73f7f77",
   "metadata": {},
   "outputs": [],
   "source": [
    "def sjoin_summarize(poly_lyr, pts_lyr, pts_colname, poly_newcolname):\n",
    "    \"\"\"\n",
    "    poly_lyr:         la couche des polygones\n",
    "    pts_lyr:          la couche des points\n",
    "    pts_colname:      la colonne sur laquelle il faut faire la somme\n",
    "    poly_newcolname:  le nom de la colonne à créer dans la couche\n",
    "                      des polygones\n",
    "    \"\"\"\n",
    "    # Faire d'abord une jointure spatiale pour associer chaque point à un polygone\n",
    "    sjoin = pts_lyr.sjoin(poly_lyr, how='inner', predicate='within')\n",
    "    \n",
    "    # Faire une opération «group by» selon l'index du polygone, et calculer la somme\n",
    "    somme_par_poly = sjoin.groupby(sjoin.index_right)[pts_colname].sum()\n",
    "    \n",
    "    # Enregistrer le résultat dans la couche des polygones\n",
    "    poly_lyr[poly_newcolname] = poly_lyr.index.map(somme_par_poly)"
   ]
  },
  {
   "cell_type": "markdown",
   "id": "4175f4af",
   "metadata": {},
   "source": [
    "Étudiez cette fonction pour bien comprendre ce qu'elle fait. Regardez chaque ligne de code. Ensuite, faites le calcul pour chacune des zones tampon et le nombre d'habitants et emplois. Il faut évidemment d'abord charger les deux couches que vous aviez créées dans une étape précédente avec `ogr2ogr`."
   ]
  },
  {
   "cell_type": "markdown",
   "id": "407bdfe0",
   "metadata": {},
   "source": [
    "À la fin, vous devriez avoir 3 GeoDataFrames, un pour chaque zone tampon, avec deux nouvelles colonnes, une pour les habitants et une pour les emplois.\n",
    "\n",
    "Insérez dans chaque GeoDataFrame une nouvelle colonne `peri` qui contient la valeur `500m`, `1km` ou `5km`. Cela permettra d'identifer à quel périmètre s'appique une ligne du tableau.\n",
    "\n",
    "Nous allons calculer le nombre de personnes à la fois par commune et par zone tampon. Pour cela, nous devrions avoir un tableau qui ressemble à ça:"
   ]
  },
  {
   "cell_type": "markdown",
   "id": "91eb9b92",
   "metadata": {},
   "source": [
    "<img src=\"data:image/png;base64,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\" />"
   ]
  },
  {
   "cell_type": "markdown",
   "id": "d6321986",
   "metadata": {},
   "source": [
    "Pour le moment, cette information est répartie à travers les 3 GeoDataFrames. Nous devons donc:\n",
    "\n",
    "- extraire les colonnes nécessaires de chaque GeoDataFrame\n",
    "- joindre toutes les données dans un seul tableau\n",
    "\n",
    "Le tableau que nous utilisons est un DataFrame Pandas.\n",
    "\n",
    "Pour extraire les colonnes, il suffit de passer une liste des colonnes souhaitées:"
   ]
  },
  {
   "cell_type": "code",
   "execution_count": null,
   "id": "cd146153",
   "metadata": {},
   "outputs": [],
   "source": [
    "data_500m = zi_buf_cmnes_500m[['bfs_nummer', 'name', 'peri', 'pop_2023_sum', 'empl_2022_sum']]"
   ]
  },
  {
   "cell_type": "markdown",
   "id": "d2696ed3",
   "metadata": {},
   "source": [
    "Et pour joindre toutes les données, il faut les «concaténer». Pandas possède une fonction pour le faire. Ce sera quelque chose comme:"
   ]
  },
  {
   "cell_type": "code",
   "execution_count": null,
   "id": "07768e28",
   "metadata": {},
   "outputs": [],
   "source": [
    "pd.concat([data_500m, data_1km, data_5km], ignore_index=True)"
   ]
  },
  {
   "cell_type": "markdown",
   "id": "3cb35bc2",
   "metadata": {},
   "source": [
    "Consultez la [documentation de Pandas](https://pandas.pydata.org/pandas-docs/stable/reference/api/pandas.concat.html) pour comprendre ce que ce code fait."
   ]
  },
  {
   "cell_type": "markdown",
   "id": "cd9950b4",
   "metadata": {},
   "source": [
    "Affichez le résultat qui doit être un tableau similaire à celui plus haut. Vous allez constater que certaines des valeurs sont des `NaN`. Remplacez ces valeurs par 0, sinon on aura des difficultés à faire la somme.\n",
    "\n",
    "Avec ça, le DataFrame Pandas sera prêt pour le point suivant."
   ]
  },
  {
   "cell_type": "markdown",
   "id": "6eb88d07",
   "metadata": {},
   "source": [
    "## Calcul du nombre de personnes"
   ]
  },
  {
   "cell_type": "markdown",
   "id": "74e282a5",
   "metadata": {},
   "source": [
    "Nous pouvons maintenant appliquer les 4 formules pour calculer l nombre de personnes à chaque moment dans la semaine, selon les formules définies dans l'OPAM.\n",
    "\n",
    "Créez une nouvelle colonne pour chaque formule. Nommez les colonnes de la façon suivante:\n",
    "\n",
    "- `Njsem`: Nombre de personnes présentes pendant un jour de semaine\n",
    "- `Nnsem`: Nombre de personnes présentes pendant une nuit de semaine\n",
    "- `Njwe`: Nombre de personnes présentes pendant un jour de weekend\n",
    "- `Nnwe`: Nombre de personnes présentes pendant une nuit de weekend\n",
    "\n",
    "Vous trouvez les formules au début de ce document.\n",
    "\n",
    "Sauvegardez ensuite le DataFrame Pandas résultat dans un fichier CSV. Nommez le fichier `personnes_par_peri_et_cmne.csv` et enregistrez-le dans le dossier `resultats` de votre projet."
   ]
  },
  {
   "cell_type": "markdown",
   "id": "773cdbea",
   "metadata": {},
   "source": [
    "Sur la base de ce DataFrame, il est facile d'extraire les informations par zone tampon et par commune.\n",
    "\n",
    "Faites d'abord l'extraction par périmètre. Pour cela, il faut d'abord extraire les colonnes suivantes:\n",
    "\n",
    "`peri` (la colonne qui contient la zone tampon, p.ex. `500m`, `1km` et `5km`), `Njsem`, `Nnsem`, `Njwe` et `Nnew`.\n",
    "\n",
    "Ensuite nous pouvons faire une agrégation de type «group by» avec le calcul de la somme. C'est quelque chose du genre:"
   ]
  },
  {
   "cell_type": "code",
   "execution_count": null,
   "id": "2ea07db8",
   "metadata": {},
   "outputs": [],
   "source": [
    "data_peri.groupby('peri', as_index=False).sum()"
   ]
  },
  {
   "cell_type": "markdown",
   "id": "67cca264",
   "metadata": {},
   "source": [
    "Vous devriez ensuite avoir un nouveau DataFrame Pandas qui ressemble à quelque chose du genre (sans les colonnes de la population et des habitants):"
   ]
  },
  {
   "cell_type": "markdown",
   "id": "5394d9f2",
   "metadata": {},
   "source": [
    "<img src=\"data:image/png;base64,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\" />"
   ]
  },
  {
   "cell_type": "markdown",
   "id": "4f096c58",
   "metadata": {},
   "source": [
    "Enregistrez votre tableau dans le dossier des résultats de votre projet, sous forme d'un fichier CSV. Nommez le fichier `personnes_par_peri.csv`."
   ]
  },
  {
   "cell_type": "markdown",
   "id": "aa919650",
   "metadata": {},
   "source": [
    "Faites ensuite la même opération pour les communes. Dans l'instruction `groupby`, utilisez à la fois la colonne `bfs_nummer` et `name`, du genre:"
   ]
  },
  {
   "cell_type": "code",
   "execution_count": null,
   "id": "f9b73ea6",
   "metadata": {},
   "outputs": [],
   "source": [
    "___.groupby(['bfs_nummer', 'name'], ___).sum()"
   ]
  },
  {
   "cell_type": "markdown",
   "id": "f8fefd75",
   "metadata": {},
   "source": [
    "Sauvegardez le résultat de cette opération dans un fichier CSV avec nom `personnes_par_cmne.csv`. Enregistrez-le aussi dans le dossier des résultats de votre projet SIG."
   ]
  },
  {
   "cell_type": "markdown",
   "id": "34fd6641",
   "metadata": {},
   "source": [
    "À ce stade, vous avez calculé le nombre de personnes par périmètre et par commune. Félicitations!"
   ]
  }
 ],
 "metadata": {
  "kernelspec": {
   "display_name": "Python 3 (ipykernel)",
   "language": "python",
   "name": "python3"
  },
  "language_info": {
   "codemirror_mode": {
    "name": "ipython",
    "version": 3
   },
   "file_extension": ".py",
   "mimetype": "text/x-python",
   "name": "python",
   "nbconvert_exporter": "python",
   "pygments_lexer": "ipython3",
   "version": "3.10.12"
  }
 },
 "nbformat": 4,
 "nbformat_minor": 5
}
