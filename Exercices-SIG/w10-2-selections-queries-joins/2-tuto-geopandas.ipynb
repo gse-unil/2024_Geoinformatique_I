{
  "cells": [
    {
      "cell_type": "markdown",
      "metadata": {
        "id": "view-in-github",
        "colab_type": "text"
      },
      "source": [
        "<a href=\"https://colab.research.google.com/github/gse-unil/2024_Geoinformatique_I/blob/main/Exercices-SIG/w10-2-selections-queries-joins/2-tuto-geopandas.ipynb\" target=\"_parent\"><img src=\"https://colab.research.google.com/assets/colab-badge.svg\" alt=\"Open In Colab\"/></a>"
      ]
    },
    {
      "cell_type": "markdown",
      "id": "ac8e0f66-e58b-4792-8c39-e08002515cac",
      "metadata": {
        "id": "ac8e0f66-e58b-4792-8c39-e08002515cac"
      },
      "source": [
        "# Introduction à GeoPandas"
      ]
    },
    {
      "cell_type": "markdown",
      "id": "ac07ecf9-ba20-4bf4-86bf-e51dfe826a52",
      "metadata": {
        "id": "ac07ecf9-ba20-4bf4-86bf-e51dfe826a52"
      },
      "source": [
        "GeoPandas est une extension de la bibliothèque Pandas qui ajoute la prise en charge des données géospatiales. Sa structure principale, le **GeoDataFrame**, est un **DataFrame** classique de Pandas avec une colonne dédiée aux géométries.\n",
        "\n",
        "Une colonne géométrique dans un GeoDataFrame est représentée par une **GeoSeries**, l'équivalent géospatial d'une Series de Pandas. Ainsi, un GeoDataFrame est simplement une collection de GeoSeries. Une GeoSeries peut contenir des données numériques, textuelles ou géométriques.\n",
        "\n",
        "Contrairement aux couches vectorielles traditionnelles des SIG, un GeoDataFrame peut inclure plusieurs colonnes géométriques. De plus, toutes les fonctionnalités disponibles pour un DataFrame de Pandas s'appliquent également aux GeoDataFrames, ce qui en fait un outil puissant pour grouper les opérations de géotraitement."
      ]
    },
    {
      "cell_type": "markdown",
      "id": "b7a0d422-8cc8-49ac-88df-e2ce3d81a5f8",
      "metadata": {
        "id": "b7a0d422-8cc8-49ac-88df-e2ce3d81a5f8"
      },
      "source": [
        "## Objectifs\n",
        "\n",
        "Dans ce tutoriel, nous allons explorer l'utilisation de GeoPandas pour manipuler des données géospatiales. GeoPandas est une extension de Pandas, et si vous êtes déjà familier avec Pandas, apprendre GeoPandas sera une transition naturelle. GeoPandas ajoute des capacités géospatiales aux DataFrames de Pandas, ce qui en fait un outil puissant pour analyser des données géographiques.\n",
        "\n",
        "Nous allons découvrir les possibilités de GeoPandas à l'aide de deux exemples:\n",
        "\n",
        "- Manipulation des données géospatiales des pays du monde : lecture, jointure, calculs géographiques et analyse statistique.\n",
        "- Analyse géospatiale des données OpenStreetMap en Estonie : calcul des distances, agrégation des données, et statistiques géographiques."
      ]
    },
    {
      "cell_type": "markdown",
      "id": "1fa275d1-fe84-4f3a-8020-8f4322562cab",
      "metadata": {
        "id": "1fa275d1-fe84-4f3a-8020-8f4322562cab"
      },
      "source": [
        "## Partie 1: Indice démographique des pays du monde\n",
        "\n",
        "Dans cet exemple, nous allons calculer un indice démographique pour les pays du monde, à l'aide des données de la Banque mondiale et des géométries de [Natural Earth](https://naturalearthdata.com)."
      ]
    },
    {
      "cell_type": "markdown",
      "id": "f79cfa84-dcbf-4bad-8aeb-f396833288a1",
      "metadata": {
        "id": "f79cfa84-dcbf-4bad-8aeb-f396833288a1"
      },
      "source": [
        "Avant de commencer, nous devons obtenir les données nécessaires à l'analyse. Nous faisons cela avec le module `pooch`. Il faut d'abord s'assurer qu'il est installé:"
      ]
    },
    {
      "cell_type": "code",
      "execution_count": null,
      "id": "c7921a91-62d2-451f-a466-0a6fee4931fc",
      "metadata": {
        "id": "c7921a91-62d2-451f-a466-0a6fee4931fc",
        "colab": {
          "base_uri": "https://localhost:8080/"
        },
        "outputId": "90dbbadb-19e9-48fc-9968-8b58225d5ae7"
      },
      "outputs": [
        {
          "output_type": "stream",
          "name": "stdout",
          "text": [
            "Requirement already satisfied: pooch in /usr/local/lib/python3.10/dist-packages (1.8.2)\n",
            "Requirement already satisfied: platformdirs>=2.5.0 in /usr/local/lib/python3.10/dist-packages (from pooch) (4.3.6)\n",
            "Requirement already satisfied: packaging>=20.0 in /usr/local/lib/python3.10/dist-packages (from pooch) (24.2)\n",
            "Requirement already satisfied: requests>=2.19.0 in /usr/local/lib/python3.10/dist-packages (from pooch) (2.32.3)\n",
            "Requirement already satisfied: charset-normalizer<4,>=2 in /usr/local/lib/python3.10/dist-packages (from requests>=2.19.0->pooch) (3.4.0)\n",
            "Requirement already satisfied: idna<4,>=2.5 in /usr/local/lib/python3.10/dist-packages (from requests>=2.19.0->pooch) (3.10)\n",
            "Requirement already satisfied: urllib3<3,>=1.21.1 in /usr/local/lib/python3.10/dist-packages (from requests>=2.19.0->pooch) (2.2.3)\n",
            "Requirement already satisfied: certifi>=2017.4.17 in /usr/local/lib/python3.10/dist-packages (from requests>=2.19.0->pooch) (2024.8.30)\n"
          ]
        }
      ],
      "source": [
        "!pip install pooch"
      ]
    },
    {
      "cell_type": "markdown",
      "id": "c0ee1720-ebd5-4a95-95ff-93a622f1c502",
      "metadata": {
        "id": "c0ee1720-ebd5-4a95-95ff-93a622f1c502"
      },
      "source": [
        "Les données sont prêtes à être téléchargées depuis l'URL suivante, sous forme d'une archive ZIP: [https://files.swisscarto.ch/geoinf1/demographie-monde.zip](https://files.swisscarto.ch/geoinf1/demographie-monde.zip). Nous pouvons le télécharger directement avec Pooch:"
      ]
    },
    {
      "cell_type": "code",
      "execution_count": null,
      "id": "1c60d6d0-5f3e-4633-8257-8c81b24cb5d4",
      "metadata": {
        "id": "1c60d6d0-5f3e-4633-8257-8c81b24cb5d4"
      },
      "outputs": [],
      "source": [
        "import pooch"
      ]
    },
    {
      "cell_type": "code",
      "execution_count": null,
      "id": "f2cf505b-dca9-413b-a238-7ca82a80fad9",
      "metadata": {
        "id": "f2cf505b-dca9-413b-a238-7ca82a80fad9",
        "colab": {
          "base_uri": "https://localhost:8080/"
        },
        "outputId": "db4dbf44-ddcb-4af1-b482-a0a1bf1879d0"
      },
      "outputs": [
        {
          "output_type": "stream",
          "name": "stderr",
          "text": [
            "Downloading data from 'https://files.swisscarto.ch/geoinf1/demographie-monde.zip' to file '/root/.cache/pooch/1e46bb8437871d9c298d7e2d61618148-demographie-monde.zip'.\n",
            "SHA256 hash of downloaded file: f67fa3cd571dc05e5b538ee0dc8632ee4c7e2428401a47a8960f8bec7a82d050\n",
            "Use this value as the 'known_hash' argument of 'pooch.retrieve' to ensure that the file hasn't changed if it is downloaded again in the future.\n",
            "Unzipping contents of '/root/.cache/pooch/1e46bb8437871d9c298d7e2d61618148-demographie-monde.zip' to '/root/.cache/pooch/1e46bb8437871d9c298d7e2d61618148-demographie-monde.zip.unzip'\n"
          ]
        }
      ],
      "source": [
        "data_files = pooch.retrieve(\n",
        "    url = 'https://files.swisscarto.ch/geoinf1/demographie-monde.zip',\n",
        "    known_hash = None,\n",
        "    processor = pooch.Unzip()\n",
        ")"
      ]
    },
    {
      "cell_type": "markdown",
      "id": "441e2f90-b3dd-4409-a567-1e0a518aeaf6",
      "metadata": {
        "id": "441e2f90-b3dd-4409-a567-1e0a518aeaf6"
      },
      "source": [
        "Cette opération a permis de télécharger le fichier dans un dossier temporaire sur le disque dur et de le décompresser. `data_files` contient maintenant une liste avec tous les fichiers contenus dans l'archive ZIP."
      ]
    },
    {
      "cell_type": "markdown",
      "id": "037a2b87-68a0-4faa-a8c9-a2caa669845c",
      "metadata": {
        "id": "037a2b87-68a0-4faa-a8c9-a2caa669845c"
      },
      "source": [
        "### Lecture du fichier Shape des pays du monde\n",
        "\n",
        "Nous allons maintenant charger le fichier Shape des pays du monde à l'aide de GeoPandas. Assurons-nous d'abord que GeoPandas est installé:"
      ]
    },
    {
      "cell_type": "code",
      "execution_count": null,
      "id": "b4f96349-a8d6-4772-be47-9cd21755e57a",
      "metadata": {
        "id": "b4f96349-a8d6-4772-be47-9cd21755e57a",
        "colab": {
          "base_uri": "https://localhost:8080/"
        },
        "outputId": "906ddbeb-79ad-4105-8a0f-011cf6c11743"
      },
      "outputs": [
        {
          "output_type": "stream",
          "name": "stdout",
          "text": [
            "Requirement already satisfied: geopandas in /usr/local/lib/python3.10/dist-packages (1.0.1)\n",
            "Requirement already satisfied: numpy>=1.22 in /usr/local/lib/python3.10/dist-packages (from geopandas) (1.26.4)\n",
            "Requirement already satisfied: pyogrio>=0.7.2 in /usr/local/lib/python3.10/dist-packages (from geopandas) (0.10.0)\n",
            "Requirement already satisfied: packaging in /usr/local/lib/python3.10/dist-packages (from geopandas) (24.2)\n",
            "Requirement already satisfied: pandas>=1.4.0 in /usr/local/lib/python3.10/dist-packages (from geopandas) (2.2.2)\n",
            "Requirement already satisfied: pyproj>=3.3.0 in /usr/local/lib/python3.10/dist-packages (from geopandas) (3.7.0)\n",
            "Requirement already satisfied: shapely>=2.0.0 in /usr/local/lib/python3.10/dist-packages (from geopandas) (2.0.6)\n",
            "Requirement already satisfied: python-dateutil>=2.8.2 in /usr/local/lib/python3.10/dist-packages (from pandas>=1.4.0->geopandas) (2.8.2)\n",
            "Requirement already satisfied: pytz>=2020.1 in /usr/local/lib/python3.10/dist-packages (from pandas>=1.4.0->geopandas) (2024.2)\n",
            "Requirement already satisfied: tzdata>=2022.7 in /usr/local/lib/python3.10/dist-packages (from pandas>=1.4.0->geopandas) (2024.2)\n",
            "Requirement already satisfied: certifi in /usr/local/lib/python3.10/dist-packages (from pyogrio>=0.7.2->geopandas) (2024.8.30)\n",
            "Requirement already satisfied: six>=1.5 in /usr/local/lib/python3.10/dist-packages (from python-dateutil>=2.8.2->pandas>=1.4.0->geopandas) (1.16.0)\n"
          ]
        }
      ],
      "source": [
        "!pip install geopandas"
      ]
    },
    {
      "cell_type": "markdown",
      "id": "058ed31e-2bd9-465d-a448-40ddfcb8af75",
      "metadata": {
        "id": "058ed31e-2bd9-465d-a448-40ddfcb8af75"
      },
      "source": [
        "Nous pouvons import GeoPandas, nous utilisons le nom court `gpd` pour nommer le module:"
      ]
    },
    {
      "cell_type": "code",
      "execution_count": null,
      "id": "b29dc543-1a57-4fe4-97e1-48e86e11e5d1",
      "metadata": {
        "id": "b29dc543-1a57-4fe4-97e1-48e86e11e5d1"
      },
      "outputs": [],
      "source": [
        "import geopandas as gpd"
      ]
    },
    {
      "cell_type": "markdown",
      "id": "11d46000-f0f5-4001-83c2-42062e0e724d",
      "metadata": {
        "id": "11d46000-f0f5-4001-83c2-42062e0e724d"
      },
      "source": [
        "Nous devons maintenant obtenir le chemin d'accès du fichier Shape. L'archive ZIP contient un seul fichier Shape, nous pouvons donc filtrer les fichiers à l'aide de l'extension:"
      ]
    },
    {
      "cell_type": "code",
      "execution_count": null,
      "id": "51ffbf3f-ce6f-4aeb-a3af-341ec62ec2ba",
      "metadata": {
        "id": "51ffbf3f-ce6f-4aeb-a3af-341ec62ec2ba",
        "colab": {
          "base_uri": "https://localhost:8080/",
          "height": 36
        },
        "outputId": "64e8f37f-f541-46ce-a90a-63b74618480f"
      },
      "outputs": [
        {
          "output_type": "execute_result",
          "data": {
            "text/plain": [
              "'/root/.cache/pooch/1e46bb8437871d9c298d7e2d61618148-demographie-monde.zip.unzip/demographie-monde/ne_50m_admin_0_countries/ne_50m_admin_0_countries.shp'"
            ],
            "application/vnd.google.colaboratory.intrinsic+json": {
              "type": "string"
            }
          },
          "metadata": {},
          "execution_count": 6
        }
      ],
      "source": [
        "pays_shp_path = [df for df in data_files if df.endswith('.shp')][0]\n",
        "pays_shp_path"
      ]
    },
    {
      "cell_type": "markdown",
      "id": "73e1a524-d22a-4672-91bc-7698798bf451",
      "metadata": {
        "id": "73e1a524-d22a-4672-91bc-7698798bf451"
      },
      "source": [
        "Le chargement du fichier Shape se fait simplement avec la fonction `read_file`:"
      ]
    },
    {
      "cell_type": "code",
      "execution_count": null,
      "id": "807eca16-dd3d-448d-a7c6-510ed73ffa79",
      "metadata": {
        "id": "807eca16-dd3d-448d-a7c6-510ed73ffa79"
      },
      "outputs": [],
      "source": [
        "pays = gpd.read_file(pays_shp_path)"
      ]
    },
    {
      "cell_type": "markdown",
      "id": "26be38d8-0bb2-4e3d-a70e-77519a03c2b6",
      "metadata": {
        "id": "26be38d8-0bb2-4e3d-a70e-77519a03c2b6"
      },
      "source": [
        "Inspecter le contenu du fichier:"
      ]
    },
    {
      "cell_type": "code",
      "execution_count": null,
      "id": "ba2890d2-2162-4e51-8324-0f7a4beec8fe",
      "metadata": {
        "id": "ba2890d2-2162-4e51-8324-0f7a4beec8fe",
        "colab": {
          "base_uri": "https://localhost:8080/",
          "height": 318
        },
        "outputId": "1165ddec-db3a-48f6-c103-3fe240165d81"
      },
      "outputs": [
        {
          "output_type": "execute_result",
          "data": {
            "text/plain": [
              "<Axes: >"
            ]
          },
          "metadata": {},
          "execution_count": 8
        },
        {
          "output_type": "display_data",
          "data": {
            "text/plain": [
              "<Figure size 640x480 with 1 Axes>"
            ],
            "image/png": "[encoded data removed]"
          },
          "metadata": {}
        }
      ],
      "source": [
        "pays.plot()"
      ]
    },
    {
      "cell_type": "markdown",
      "id": "65f6ed61-816b-4c6c-a149-0f91d3f58091",
      "metadata": {
        "id": "65f6ed61-816b-4c6c-a149-0f91d3f58091"
      },
      "source": [
        "### Lecture du fichier des données"
      ]
    },
    {
      "cell_type": "markdown",
      "id": "17955f3f-b146-48ec-8600-88c6fda21229",
      "metadata": {
        "id": "17955f3f-b146-48ec-8600-88c6fda21229"
      },
      "source": [
        "Les données se trouvent dans un fichier TSV qui était à l'intérieur de l'archive ZIP. Nous pouvons obtenir le chemin d'accès comme avant pour le fichier Shape, sauf que nous cherchons pour l'extension `.tsv`:"
      ]
    },
    {
      "cell_type": "code",
      "execution_count": null,
      "id": "70d85613-331f-48d7-9797-b7dc84d47607",
      "metadata": {
        "id": "70d85613-331f-48d7-9797-b7dc84d47607",
        "colab": {
          "base_uri": "https://localhost:8080/",
          "height": 36
        },
        "outputId": "c3e03bf8-d701-47cd-fdce-18f19bf1f8eb"
      },
      "outputs": [
        {
          "output_type": "execute_result",
          "data": {
            "text/plain": [
              "'/root/.cache/pooch/1e46bb8437871d9c298d7e2d61618148-demographie-monde.zip.unzip/demographie-monde/wb_extract_development_indicators_2023/wb_extract_development_indicators_2023.tsv'"
            ],
            "application/vnd.google.colaboratory.intrinsic+json": {
              "type": "string"
            }
          },
          "metadata": {},
          "execution_count": 9
        }
      ],
      "source": [
        "wb_data_path = [df for df in data_files if df.endswith('.tsv')][0]\n",
        "wb_data_path"
      ]
    },
    {
      "cell_type": "markdown",
      "id": "1d83611a-4c54-4e03-a69d-a9d7440bf75e",
      "metadata": {
        "id": "1d83611a-4c54-4e03-a69d-a9d7440bf75e"
      },
      "source": [
        "Nous pouvons lire le fichier avec Pandas. Il faut l'importer avant:"
      ]
    },
    {
      "cell_type": "code",
      "execution_count": null,
      "id": "a03db52b-ffee-4163-a0c5-6ad6040ffbe1",
      "metadata": {
        "id": "a03db52b-ffee-4163-a0c5-6ad6040ffbe1"
      },
      "outputs": [],
      "source": [
        "import pandas as pd"
      ]
    },
    {
      "cell_type": "code",
      "execution_count": null,
      "id": "b91c91fa-6411-4eda-ac1d-5dae5113204c",
      "metadata": {
        "id": "b91c91fa-6411-4eda-ac1d-5dae5113204c",
        "colab": {
          "base_uri": "https://localhost:8080/"
        },
        "outputId": "5f071580-ee44-4a1a-9249-5d63d286b1e8"
      },
      "outputs": [
        {
          "output_type": "stream",
          "name": "stdout",
          "text": [
            "     Country Name Country Code  \\\n",
            "0           World          WLD   \n",
            "1     Afghanistan          AFG   \n",
            "2         Albania          ALB   \n",
            "3         Algeria          DZA   \n",
            "4  American Samoa          ASM   \n",
            "\n",
            "  2023 [YR2023] - Access to electricity (% of population) [EG.ELC.ACCS.ZS]  \\\n",
            "0                                                 ..                         \n",
            "1                                                 ..                         \n",
            "2                                                 ..                         \n",
            "3                                                 ..                         \n",
            "4                                                 ..                         \n",
            "\n",
            "  2023 [YR2023] - Adjusted net national income (constant 2015 US$) [NY.ADJ.NNTY.KD]  \\\n",
            "0                                                 ..                                  \n",
            "1                                                 ..                                  \n",
            "2                                                 ..                                  \n",
            "3                                                 ..                                  \n",
            "4                                                 ..                                  \n",
            "\n",
            "  2023 [YR2023] - Adjusted net national income per capita (constant 2015 US$) [NY.ADJ.NNTY.PC.KD]  \\\n",
            "0                                                 ..                                                \n",
            "1                                                 ..                                                \n",
            "2                                                 ..                                                \n",
            "3                                                 ..                                                \n",
            "4                                                 ..                                                \n",
            "\n",
            "  2023 [YR2023] - Age dependency ratio, old (% of working-age population) [SP.POP.DPND.OL]  \\\n",
            "0                                   15.4483624438894                                         \n",
            "1                                   4.37390804047101                                         \n",
            "2                                   25.5923917690041                                         \n",
            "3                                   10.4992677448213                                         \n",
            "4                                   11.7842063021251                                         \n",
            "\n",
            "  2023 [YR2023] - Age dependency ratio, young (% of working-age population) [SP.POP.DPND.YG]  \\\n",
            "0                                   38.5234782855294                                           \n",
            "1                                   78.2419968218498                                           \n",
            "2                                     23.94372026333                                           \n",
            "3                                   48.3759959645842                                           \n",
            "4                                    41.455839759919                                           \n",
            "\n",
            "  2023 [YR2023] - Agricultural land (% of land area) [AG.LND.AGRI.ZS]  \\\n",
            "0                                                 ..                    \n",
            "1                                                 ..                    \n",
            "2                                                 ..                    \n",
            "3                                                 ..                    \n",
            "4                                                 ..                    \n",
            "\n",
            "  2023 [YR2023] - Agricultural land (sq. km) [AG.LND.AGRI.K2]  \\\n",
            "0                                                 ..            \n",
            "1                                                 ..            \n",
            "2                                                 ..            \n",
            "3                                                 ..            \n",
            "4                                                 ..            \n",
            "\n",
            "  2023 [YR2023] - Agriculture, forestry, and fishing, value added (% of GDP) [NV.AGR.TOTL.ZS]  \\\n",
            "0                                   4.12295910340848                                            \n",
            "1                                                 ..                                            \n",
            "2                                   18.2669838626379                                            \n",
            "3                                    13.153358713028                                            \n",
            "4                                                 ..                                            \n",
            "\n",
            "   ... 2023 [YR2023] - Population, female [SP.POP.TOTL.FE.IN]  \\\n",
            "0  ...                                         3992233117       \n",
            "1  ...                                           20920159       \n",
            "2  ...                                            1378159       \n",
            "3  ...                                           22389320       \n",
            "4  ...                                              22230       \n",
            "\n",
            "  2023 [YR2023] - Pupil-teacher ratio, primary [SE.PRM.ENRL.TC.ZS]  \\\n",
            "0                                                 ..                 \n",
            "1                                                 ..                 \n",
            "2                                                 ..                 \n",
            "3                                                 ..                 \n",
            "4                                                 ..                 \n",
            "\n",
            "  2023 [YR2023] - Pupil-teacher ratio, secondary [SE.SEC.ENRL.TC.ZS]  \\\n",
            "0                                                 ..                   \n",
            "1                                                 ..                   \n",
            "2                                                 ..                   \n",
            "3                                                 ..                   \n",
            "4                                                 ..                   \n",
            "\n",
            "  2023 [YR2023] - Pupil-teacher ratio, tertiary [SE.TER.ENRL.TC.ZS]  \\\n",
            "0                                                 ..                  \n",
            "1                                                 ..                  \n",
            "2                                                 ..                  \n",
            "3                                                 ..                  \n",
            "4                                                 ..                  \n",
            "\n",
            "  2023 [YR2023] - Rail lines (total route-km) [IS.RRS.TOTL.KM]  \\\n",
            "0                                                 ..             \n",
            "1                                                 ..             \n",
            "2                                                 ..             \n",
            "3                                                 ..             \n",
            "4                                                 ..             \n",
            "\n",
            "  2023 [YR2023] - Railways, passengers carried (million passenger-km) [IS.RRS.PASG.KM]  \\\n",
            "0                                                 ..                                     \n",
            "1                                                 ..                                     \n",
            "2                                                 ..                                     \n",
            "3                                                 ..                                     \n",
            "4                                                 ..                                     \n",
            "\n",
            "  2023 [YR2023] - Railways, goods transported (million ton-km) [IS.RRS.GOOD.MT.K6]  \\\n",
            "0                                                 ..                                 \n",
            "1                                                 ..                                 \n",
            "2                                                 ..                                 \n",
            "3                                                 ..                                 \n",
            "4                                                 ..                                 \n",
            "\n",
            "  2023 [YR2023] - Rural population [SP.RUR.TOTL]  \\\n",
            "0                                     3422928507   \n",
            "1                                       30863394   \n",
            "2                                         971992   \n",
            "3                                       11279395   \n",
            "4                                           5606   \n",
            "\n",
            "  2023 [YR2023] - Surface area (sq. km) [AG.SRF.TOTL.K2]  \\\n",
            "0                                                 ..       \n",
            "1                                                 ..       \n",
            "2                                                 ..       \n",
            "3                                                 ..       \n",
            "4                                                 ..       \n",
            "\n",
            "  2023 [YR2023] - Urban population [SP.URB.TOTL]  \n",
            "0                                     4600280070  \n",
            "1                                       11376460  \n",
            "2                                        1773980  \n",
            "3                                       34327085  \n",
            "4                                          38308  \n",
            "\n",
            "[5 rows x 82 columns]\n"
          ]
        }
      ],
      "source": [
        "wb_data = pd.read_csv(wb_data_path, sep='\\t')\n",
        "print(wb_data.head())"
      ]
    },
    {
      "cell_type": "markdown",
      "id": "f4d7a3c9-d8e2-4360-ac50-0660fc5e414e",
      "metadata": {
        "id": "f4d7a3c9-d8e2-4360-ac50-0660fc5e414e"
      },
      "source": [
        "Nous pouvons maintenant faire une jointure par attribut des données aux DataFrame des pays. Pour ceci, nous devons identifier deux colonnes qui contiennent la même information.\n",
        "\n",
        "Nous pouvons inspecter les colonnes des deux DataFrames:"
      ]
    },
    {
      "cell_type": "code",
      "execution_count": null,
      "id": "b8cc848c-99df-4d22-bacb-aa452d801d4d",
      "metadata": {
        "id": "b8cc848c-99df-4d22-bacb-aa452d801d4d",
        "colab": {
          "base_uri": "https://localhost:8080/"
        },
        "outputId": "fcc599e8-e096-48d6-e4da-457811c6f305"
      },
      "outputs": [
        {
          "output_type": "execute_result",
          "data": {
            "text/plain": [
              "['featurecla',\n",
              " 'scalerank',\n",
              " 'LABELRANK',\n",
              " 'SOVEREIGNT',\n",
              " 'SOV_A3',\n",
              " 'ADM0_DIF',\n",
              " 'LEVEL',\n",
              " 'TYPE',\n",
              " 'TLC',\n",
              " 'ADMIN',\n",
              " 'ADM0_A3',\n",
              " 'GEOU_DIF',\n",
              " 'GEOUNIT',\n",
              " 'GU_A3',\n",
              " 'SU_DIF',\n",
              " 'SUBUNIT',\n",
              " 'SU_A3',\n",
              " 'BRK_DIFF',\n",
              " 'NAME',\n",
              " 'NAME_LONG',\n",
              " 'BRK_A3',\n",
              " 'BRK_NAME',\n",
              " 'BRK_GROUP',\n",
              " 'ABBREV',\n",
              " 'POSTAL',\n",
              " 'FORMAL_EN',\n",
              " 'FORMAL_FR',\n",
              " 'NAME_CIAWF',\n",
              " 'NOTE_ADM0',\n",
              " 'NOTE_BRK',\n",
              " 'NAME_SORT',\n",
              " 'NAME_ALT',\n",
              " 'MAPCOLOR7',\n",
              " 'MAPCOLOR8',\n",
              " 'MAPCOLOR9',\n",
              " 'MAPCOLOR13',\n",
              " 'POP_EST',\n",
              " 'POP_RANK',\n",
              " 'POP_YEAR',\n",
              " 'GDP_MD',\n",
              " 'GDP_YEAR',\n",
              " 'ECONOMY',\n",
              " 'INCOME_GRP',\n",
              " 'FIPS_10',\n",
              " 'ISO_A2',\n",
              " 'ISO_A2_EH',\n",
              " 'ISO_A3',\n",
              " 'ISO_A3_EH',\n",
              " 'ISO_N3',\n",
              " 'ISO_N3_EH',\n",
              " 'UN_A3',\n",
              " 'WB_A2',\n",
              " 'WB_A3',\n",
              " 'WOE_ID',\n",
              " 'WOE_ID_EH',\n",
              " 'WOE_NOTE',\n",
              " 'ADM0_ISO',\n",
              " 'ADM0_DIFF',\n",
              " 'ADM0_TLC',\n",
              " 'ADM0_A3_US',\n",
              " 'ADM0_A3_FR',\n",
              " 'ADM0_A3_RU',\n",
              " 'ADM0_A3_ES',\n",
              " 'ADM0_A3_CN',\n",
              " 'ADM0_A3_TW',\n",
              " 'ADM0_A3_IN',\n",
              " 'ADM0_A3_NP',\n",
              " 'ADM0_A3_PK',\n",
              " 'ADM0_A3_DE',\n",
              " 'ADM0_A3_GB',\n",
              " 'ADM0_A3_BR',\n",
              " 'ADM0_A3_IL',\n",
              " 'ADM0_A3_PS',\n",
              " 'ADM0_A3_SA',\n",
              " 'ADM0_A3_EG',\n",
              " 'ADM0_A3_MA',\n",
              " 'ADM0_A3_PT',\n",
              " 'ADM0_A3_AR',\n",
              " 'ADM0_A3_JP',\n",
              " 'ADM0_A3_KO',\n",
              " 'ADM0_A3_VN',\n",
              " 'ADM0_A3_TR',\n",
              " 'ADM0_A3_ID',\n",
              " 'ADM0_A3_PL',\n",
              " 'ADM0_A3_GR',\n",
              " 'ADM0_A3_IT',\n",
              " 'ADM0_A3_NL',\n",
              " 'ADM0_A3_SE',\n",
              " 'ADM0_A3_BD',\n",
              " 'ADM0_A3_UA',\n",
              " 'ADM0_A3_UN',\n",
              " 'ADM0_A3_WB',\n",
              " 'CONTINENT',\n",
              " 'REGION_UN',\n",
              " 'SUBREGION',\n",
              " 'REGION_WB',\n",
              " 'NAME_LEN',\n",
              " 'LONG_LEN',\n",
              " 'ABBREV_LEN',\n",
              " 'TINY',\n",
              " 'HOMEPART',\n",
              " 'MIN_ZOOM',\n",
              " 'MIN_LABEL',\n",
              " 'MAX_LABEL',\n",
              " 'LABEL_X',\n",
              " 'LABEL_Y',\n",
              " 'NE_ID',\n",
              " 'WIKIDATAID',\n",
              " 'NAME_AR',\n",
              " 'NAME_BN',\n",
              " 'NAME_DE',\n",
              " 'NAME_EN',\n",
              " 'NAME_ES',\n",
              " 'NAME_FA',\n",
              " 'NAME_FR',\n",
              " 'NAME_EL',\n",
              " 'NAME_HE',\n",
              " 'NAME_HI',\n",
              " 'NAME_HU',\n",
              " 'NAME_ID',\n",
              " 'NAME_IT',\n",
              " 'NAME_JA',\n",
              " 'NAME_KO',\n",
              " 'NAME_NL',\n",
              " 'NAME_PL',\n",
              " 'NAME_PT',\n",
              " 'NAME_RU',\n",
              " 'NAME_SV',\n",
              " 'NAME_TR',\n",
              " 'NAME_UK',\n",
              " 'NAME_UR',\n",
              " 'NAME_VI',\n",
              " 'NAME_ZH',\n",
              " 'NAME_ZHT',\n",
              " 'FCLASS_ISO',\n",
              " 'TLC_DIFF',\n",
              " 'FCLASS_TLC',\n",
              " 'FCLASS_US',\n",
              " 'FCLASS_FR',\n",
              " 'FCLASS_RU',\n",
              " 'FCLASS_ES',\n",
              " 'FCLASS_CN',\n",
              " 'FCLASS_TW',\n",
              " 'FCLASS_IN',\n",
              " 'FCLASS_NP',\n",
              " 'FCLASS_PK',\n",
              " 'FCLASS_DE',\n",
              " 'FCLASS_GB',\n",
              " 'FCLASS_BR',\n",
              " 'FCLASS_IL',\n",
              " 'FCLASS_PS',\n",
              " 'FCLASS_SA',\n",
              " 'FCLASS_EG',\n",
              " 'FCLASS_MA',\n",
              " 'FCLASS_PT',\n",
              " 'FCLASS_AR',\n",
              " 'FCLASS_JP',\n",
              " 'FCLASS_KO',\n",
              " 'FCLASS_VN',\n",
              " 'FCLASS_TR',\n",
              " 'FCLASS_ID',\n",
              " 'FCLASS_PL',\n",
              " 'FCLASS_GR',\n",
              " 'FCLASS_IT',\n",
              " 'FCLASS_NL',\n",
              " 'FCLASS_SE',\n",
              " 'FCLASS_BD',\n",
              " 'FCLASS_UA',\n",
              " 'geometry']"
            ]
          },
          "metadata": {},
          "execution_count": 12
        }
      ],
      "source": [
        "pays.columns.tolist()"
      ]
    },
    {
      "cell_type": "code",
      "execution_count": null,
      "id": "cdf2edfd-4fec-4d6c-a7ac-f86ffd04181e",
      "metadata": {
        "id": "cdf2edfd-4fec-4d6c-a7ac-f86ffd04181e",
        "colab": {
          "base_uri": "https://localhost:8080/"
        },
        "outputId": "72d7b0b1-090e-4e82-c227-25fb3735e871"
      },
      "outputs": [
        {
          "output_type": "execute_result",
          "data": {
            "text/plain": [
              "['Country Name',\n",
              " 'Country Code',\n",
              " '2023 [YR2023] - Access to electricity (% of population) [EG.ELC.ACCS.ZS]',\n",
              " '2023 [YR2023] - Adjusted net national income (constant 2015 US$) [NY.ADJ.NNTY.KD]',\n",
              " '2023 [YR2023] - Adjusted net national income per capita (constant 2015 US$) [NY.ADJ.NNTY.PC.KD]',\n",
              " '2023 [YR2023] - Age dependency ratio, old (% of working-age population) [SP.POP.DPND.OL]',\n",
              " '2023 [YR2023] - Age dependency ratio, young (% of working-age population) [SP.POP.DPND.YG]',\n",
              " '2023 [YR2023] - Agricultural land (% of land area) [AG.LND.AGRI.ZS]',\n",
              " '2023 [YR2023] - Agricultural land (sq. km) [AG.LND.AGRI.K2]',\n",
              " '2023 [YR2023] - Agriculture, forestry, and fishing, value added (% of GDP) [NV.AGR.TOTL.ZS]',\n",
              " '2023 [YR2023] - Armed forces personnel (% of total labor force) [MS.MIL.TOTL.TF.ZS]',\n",
              " '2023 [YR2023] - Armed forces personnel, total [MS.MIL.TOTL.P1]',\n",
              " '2023 [YR2023] - Birth rate, crude (per 1,000 people) [SP.DYN.CBRT.IN]',\n",
              " '2023 [YR2023] - Births attended by skilled health staff (% of total) [SH.STA.BRTC.ZS]',\n",
              " '2023 [YR2023] - Compulsory education, duration (years) [SE.COM.DURS]',\n",
              " '2023 [YR2023] - Coverage of social insurance programs (% of population) [per_si_allsi.cov_pop_tot]',\n",
              " '2023 [YR2023] - Crop production index (2014-2016 = 100) [AG.PRD.CROP.XD]',\n",
              " '2023 [YR2023] - Current health expenditure (% of GDP) [SH.XPD.CHEX.GD.ZS]',\n",
              " '2023 [YR2023] - Current health expenditure per capita (current US$) [SH.XPD.CHEX.PC.CD]',\n",
              " '2023 [YR2023] - Death rate, crude (per 1,000 people) [SP.DYN.CDRT.IN]',\n",
              " '2023 [YR2023] - Ease of doing business rank (1=most business-friendly regulations) [IC.BUS.EASE.XQ]',\n",
              " '2023 [YR2023] - Electric power consumption (kWh per capita) [EG.USE.ELEC.KH.PC]',\n",
              " '2023 [YR2023] - Electricity production from coal sources (% of total) [EG.ELC.COAL.ZS]',\n",
              " '2023 [YR2023] - Electricity production from hydroelectric sources (% of total) [EG.ELC.HYRO.ZS]',\n",
              " '2023 [YR2023] - Electricity production from nuclear sources (% of total) [EG.ELC.NUCL.ZS]',\n",
              " '2023 [YR2023] - Energy imports, net (% of energy use) [EG.IMP.CONS.ZS]',\n",
              " '2023 [YR2023] - Energy use (kg of oil equivalent per capita) [EG.USE.PCAP.KG.OE]',\n",
              " '2023 [YR2023] - Energy use (kg of oil equivalent) per $1,000 GDP (constant 2021 PPP) [EG.USE.COMM.GD.PP.KD]',\n",
              " '2023 [YR2023] - Expense (% of GDP) [GC.XPN.TOTL.GD.ZS]',\n",
              " '2023 [YR2023] - Fertility rate, total (births per woman) [SP.DYN.TFRT.IN]',\n",
              " '2023 [YR2023] - Fertilizer consumption (kilograms per hectare of arable land) [AG.CON.FERT.ZS]',\n",
              " '2023 [YR2023] - Gini index [SI.POV.GINI]',\n",
              " '2023 [YR2023] - Government Effectiveness: Estimate [GE.EST]',\n",
              " '2023 [YR2023] - Incidence of HIV, ages 15-24 (per 1,000 uninfected population ages 15-24) [SH.HIV.INCD.YG.P3]',\n",
              " '2023 [YR2023] - Incidence of HIV, ages 15-49 (per 1,000 uninfected population ages 15-49) [SH.HIV.INCD.ZS]',\n",
              " '2023 [YR2023] - Incidence of HIV, all (per 1,000 uninfected population) [SH.HIV.INCD.TL.P3]',\n",
              " '2023 [YR2023] - Incidence of malaria (per 1,000 population at risk) [SH.MLR.INCD.P3]',\n",
              " '2023 [YR2023] - Incidence of tuberculosis (per 100,000 people) [SH.TBS.INCD]',\n",
              " '2023 [YR2023] - Income share held by highest 10% [SI.DST.10TH.10]',\n",
              " '2023 [YR2023] - Income share held by lowest 10% [SI.DST.FRST.10]',\n",
              " '2023 [YR2023] - Individuals using the Internet (% of population) [IT.NET.USER.ZS]',\n",
              " '2023 [YR2023] - Individuals using the Internet, female (% of female population) [IT.NET.USER.FE.ZS]',\n",
              " '2023 [YR2023] - Individuals using the Internet, male (% of male population) [IT.NET.USER.MA.ZS]',\n",
              " '2023 [YR2023] - Inflation, consumer prices (annual %) [FP.CPI.TOTL.ZG]',\n",
              " '2023 [YR2023] - Labor force, female (% of total labor force) [SL.TLF.TOTL.FE.ZS]',\n",
              " '2023 [YR2023] - Labor force, total [SL.TLF.TOTL.IN]',\n",
              " '2023 [YR2023] - Life expectancy at birth, total (years) [SP.DYN.LE00.IN]',\n",
              " '2023 [YR2023] - Livestock production index (2014-2016 = 100) [AG.PRD.LVSK.XD]',\n",
              " '2023 [YR2023] - Military expenditure (% of GDP) [MS.MIL.XPND.GD.ZS]',\n",
              " '2023 [YR2023] - Military expenditure (% of general government expenditure) [MS.MIL.XPND.ZS]',\n",
              " '2023 [YR2023] - New businesses registered (number) [IC.BUS.NREG]',\n",
              " '2023 [YR2023] - Number of infant deaths [SH.DTH.IMRT]',\n",
              " '2023 [YR2023] - Number of neonatal deaths [SH.DTH.NMRT]',\n",
              " '2023 [YR2023] - Number of maternal deaths [SH.MMR.DTHS]',\n",
              " '2023 [YR2023] - People using at least basic drinking water services (% of population) [SH.H2O.BASW.ZS]',\n",
              " '2023 [YR2023] - Physicians (per 1,000 people) [SH.MED.PHYS.ZS]',\n",
              " '2023 [YR2023] - PM2.5 air pollution, mean annual exposure (micrograms per cubic meter) [EN.ATM.PM25.MC.M3]',\n",
              " '2023 [YR2023] - PM2.5 air pollution, population exposed to levels exceeding WHO guideline value (% of total) [EN.ATM.PM25.MC.ZS]',\n",
              " '2023 [YR2023] - Population growth (annual %) [SP.POP.GROW]',\n",
              " '2023 [YR2023] - Population density (people per sq. km of land area) [EN.POP.DNST]',\n",
              " '2023 [YR2023] - Population ages 65 and above, total [SP.POP.65UP.TO]',\n",
              " '2023 [YR2023] - Population ages 15-64, total [SP.POP.1564.TO]',\n",
              " '2023 [YR2023] - Population ages 15-64, male [SP.POP.1564.MA.IN]',\n",
              " '2023 [YR2023] - Population ages 15-64, female [SP.POP.1564.FE.IN]',\n",
              " '2023 [YR2023] - Population ages 0-14, total [SP.POP.0014.TO]',\n",
              " '2023 [YR2023] - Population ages 0-14, male [SP.POP.0014.MA.IN]',\n",
              " '2023 [YR2023] - Population ages 0-14, female [SP.POP.0014.FE.IN]',\n",
              " '2023 [YR2023] - Population ages 65 and above, male [SP.POP.65UP.MA.IN]',\n",
              " '2023 [YR2023] - Population ages 65 and above, female [SP.POP.65UP.FE.IN]',\n",
              " '2023 [YR2023] - Population in largest city [EN.URB.LCTY]',\n",
              " '2023 [YR2023] - Population, total [SP.POP.TOTL]',\n",
              " '2023 [YR2023] - Population, male [SP.POP.TOTL.MA.IN]',\n",
              " '2023 [YR2023] - Population, female [SP.POP.TOTL.FE.IN]',\n",
              " '2023 [YR2023] - Pupil-teacher ratio, primary [SE.PRM.ENRL.TC.ZS]',\n",
              " '2023 [YR2023] - Pupil-teacher ratio, secondary [SE.SEC.ENRL.TC.ZS]',\n",
              " '2023 [YR2023] - Pupil-teacher ratio, tertiary [SE.TER.ENRL.TC.ZS]',\n",
              " '2023 [YR2023] - Rail lines (total route-km) [IS.RRS.TOTL.KM]',\n",
              " '2023 [YR2023] - Railways, passengers carried (million passenger-km) [IS.RRS.PASG.KM]',\n",
              " '2023 [YR2023] - Railways, goods transported (million ton-km) [IS.RRS.GOOD.MT.K6]',\n",
              " '2023 [YR2023] - Rural population [SP.RUR.TOTL]',\n",
              " '2023 [YR2023] - Surface area (sq. km) [AG.SRF.TOTL.K2]',\n",
              " '2023 [YR2023] - Urban population [SP.URB.TOTL]']"
            ]
          },
          "metadata": {},
          "execution_count": 13
        }
      ],
      "source": [
        "wb_data.columns.tolist()"
      ]
    },
    {
      "cell_type": "markdown",
      "id": "e7511bb1-5680-4685-8620-a99423ded36a",
      "metadata": {
        "id": "e7511bb1-5680-4685-8620-a99423ded36a"
      },
      "source": [
        "Nous allons utiliser la colonne `WB_A3` du DataFrame des pays, et la colonne `Country Code` du DataFrame des données de la Banque mondiale.\n",
        "\n",
        "Nous pouvons maintenant faire la jointure avec la fonction `merge`:"
      ]
    },
    {
      "cell_type": "code",
      "execution_count": null,
      "id": "0be767fa-2b8b-457e-a540-0d7845a6ec62",
      "metadata": {
        "id": "0be767fa-2b8b-457e-a540-0d7845a6ec62"
      },
      "outputs": [],
      "source": [
        "pays_data = pays.merge(wb_data, left_on='WB_A3', right_on='Country Code', how='left')"
      ]
    },
    {
      "cell_type": "markdown",
      "id": "364b3fa9-2ef0-48f5-b52c-eb08042d230e",
      "metadata": {
        "id": "364b3fa9-2ef0-48f5-b52c-eb08042d230e"
      },
      "source": [
        "### Calculer un indicateur d'âge\n",
        "\n",
        "Nous allons calculer un indicateur d’âge, défini comme le rapport entre la population âgée (65 ans et plus) et la population jeune (0-14 ans), ou plus extactement le nombre de personnes âgées (65 ans et plus) pour 100 personnes jeunes (0 à 14 ans).\n",
        "\n",
        "Le calcul est assez simple une fois que l'on a trouvé les noms des colonnes. Vu que les noms des colonnes ne sont vraiment pas simples, nous le gardons dans une variable:"
      ]
    },
    {
      "cell_type": "code",
      "execution_count": null,
      "id": "1f1e4be2-bc69-4695-a761-39253c252ef7",
      "metadata": {
        "id": "1f1e4be2-bc69-4695-a761-39253c252ef7"
      },
      "outputs": [],
      "source": [
        "indic_vieux = '2023 [YR2023] - Population ages 65 and above, total [SP.POP.65UP.TO]'\n",
        "indic_jeunes = '2023 [YR2023] - Population ages 0-14, total [SP.POP.0014.TO]'"
      ]
    },
    {
      "cell_type": "markdown",
      "id": "e101c601-9cb3-455c-9472-2fed777da55b",
      "metadata": {
        "id": "e101c601-9cb3-455c-9472-2fed777da55b"
      },
      "source": [
        "Avant de procéder au calcul, nous devons nous assurer que les valeurs sont numériques et que les valeurs non numériques sont des `NaN` (avec `errors = 'coerce'`):"
      ]
    },
    {
      "cell_type": "code",
      "execution_count": null,
      "id": "b2fdf4fa-63bf-4a3b-a53f-424639a93bd9",
      "metadata": {
        "id": "b2fdf4fa-63bf-4a3b-a53f-424639a93bd9"
      },
      "outputs": [],
      "source": [
        "pays_data[indic_vieux] = pd.to_numeric(pays_data[indic_vieux], errors='coerce')\n",
        "pays_data[indic_jeunes] = pd.to_numeric(pays_data[indic_jeunes], errors='coerce')"
      ]
    },
    {
      "cell_type": "markdown",
      "id": "d8a8c288-758c-4e49-b3d4-10be2f860402",
      "metadata": {
        "id": "d8a8c288-758c-4e49-b3d4-10be2f860402"
      },
      "source": [
        "Ensuite le calcul en tant que tel:"
      ]
    },
    {
      "cell_type": "code",
      "execution_count": null,
      "id": "0276e77a-f6a8-47b4-84f0-cacb08b25e39",
      "metadata": {
        "id": "0276e77a-f6a8-47b4-84f0-cacb08b25e39"
      },
      "outputs": [],
      "source": [
        "pays_data['indic_age'] = pays_data[indic_vieux] / pays_data[indic_jeunes] * 100"
      ]
    },
    {
      "cell_type": "markdown",
      "id": "54ed0c3a-f52e-4833-bf04-80060eebf94b",
      "metadata": {
        "id": "54ed0c3a-f52e-4833-bf04-80060eebf94b"
      },
      "source": [
        "Vérifier le calcul:"
      ]
    },
    {
      "cell_type": "code",
      "execution_count": null,
      "id": "55213edf-0691-456e-bd71-6a53adc5a45c",
      "metadata": {
        "id": "55213edf-0691-456e-bd71-6a53adc5a45c",
        "colab": {
          "base_uri": "https://localhost:8080/",
          "height": 458
        },
        "outputId": "b3afccdf-4021-47c1-d683-82f4f7080423"
      },
      "outputs": [
        {
          "output_type": "execute_result",
          "data": {
            "text/plain": [
              "0        8.182359\n",
              "1        4.166559\n",
              "2        6.780921\n",
              "3       43.005289\n",
              "4       32.965688\n",
              "          ...    \n",
              "237      5.590231\n",
              "238           NaN\n",
              "239           NaN\n",
              "240    112.228705\n",
              "241     21.039536\n",
              "Name: indic_age, Length: 242, dtype: float64"
            ],
            "text/html": [
              "<div>\n",
              "<style scoped>\n",
              "    .dataframe tbody tr th:only-of-type {\n",
              "        vertical-align: middle;\n",
              "    }\n",
              "\n",
              "    .dataframe tbody tr th {\n",
              "        vertical-align: top;\n",
              "    }\n",
              "\n",
              "    .dataframe thead th {\n",
              "        text-align: right;\n",
              "    }\n",
              "</style>\n",
              "<table border=\"1\" class=\"dataframe\">\n",
              "  <thead>\n",
              "    <tr style=\"text-align: right;\">\n",
              "      <th></th>\n",
              "      <th>indic_age</th>\n",
              "    </tr>\n",
              "  </thead>\n",
              "  <tbody>\n",
              "    <tr>\n",
              "      <th>0</th>\n",
              "      <td>8.182359</td>\n",
              "    </tr>\n",
              "    <tr>\n",
              "      <th>1</th>\n",
              "      <td>4.166559</td>\n",
              "    </tr>\n",
              "    <tr>\n",
              "      <th>2</th>\n",
              "      <td>6.780921</td>\n",
              "    </tr>\n",
              "    <tr>\n",
              "      <th>3</th>\n",
              "      <td>43.005289</td>\n",
              "    </tr>\n",
              "    <tr>\n",
              "      <th>4</th>\n",
              "      <td>32.965688</td>\n",
              "    </tr>\n",
              "    <tr>\n",
              "      <th>...</th>\n",
              "      <td>...</td>\n",
              "    </tr>\n",
              "    <tr>\n",
              "      <th>237</th>\n",
              "      <td>5.590231</td>\n",
              "    </tr>\n",
              "    <tr>\n",
              "      <th>238</th>\n",
              "      <td>NaN</td>\n",
              "    </tr>\n",
              "    <tr>\n",
              "      <th>239</th>\n",
              "      <td>NaN</td>\n",
              "    </tr>\n",
              "    <tr>\n",
              "      <th>240</th>\n",
              "      <td>112.228705</td>\n",
              "    </tr>\n",
              "    <tr>\n",
              "      <th>241</th>\n",
              "      <td>21.039536</td>\n",
              "    </tr>\n",
              "  </tbody>\n",
              "</table>\n",
              "<p>242 rows × 1 columns</p>\n",
              "</div><br><label><b>dtype:</b> float64</label>"
            ]
          },
          "metadata": {},
          "execution_count": 18
        }
      ],
      "source": [
        "pays_data['indic_age']"
      ]
    },
    {
      "cell_type": "markdown",
      "id": "a5fabbbe-f3c9-452e-8f65-e18c767c0eb4",
      "metadata": {
        "id": "a5fabbbe-f3c9-452e-8f65-e18c767c0eb4"
      },
      "source": [
        "### Créer des classes et faire le décompte des personnes\n",
        "\n",
        "Nous allons maintenant diviser les pays en 5 classes selon l'indicateur d'âge. chaque classe aura à peu près le même nombre de pays. Nous utilisons la fonction `qcut` de Pandas pour cela. Consultez la documentation Pandas pour en savoir plus:"
      ]
    },
    {
      "cell_type": "code",
      "execution_count": null,
      "id": "36d3cde0-d303-4449-8c52-1712d6e05fd7",
      "metadata": {
        "id": "36d3cde0-d303-4449-8c52-1712d6e05fd7"
      },
      "outputs": [],
      "source": [
        "pays_data['indic_age_cls'] = pd.qcut(pays_data['indic_age'], q=5, labels=False)"
      ]
    },
    {
      "cell_type": "markdown",
      "id": "ccc0a2e4-7325-45a8-aab1-c57f64e2b5c8",
      "metadata": {
        "id": "ccc0a2e4-7325-45a8-aab1-c57f64e2b5c8"
      },
      "source": [
        "Et inspecter le résultat:"
      ]
    },
    {
      "cell_type": "code",
      "execution_count": null,
      "id": "b75a07c7-4e79-45ea-a085-6bbefc55f690",
      "metadata": {
        "id": "b75a07c7-4e79-45ea-a085-6bbefc55f690",
        "colab": {
          "base_uri": "https://localhost:8080/"
        },
        "outputId": "23fa7630-869a-4425-b89c-54edf09e48cc"
      },
      "outputs": [
        {
          "output_type": "stream",
          "name": "stdout",
          "text": [
            "        NAME  indic_age_cls\n",
            "0   Zimbabwe            0.0\n",
            "1     Zambia            0.0\n",
            "2      Yemen            0.0\n",
            "3    Vietnam            2.0\n",
            "4  Venezuela            2.0\n"
          ]
        }
      ],
      "source": [
        "print(pays_data[['NAME', 'indic_age_cls']].head())"
      ]
    },
    {
      "cell_type": "markdown",
      "id": "c646bbb6-29f0-40b1-a1f1-7b913410b3b5",
      "metadata": {
        "id": "c646bbb6-29f0-40b1-a1f1-7b913410b3b5"
      },
      "source": [
        "Regardons le résultat sur une carte rapide:"
      ]
    },
    {
      "cell_type": "code",
      "execution_count": null,
      "id": "2eff67cc-62bf-4e92-869b-32c8c73d72fa",
      "metadata": {
        "id": "2eff67cc-62bf-4e92-869b-32c8c73d72fa",
        "colab": {
          "base_uri": "https://localhost:8080/",
          "height": 993
        },
        "outputId": "fa332a05-269b-4b0e-ae1a-57c58c9c3810"
      },
      "outputs": [
        {
          "output_type": "execute_result",
          "data": {
            "text/plain": [
              "<Axes: >"
            ]
          },
          "metadata": {},
          "execution_count": 21
        },
        {
          "output_type": "display_data",
          "data": {
            "text/plain": [
              "<Figure size 1600x1200 with 2 Axes>"
            ],
            "image/png": "[encoded data removed]"
          },
          "metadata": {}
        }
      ],
      "source": [
        "pays_data.plot(\n",
        "    column = 'indic_age_cls',\n",
        "    cmap = 'viridis',\n",
        "    legend = True,\n",
        "    figsize = (16, 12)\n",
        ")"
      ]
    },
    {
      "cell_type": "markdown",
      "id": "9daeb39b-c4c9-464f-bd0f-3b039e070f5c",
      "metadata": {
        "id": "9daeb39b-c4c9-464f-bd0f-3b039e070f5c"
      },
      "source": [
        "Nous avons certainement vu des meilleures cartes... mais elle fait l'affaire pour le moment. L'indicateur d'âge représente le ratio vieux / jeunes, et plus l'indicateur est élevé, plus il y a de personnes âgées par rapport aux jeunes. Il représente donc une facette du veillissement de la population, avec surtout les pays occidentaux ayant une valeur élevée.\n",
        "\n",
        "Nous pouvons maintenant compter combien de personnes appartiennent à quelle classe de l'indicateur d'âge. Cette opération d'agrégation s'appelle un **«group by»** et on groupe toutes les entités avec la même valeur. Ensuite, on peut calculer des statistiques sur ces groupes, en l'occurrence la somme:"
      ]
    },
    {
      "cell_type": "code",
      "execution_count": null,
      "id": "587249e7-b53b-46f5-8d55-f6b58f68cb43",
      "metadata": {
        "id": "587249e7-b53b-46f5-8d55-f6b58f68cb43"
      },
      "outputs": [],
      "source": [
        "col_pop = '2023 [YR2023] - Population, total [SP.POP.TOTL]'\n",
        "pays_data[col_pop] = pd.to_numeric(pays_data[col_pop], errors='coerce')\n",
        "pop_par_classe = pays_data.groupby('indic_age_cls')[col_pop].sum()"
      ]
    },
    {
      "cell_type": "code",
      "execution_count": null,
      "id": "24db7115-7709-4520-999f-f5f17709ecdc",
      "metadata": {
        "id": "24db7115-7709-4520-999f-f5f17709ecdc",
        "colab": {
          "base_uri": "https://localhost:8080/",
          "height": 272
        },
        "outputId": "bd025b4c-7ee1-48ca-8fe8-a04a85cef6bd"
      },
      "outputs": [
        {
          "output_type": "execute_result",
          "data": {
            "text/plain": [
              "indic_age_cls\n",
              "0.0    1.194982e+09\n",
              "1.0    8.251452e+08\n",
              "2.0    2.685410e+09\n",
              "3.0    2.379984e+09\n",
              "4.0    7.809146e+08\n",
              "Name: 2023 [YR2023] - Population, total [SP.POP.TOTL], dtype: float64"
            ],
            "text/html": [
              "<div>\n",
              "<style scoped>\n",
              "    .dataframe tbody tr th:only-of-type {\n",
              "        vertical-align: middle;\n",
              "    }\n",
              "\n",
              "    .dataframe tbody tr th {\n",
              "        vertical-align: top;\n",
              "    }\n",
              "\n",
              "    .dataframe thead th {\n",
              "        text-align: right;\n",
              "    }\n",
              "</style>\n",
              "<table border=\"1\" class=\"dataframe\">\n",
              "  <thead>\n",
              "    <tr style=\"text-align: right;\">\n",
              "      <th></th>\n",
              "      <th>2023 [YR2023] - Population, total [SP.POP.TOTL]</th>\n",
              "    </tr>\n",
              "    <tr>\n",
              "      <th>indic_age_cls</th>\n",
              "      <th></th>\n",
              "    </tr>\n",
              "  </thead>\n",
              "  <tbody>\n",
              "    <tr>\n",
              "      <th>0.0</th>\n",
              "      <td>1.194982e+09</td>\n",
              "    </tr>\n",
              "    <tr>\n",
              "      <th>1.0</th>\n",
              "      <td>8.251452e+08</td>\n",
              "    </tr>\n",
              "    <tr>\n",
              "      <th>2.0</th>\n",
              "      <td>2.685410e+09</td>\n",
              "    </tr>\n",
              "    <tr>\n",
              "      <th>3.0</th>\n",
              "      <td>2.379984e+09</td>\n",
              "    </tr>\n",
              "    <tr>\n",
              "      <th>4.0</th>\n",
              "      <td>7.809146e+08</td>\n",
              "    </tr>\n",
              "  </tbody>\n",
              "</table>\n",
              "</div><br><label><b>dtype:</b> float64</label>"
            ]
          },
          "metadata": {},
          "execution_count": 23
        }
      ],
      "source": [
        "pop_par_classe"
      ]
    },
    {
      "cell_type": "markdown",
      "id": "662c7122-fb44-42bd-b224-5408d3b3dd54",
      "metadata": {
        "id": "662c7122-fb44-42bd-b224-5408d3b3dd54"
      },
      "source": [
        "Nous pouvons maintenant faire un graphique avec Matplotlib:"
      ]
    },
    {
      "cell_type": "code",
      "execution_count": null,
      "id": "b32b4077-b6b8-442a-bc36-bc546bfb255b",
      "metadata": {
        "id": "b32b4077-b6b8-442a-bc36-bc546bfb255b"
      },
      "outputs": [],
      "source": [
        "import matplotlib.pyplot as plt"
      ]
    },
    {
      "cell_type": "code",
      "execution_count": null,
      "id": "524d7a89-0e0c-4db0-a035-65c783186165",
      "metadata": {
        "id": "524d7a89-0e0c-4db0-a035-65c783186165",
        "colab": {
          "base_uri": "https://localhost:8080/",
          "height": 480
        },
        "outputId": "9b607d9a-edd4-4ab3-d718-fff32ce43407"
      },
      "outputs": [
        {
          "output_type": "display_data",
          "data": {
            "text/plain": [
              "<Figure size 640x480 with 1 Axes>"
            ],
            "image/png": "[encoded data removed]"
          },
          "metadata": {}
        }
      ],
      "source": [
        "pop_par_classe.plot(kind=\"bar\", color=\"darkblue\", edgecolor=\"white\")\n",
        "plt.title(\"Population par classe du ratio vieux / jeunes\")\n",
        "plt.xlabel(\"Class du ratio vieux / jeunes\")\n",
        "plt.ylabel(\"Population\")\n",
        "plt.show()"
      ]
    },
    {
      "cell_type": "markdown",
      "id": "38b9dfb9-0181-41be-b6e5-b7fed62e6cc9",
      "metadata": {
        "id": "38b9dfb9-0181-41be-b6e5-b7fed62e6cc9"
      },
      "source": [
        "Pour finir cette partie, nous écrivons le jeu de données final dans un fichier Parquet:"
      ]
    },
    {
      "cell_type": "code",
      "execution_count": null,
      "id": "6e7b9a14-feb6-4a4f-b8ad-0a6510be8f06",
      "metadata": {
        "id": "6e7b9a14-feb6-4a4f-b8ad-0a6510be8f06"
      },
      "outputs": [],
      "source": [
        "pays_data.to_file('pays_data.gpkg', driver='GPKG', layer='pays_data')"
      ]
    },
    {
      "cell_type": "markdown",
      "id": "872979cd-982d-427f-9a28-a65825df97ef",
      "metadata": {
        "id": "872979cd-982d-427f-9a28-a65825df97ef"
      },
      "source": [
        "## Partie 2: Analyse des données OpenStreetMap d'Estonie"
      ]
    },
    {
      "cell_type": "markdown",
      "id": "2f6b070e-629b-4e21-bc2c-ebabf57e6e9c",
      "metadata": {
        "id": "2f6b070e-629b-4e21-bc2c-ebabf57e6e9c"
      },
      "source": [
        "Les données OpenStreetMap contiennent beaucoup de données que nous pouvons exploiter pour différentes analyses. Nous allons montrer quelques exemples concrets dans cette partie.\n",
        "\n",
        "Il faut noter que les données OpenStreetMap sont des données qui sont générées par les utilisateurs et elles ne sont pas partout complètes au même degré. Dans certaines régions, l'administration publique contribue également aux données. Ou certaines entreprises utilisent les données OpenStreetMap dans leurs produits et aident à compléter la base de données (p.ex. Facebook, Apple, Microsoft utilisent tous les données OSM dans leur cartes).\n",
        "\n",
        "Par ailleurs, si vous constatez que les données sur OpenStreetMap ne sont pas complètes, n'hésitez pas à les compléter sur [osm.org](https://osm.org). Àprès connexion, il y a un bouton «Éditer» qui devient disponible..."
      ]
    },
    {
      "cell_type": "markdown",
      "id": "aa15fa93-9dc1-4b0c-b818-997e56d86835",
      "metadata": {
        "id": "aa15fa93-9dc1-4b0c-b818-997e56d86835"
      },
      "source": [
        "### Les bancs publics d'Estonie\n",
        "\n",
        "Pour commencer, nous pouvons télécharger les données OpenStreetMap d'Estonie depuis l'URL suivante: [https://files.swisscarto.ch/geoinf1/analyse-estonie.zip](https://files.swisscarto.ch/geoinf1/analyse-estonie.zip).\n",
        "\n",
        "L'archive ZIP contient également des régions administratives d'Estonie. Ces données viennent de l'Office statistique d'Estonie et contiennent également une information sur la population par région.\n",
        "\n",
        "Nous pouvons à nouveau utiliser Pooch pour télécharger l'archive et ensuite la décompresser:"
      ]
    },
    {
      "cell_type": "code",
      "execution_count": null,
      "id": "cc28d156-5dc8-421a-8f0f-d5e6e116e204",
      "metadata": {
        "id": "cc28d156-5dc8-421a-8f0f-d5e6e116e204",
        "colab": {
          "base_uri": "https://localhost:8080/"
        },
        "outputId": "d3cc695a-ec44-4058-a493-b23af21cbbc5"
      },
      "outputs": [
        {
          "output_type": "stream",
          "name": "stderr",
          "text": [
            "Downloading data from 'https://files.swisscarto.ch/geoinf1/analyse-estonie.zip' to file '/root/.cache/pooch/b6cfe6a45ccd34fb337f2d7ce73792f4-analyse-estonie.zip'.\n",
            "SHA256 hash of downloaded file: a700fb1624f60d8cd82589078544fc57fbd5ae3a5046a95adc6a72622e531a77\n",
            "Use this value as the 'known_hash' argument of 'pooch.retrieve' to ensure that the file hasn't changed if it is downloaded again in the future.\n",
            "Unzipping contents of '/root/.cache/pooch/b6cfe6a45ccd34fb337f2d7ce73792f4-analyse-estonie.zip' to '/root/.cache/pooch/b6cfe6a45ccd34fb337f2d7ce73792f4-analyse-estonie.zip.unzip'\n"
          ]
        }
      ],
      "source": [
        "data_ee = pooch.retrieve(\n",
        "    url = 'https://files.swisscarto.ch/geoinf1/analyse-estonie.zip',\n",
        "    known_hash = None,\n",
        "    processor = pooch.Unzip()\n",
        ")"
      ]
    },
    {
      "cell_type": "markdown",
      "id": "f69a1660-d5dc-46e5-ad68-462b5066383c",
      "metadata": {
        "id": "f69a1660-d5dc-46e5-ad68-462b5066383c"
      },
      "source": [
        "Nous cherchons le fichier avec les points d'intérêts. Nous allons extraire les bancs publics depuis ce jeu de données (oui, oui, cette information y est) pour ensuite faire le décompte.\n",
        "\n",
        "Le fichier des points d'intérêts est un fichier Shape (avec extension `.shp` et qui contient le mot `pois`:"
      ]
    },
    {
      "cell_type": "code",
      "execution_count": null,
      "id": "5e07b722-ab80-40eb-afdd-cd0c1fb6aed0",
      "metadata": {
        "id": "5e07b722-ab80-40eb-afdd-cd0c1fb6aed0",
        "colab": {
          "base_uri": "https://localhost:8080/",
          "height": 36
        },
        "outputId": "06362bf2-83b2-40bd-af74-150bd29eab6e"
      },
      "outputs": [
        {
          "output_type": "execute_result",
          "data": {
            "text/plain": [
              "'/root/.cache/pooch/b6cfe6a45ccd34fb337f2d7ce73792f4-analyse-estonie.zip.unzip/analyse-estonie/osm/gis_osm_pois_free_1.shp'"
            ],
            "application/vnd.google.colaboratory.intrinsic+json": {
              "type": "string"
            }
          },
          "metadata": {},
          "execution_count": 28
        }
      ],
      "source": [
        "pois_shp_path = [f for f in data_ee if f.endswith('.shp') and 'pois' in f][0]\n",
        "pois_shp_path"
      ]
    },
    {
      "cell_type": "markdown",
      "id": "4e2e0e65-803e-4a47-a9a2-887d0e960555",
      "metadata": {
        "id": "4e2e0e65-803e-4a47-a9a2-887d0e960555"
      },
      "source": [
        "On peut maintenant lire le fichier avec GeoPandas:"
      ]
    },
    {
      "cell_type": "code",
      "execution_count": null,
      "id": "88f2d7d8-c4bb-410e-a8af-474032bbdd21",
      "metadata": {
        "id": "88f2d7d8-c4bb-410e-a8af-474032bbdd21",
        "colab": {
          "base_uri": "https://localhost:8080/"
        },
        "outputId": "0e8b1f6b-9a4d-4321-f898-96886f9569b0"
      },
      "outputs": [
        {
          "output_type": "stream",
          "name": "stdout",
          "text": [
            "     osm_id  code          fclass                name  \\\n",
            "0  21619742  2733  archaeological           Vallimägi   \n",
            "1  26860115  2422       camp_site           Annimatsi   \n",
            "2  28916615  2304             pub               Virma   \n",
            "3  28916663  2005     post_office  Rakvere postkontor   \n",
            "4  29168843  2009      courthouse       Viru Maakohus   \n",
            "\n",
            "                    geometry  \n",
            "0  POINT (26.35243 59.34633)  \n",
            "1  POINT (26.42806 58.03917)  \n",
            "2  POINT (26.35552 59.35068)  \n",
            "3   POINT (26.36409 59.3487)  \n",
            "4  POINT (26.35767 59.35048)  \n"
          ]
        }
      ],
      "source": [
        "pois_ee = gpd.read_file(pois_shp_path)\n",
        "print(pois_ee.head())"
      ]
    },
    {
      "cell_type": "markdown",
      "id": "f3a42e43-da84-4c48-bba8-6edcb37760e2",
      "metadata": {
        "id": "f3a42e43-da84-4c48-bba8-6edcb37760e2"
      },
      "source": [
        "Les bancs publics ont la valeur `bench` pour la colonne `fclass`. On peut les extraire avec une expression un peu bizarre mais assez simple au final:"
      ]
    },
    {
      "cell_type": "code",
      "execution_count": null,
      "id": "f35add76-6236-485b-81b4-0ddefe250b2a",
      "metadata": {
        "id": "f35add76-6236-485b-81b4-0ddefe250b2a",
        "colab": {
          "base_uri": "https://localhost:8080/"
        },
        "outputId": "45fa605a-39e4-4ace-9d15-d20565b3502c"
      },
      "outputs": [
        {
          "output_type": "stream",
          "name": "stdout",
          "text": [
            "          osm_id  code fclass  name                   geometry\n",
            "78     294275681  2902  bench  None  POINT (24.53784 59.37929)\n",
            "79     294275682  2902  bench  None  POINT (24.53791 59.37926)\n",
            "228    380274393  2902  bench  None  POINT (24.39248 58.38736)\n",
            "1261   735127577  2902  bench  None  POINT (25.62843 59.27479)\n",
            "2229  1103556416  2902  bench  None  POINT (25.88451 59.04057)\n"
          ]
        }
      ],
      "source": [
        "bancs = pois_ee[pois_ee['fclass'] == 'bench']\n",
        "print(bancs.head())"
      ]
    },
    {
      "cell_type": "markdown",
      "id": "a980e305-79d8-4581-9189-95ac0597784d",
      "metadata": {
        "id": "a980e305-79d8-4581-9189-95ac0597784d"
      },
      "source": [
        "Nous pouvons décomposer un peu cette ligne de code. La partie `pois_ee['fclass']` est la colonne qui contient toutes les valeurs de l'attribut `fclass`:"
      ]
    },
    {
      "cell_type": "code",
      "execution_count": null,
      "id": "b6780ea5-5534-4765-abe5-8ca8f09df534",
      "metadata": {
        "id": "b6780ea5-5534-4765-abe5-8ca8f09df534",
        "colab": {
          "base_uri": "https://localhost:8080/",
          "height": 458
        },
        "outputId": "4d9fbd98-78c6-416a-a365-5303e92bbdec"
      },
      "outputs": [
        {
          "output_type": "execute_result",
          "data": {
            "text/plain": [
              "0        archaeological\n",
              "1             camp_site\n",
              "2                   pub\n",
              "3           post_office\n",
              "4            courthouse\n",
              "              ...      \n",
              "38170             bench\n",
              "38171            toilet\n",
              "38172              cafe\n",
              "38173               atm\n",
              "38174           clothes\n",
              "Name: fclass, Length: 38175, dtype: object"
            ],
            "text/html": [
              "<div>\n",
              "<style scoped>\n",
              "    .dataframe tbody tr th:only-of-type {\n",
              "        vertical-align: middle;\n",
              "    }\n",
              "\n",
              "    .dataframe tbody tr th {\n",
              "        vertical-align: top;\n",
              "    }\n",
              "\n",
              "    .dataframe thead th {\n",
              "        text-align: right;\n",
              "    }\n",
              "</style>\n",
              "<table border=\"1\" class=\"dataframe\">\n",
              "  <thead>\n",
              "    <tr style=\"text-align: right;\">\n",
              "      <th></th>\n",
              "      <th>fclass</th>\n",
              "    </tr>\n",
              "  </thead>\n",
              "  <tbody>\n",
              "    <tr>\n",
              "      <th>0</th>\n",
              "      <td>archaeological</td>\n",
              "    </tr>\n",
              "    <tr>\n",
              "      <th>1</th>\n",
              "      <td>camp_site</td>\n",
              "    </tr>\n",
              "    <tr>\n",
              "      <th>2</th>\n",
              "      <td>pub</td>\n",
              "    </tr>\n",
              "    <tr>\n",
              "      <th>3</th>\n",
              "      <td>post_office</td>\n",
              "    </tr>\n",
              "    <tr>\n",
              "      <th>4</th>\n",
              "      <td>courthouse</td>\n",
              "    </tr>\n",
              "    <tr>\n",
              "      <th>...</th>\n",
              "      <td>...</td>\n",
              "    </tr>\n",
              "    <tr>\n",
              "      <th>38170</th>\n",
              "      <td>bench</td>\n",
              "    </tr>\n",
              "    <tr>\n",
              "      <th>38171</th>\n",
              "      <td>toilet</td>\n",
              "    </tr>\n",
              "    <tr>\n",
              "      <th>38172</th>\n",
              "      <td>cafe</td>\n",
              "    </tr>\n",
              "    <tr>\n",
              "      <th>38173</th>\n",
              "      <td>atm</td>\n",
              "    </tr>\n",
              "    <tr>\n",
              "      <th>38174</th>\n",
              "      <td>clothes</td>\n",
              "    </tr>\n",
              "  </tbody>\n",
              "</table>\n",
              "<p>38175 rows × 1 columns</p>\n",
              "</div><br><label><b>dtype:</b> object</label>"
            ]
          },
          "metadata": {},
          "execution_count": 31
        }
      ],
      "source": [
        "pois_ee['fclass']"
      ]
    },
    {
      "cell_type": "markdown",
      "id": "3d76f6e7-2463-454e-bd8f-563b9f06064b",
      "metadata": {
        "id": "3d76f6e7-2463-454e-bd8f-563b9f06064b"
      },
      "source": [
        "On peut demander à Pandas si ces valeurs sont égales à `bench`:"
      ]
    },
    {
      "cell_type": "code",
      "execution_count": null,
      "id": "a75eb890-9585-477f-ad1a-e91b306f2515",
      "metadata": {
        "id": "a75eb890-9585-477f-ad1a-e91b306f2515",
        "colab": {
          "base_uri": "https://localhost:8080/",
          "height": 458
        },
        "outputId": "6f630c08-e449-4e7f-c299-6160deb821b6"
      },
      "outputs": [
        {
          "output_type": "execute_result",
          "data": {
            "text/plain": [
              "0        False\n",
              "1        False\n",
              "2        False\n",
              "3        False\n",
              "4        False\n",
              "         ...  \n",
              "38170     True\n",
              "38171    False\n",
              "38172    False\n",
              "38173    False\n",
              "38174    False\n",
              "Name: fclass, Length: 38175, dtype: bool"
            ],
            "text/html": [
              "<div>\n",
              "<style scoped>\n",
              "    .dataframe tbody tr th:only-of-type {\n",
              "        vertical-align: middle;\n",
              "    }\n",
              "\n",
              "    .dataframe tbody tr th {\n",
              "        vertical-align: top;\n",
              "    }\n",
              "\n",
              "    .dataframe thead th {\n",
              "        text-align: right;\n",
              "    }\n",
              "</style>\n",
              "<table border=\"1\" class=\"dataframe\">\n",
              "  <thead>\n",
              "    <tr style=\"text-align: right;\">\n",
              "      <th></th>\n",
              "      <th>fclass</th>\n",
              "    </tr>\n",
              "  </thead>\n",
              "  <tbody>\n",
              "    <tr>\n",
              "      <th>0</th>\n",
              "      <td>False</td>\n",
              "    </tr>\n",
              "    <tr>\n",
              "      <th>1</th>\n",
              "      <td>False</td>\n",
              "    </tr>\n",
              "    <tr>\n",
              "      <th>2</th>\n",
              "      <td>False</td>\n",
              "    </tr>\n",
              "    <tr>\n",
              "      <th>3</th>\n",
              "      <td>False</td>\n",
              "    </tr>\n",
              "    <tr>\n",
              "      <th>4</th>\n",
              "      <td>False</td>\n",
              "    </tr>\n",
              "    <tr>\n",
              "      <th>...</th>\n",
              "      <td>...</td>\n",
              "    </tr>\n",
              "    <tr>\n",
              "      <th>38170</th>\n",
              "      <td>True</td>\n",
              "    </tr>\n",
              "    <tr>\n",
              "      <th>38171</th>\n",
              "      <td>False</td>\n",
              "    </tr>\n",
              "    <tr>\n",
              "      <th>38172</th>\n",
              "      <td>False</td>\n",
              "    </tr>\n",
              "    <tr>\n",
              "      <th>38173</th>\n",
              "      <td>False</td>\n",
              "    </tr>\n",
              "    <tr>\n",
              "      <th>38174</th>\n",
              "      <td>False</td>\n",
              "    </tr>\n",
              "  </tbody>\n",
              "</table>\n",
              "<p>38175 rows × 1 columns</p>\n",
              "</div><br><label><b>dtype:</b> bool</label>"
            ]
          },
          "metadata": {},
          "execution_count": 32
        }
      ],
      "source": [
        "pois_ee['fclass'] == 'bench'"
      ]
    },
    {
      "cell_type": "markdown",
      "id": "395bef71-031c-4ed9-b6f3-d2ee342ce150",
      "metadata": {
        "id": "395bef71-031c-4ed9-b6f3-d2ee342ce150"
      },
      "source": [
        "Ceci évalue cette comparaison pour chaque entité dans le DataFrame `pois_ee`, et retourne soit `True` soit `False`. Nous pouvons utiliser ce mécanisme pour filtrer les entités du DataFrame, en passant une sorte de liste avec des `True` et `False`. Les entités avec `True` sont retenues, les autres écartées.\n",
        "\n",
        "On peut même enregistrer la condition dans une variable et écrire la même instruction que plus haut en deux lignes:"
      ]
    },
    {
      "cell_type": "code",
      "execution_count": null,
      "id": "3eb1f895-6cfa-48ec-9573-0f09f7bfb497",
      "metadata": {
        "id": "3eb1f895-6cfa-48ec-9573-0f09f7bfb497",
        "colab": {
          "base_uri": "https://localhost:8080/"
        },
        "outputId": "916f79e1-e986-44e3-cb28-e6853d082a64"
      },
      "outputs": [
        {
          "output_type": "stream",
          "name": "stdout",
          "text": [
            "          osm_id  code fclass  name                   geometry\n",
            "78     294275681  2902  bench  None  POINT (24.53784 59.37929)\n",
            "79     294275682  2902  bench  None  POINT (24.53791 59.37926)\n",
            "228    380274393  2902  bench  None  POINT (24.39248 58.38736)\n",
            "1261   735127577  2902  bench  None  POINT (25.62843 59.27479)\n",
            "2229  1103556416  2902  bench  None  POINT (25.88451 59.04057)\n"
          ]
        }
      ],
      "source": [
        "critere = pois_ee['fclass'] == 'bench'\n",
        "bancs = pois_ee[critere]\n",
        "print(bancs.head())"
      ]
    },
    {
      "cell_type": "markdown",
      "id": "50ec5d8d-7a7c-4a7a-9b7d-daf5b7400030",
      "metadata": {
        "id": "50ec5d8d-7a7c-4a7a-9b7d-daf5b7400030"
      },
      "source": [
        "### Les régions d'Estonie"
      ]
    },
    {
      "cell_type": "markdown",
      "id": "038a7d0a-10ec-46d2-91f3-56653f3bb552",
      "metadata": {
        "id": "038a7d0a-10ec-46d2-91f3-56653f3bb552"
      },
      "source": [
        "Nous pouvons maintenant charger la couche des régions administratives depuis le Geopackage:"
      ]
    },
    {
      "cell_type": "code",
      "execution_count": null,
      "id": "215e5cc3-87b7-421d-8417-ca486a36bbf1",
      "metadata": {
        "id": "215e5cc3-87b7-421d-8417-ca486a36bbf1",
        "colab": {
          "base_uri": "https://localhost:8080/",
          "height": 36
        },
        "outputId": "813d1d4c-2020-41e0-9e82-8677ee133b81"
      },
      "outputs": [
        {
          "output_type": "execute_result",
          "data": {
            "text/plain": [
              "'/root/.cache/pooch/b6cfe6a45ccd34fb337f2d7ce73792f4-analyse-estonie.zip.unzip/analyse-estonie/kontur_boundaries_ee_20230628.gpkg'"
            ],
            "application/vnd.google.colaboratory.intrinsic+json": {
              "type": "string"
            }
          },
          "metadata": {},
          "execution_count": 34
        }
      ],
      "source": [
        "regions_ee_path = [f for f in data_ee if f.endswith('.gpkg')][0]\n",
        "regions_ee_path"
      ]
    },
    {
      "cell_type": "markdown",
      "id": "f020fd77-7ce9-496b-b1d4-828f4ed5ae1d",
      "metadata": {
        "id": "f020fd77-7ce9-496b-b1d4-828f4ed5ae1d"
      },
      "source": [
        "Les fichiers Geopackage peuvent contenir plusieurs couches vectorielles. Si le Geopackage n'a qu'une seule couche, GeoPandas pourra la lire sans indiquer le nom. Mais avec plus d'une couche, il faudra spécifier le nom. Seulement, comment connaître le nom de la couche? Pour cela, nous pouvons utiliser un autre module Python: `pyogrio` (nous avons déjà rencontré `ogr` dans `ogr2ogr`, c'est bien le même). `pyogrio` est utilisé par GeoPandas et donc déjà disponible sur notre système. Il suffit de l'importer:"
      ]
    },
    {
      "cell_type": "code",
      "execution_count": null,
      "id": "c4062d83-fa39-49b2-99b3-17e5f3bfbb12",
      "metadata": {
        "id": "c4062d83-fa39-49b2-99b3-17e5f3bfbb12"
      },
      "outputs": [],
      "source": [
        "import pyogrio"
      ]
    },
    {
      "cell_type": "markdown",
      "id": "313a4905-9581-412d-a555-79fe3340a55a",
      "metadata": {
        "id": "313a4905-9581-412d-a555-79fe3340a55a"
      },
      "source": [
        "Ensuite on peut afficher la liste des couches à l'intérieur du GeoPackage:"
      ]
    },
    {
      "cell_type": "code",
      "execution_count": null,
      "id": "3c130ba0-f8e9-4279-a1b1-e6a0fea4df07",
      "metadata": {
        "id": "3c130ba0-f8e9-4279-a1b1-e6a0fea4df07",
        "colab": {
          "base_uri": "https://localhost:8080/"
        },
        "outputId": "e9cb0eeb-a1aa-4426-c351-05fb935f1e46"
      },
      "outputs": [
        {
          "output_type": "execute_result",
          "data": {
            "text/plain": [
              "array([['boundaries', 'Polygon']], dtype=object)"
            ]
          },
          "metadata": {},
          "execution_count": 36
        }
      ],
      "source": [
        "pyogrio.list_layers(regions_ee_path)"
      ]
    },
    {
      "cell_type": "code",
      "execution_count": null,
      "id": "c21973cc-04cf-40de-95d0-d7d232ac99f2",
      "metadata": {
        "id": "c21973cc-04cf-40de-95d0-d7d232ac99f2",
        "colab": {
          "base_uri": "https://localhost:8080/"
        },
        "outputId": "14c57513-dc8d-46f4-9f8f-56a5f3a0d9b6"
      },
      "outputs": [
        {
          "output_type": "stream",
          "name": "stdout",
          "text": [
            "   admin_level osm_admin_level           name      name_en  population  hasc  \\\n",
            "0            7               7  Viljandi vald         None     12987.0  None   \n",
            "1            7               7      Saku vald  Saku Parish      5686.0  None   \n",
            "2            7               7     Anija vald         None      4424.0  None   \n",
            "3            7               7     Rõuge vald         None      7124.0  None   \n",
            "4            7               7    Maardu linn       Maardu      3531.0  None   \n",
            "\n",
            "                                            geometry  \n",
            "0  MULTIPOLYGON (((25.30726 58.39193, 25.30734 58...  \n",
            "1  MULTIPOLYGON (((24.52208 59.27347, 24.5225 59....  \n",
            "2  MULTIPOLYGON (((25.16759 59.34274, 25.16761 59...  \n",
            "3  MULTIPOLYGON (((26.44342 57.65159, 26.446 57.6...  \n",
            "4  MULTIPOLYGON (((24.91462 59.47382, 24.91635 59...  \n"
          ]
        }
      ],
      "source": [
        "regions = gpd.read_file(regions_ee_path,  layer='boundaries')\n",
        "print(regions.head())"
      ]
    },
    {
      "cell_type": "markdown",
      "id": "c7b14051-6060-48e9-9f6c-771f96c952c1",
      "metadata": {
        "id": "c7b14051-6060-48e9-9f6c-771f96c952c1"
      },
      "source": [
        "### Le nombre de bancs publics par région et par habitant"
      ]
    },
    {
      "cell_type": "markdown",
      "id": "619f876a-f61e-4cca-a765-a7c961d03f07",
      "metadata": {
        "id": "619f876a-f61e-4cca-a765-a7c961d03f07"
      },
      "source": [
        "Combien de bancs publics il y a par région? Pour cela, il faut savoir dans quelle région se trouve chacun des bancs. Dans un SIG, une telle opération se fait à l'aide d'une **jointure spatiale**. Et avec GeoPandas, une jointure spatiale n'est pas compliquée, la fonction `sjoin` s'en occupe. Voici comment nous pouvons joindre les informations sur les régions à la couche des bancs:"
      ]
    },
    {
      "cell_type": "code",
      "execution_count": null,
      "id": "b172cc73-338a-4d59-ad74-364d56068c69",
      "metadata": {
        "id": "b172cc73-338a-4d59-ad74-364d56068c69",
        "colab": {
          "base_uri": "https://localhost:8080/",
          "height": 206
        },
        "outputId": "e5309807-07e5-4219-dfd0-b7a80a589fdd"
      },
      "outputs": [
        {
          "output_type": "execute_result",
          "data": {
            "text/plain": [
              "          osm_id  code fclass name_left                   geometry  \\\n",
              "78     294275681  2902  bench      None  POINT (24.53784 59.37929)   \n",
              "79     294275682  2902  bench      None  POINT (24.53791 59.37926)   \n",
              "228    380274393  2902  bench      None  POINT (24.39248 58.38736)   \n",
              "1261   735127577  2902  bench      None  POINT (25.62843 59.27479)   \n",
              "2229  1103556416  2902  bench      None  POINT (25.88451 59.04057)   \n",
              "\n",
              "      index_right  admin_level osm_admin_level  name_right name_en  \\\n",
              "78             69            7               7   Saue vald    None   \n",
              "79             69            7               7   Saue vald    None   \n",
              "228            43            7               7  Pärnu linn    None   \n",
              "1261            2            7               7  Anija vald    None   \n",
              "2229           47            7               7  Järva vald    None   \n",
              "\n",
              "      population  hasc  \n",
              "78       11537.0  None  \n",
              "79       11537.0  None  \n",
              "228      13820.0  None  \n",
              "1261      4424.0  None  \n",
              "2229      8066.0  None  "
            ],
            "text/html": [
              "\n",
              "  <div id=\"df-5aeb76f6-1a55-4ff0-8b30-f528b0ece1bb\" class=\"colab-df-container\">\n",
              "    <div>\n",
              "<style scoped>\n",
              "    .dataframe tbody tr th:only-of-type {\n",
              "        vertical-align: middle;\n",
              "    }\n",
              "\n",
              "    .dataframe tbody tr th {\n",
              "        vertical-align: top;\n",
              "    }\n",
              "\n",
              "    .dataframe thead th {\n",
              "        text-align: right;\n",
              "    }\n",
              "</style>\n",
              "<table border=\"1\" class=\"dataframe\">\n",
              "  <thead>\n",
              "    <tr style=\"text-align: right;\">\n",
              "      <th></th>\n",
              "      <th>osm_id</th>\n",
              "      <th>code</th>\n",
              "      <th>fclass</th>\n",
              "      <th>name_left</th>\n",
              "      <th>geometry</th>\n",
              "      <th>index_right</th>\n",
              "      <th>admin_level</th>\n",
              "      <th>osm_admin_level</th>\n",
              "      <th>name_right</th>\n",
              "      <th>name_en</th>\n",
              "      <th>population</th>\n",
              "      <th>hasc</th>\n",
              "    </tr>\n",
              "  </thead>\n",
              "  <tbody>\n",
              "    <tr>\n",
              "      <th>78</th>\n",
              "      <td>294275681</td>\n",
              "      <td>2902</td>\n",
              "      <td>bench</td>\n",
              "      <td>None</td>\n",
              "      <td>POINT (24.53784 59.37929)</td>\n",
              "      <td>69</td>\n",
              "      <td>7</td>\n",
              "      <td>7</td>\n",
              "      <td>Saue vald</td>\n",
              "      <td>None</td>\n",
              "      <td>11537.0</td>\n",
              "      <td>None</td>\n",
              "    </tr>\n",
              "    <tr>\n",
              "      <th>79</th>\n",
              "      <td>294275682</td>\n",
              "      <td>2902</td>\n",
              "      <td>bench</td>\n",
              "      <td>None</td>\n",
              "      <td>POINT (24.53791 59.37926)</td>\n",
              "      <td>69</td>\n",
              "      <td>7</td>\n",
              "      <td>7</td>\n",
              "      <td>Saue vald</td>\n",
              "      <td>None</td>\n",
              "      <td>11537.0</td>\n",
              "      <td>None</td>\n",
              "    </tr>\n",
              "    <tr>\n",
              "      <th>228</th>\n",
              "      <td>380274393</td>\n",
              "      <td>2902</td>\n",
              "      <td>bench</td>\n",
              "      <td>None</td>\n",
              "      <td>POINT (24.39248 58.38736)</td>\n",
              "      <td>43</td>\n",
              "      <td>7</td>\n",
              "      <td>7</td>\n",
              "      <td>Pärnu linn</td>\n",
              "      <td>None</td>\n",
              "      <td>13820.0</td>\n",
              "      <td>None</td>\n",
              "    </tr>\n",
              "    <tr>\n",
              "      <th>1261</th>\n",
              "      <td>735127577</td>\n",
              "      <td>2902</td>\n",
              "      <td>bench</td>\n",
              "      <td>None</td>\n",
              "      <td>POINT (25.62843 59.27479)</td>\n",
              "      <td>2</td>\n",
              "      <td>7</td>\n",
              "      <td>7</td>\n",
              "      <td>Anija vald</td>\n",
              "      <td>None</td>\n",
              "      <td>4424.0</td>\n",
              "      <td>None</td>\n",
              "    </tr>\n",
              "    <tr>\n",
              "      <th>2229</th>\n",
              "      <td>1103556416</td>\n",
              "      <td>2902</td>\n",
              "      <td>bench</td>\n",
              "      <td>None</td>\n",
              "      <td>POINT (25.88451 59.04057)</td>\n",
              "      <td>47</td>\n",
              "      <td>7</td>\n",
              "      <td>7</td>\n",
              "      <td>Järva vald</td>\n",
              "      <td>None</td>\n",
              "      <td>8066.0</td>\n",
              "      <td>None</td>\n",
              "    </tr>\n",
              "  </tbody>\n",
              "</table>\n",
              "</div>\n",
              "    <div class=\"colab-df-buttons\">\n",
              "\n",
              "  <div class=\"colab-df-container\">\n",
              "    <button class=\"colab-df-convert\" onclick=\"convertToInteractive('df-5aeb76f6-1a55-4ff0-8b30-f528b0ece1bb')\"\n",
              "            title=\"Convert this dataframe to an interactive table.\"\n",
              "            style=\"display:none;\">\n",
              "\n",
              "  <svg xmlns=\"http://www.w3.org/2000/svg\" height=\"24px\" viewBox=\"0 -960 960 960\">\n",
              "    <path d=\"M120-120v-720h720v720H120Zm60-500h600v-160H180v160Zm220 220h160v-160H400v160Zm0 220h160v-160H400v160ZM180-400h160v-160H180v160Zm440 0h160v-160H620v160ZM180-180h160v-160H180v160Zm440 0h160v-160H620v160Z\"/>\n",
              "  </svg>\n",
              "    </button>\n",
              "\n",
              "  <style>\n",
              "    .colab-df-container {\n",
              "      display:flex;\n",
              "      gap: 12px;\n",
              "    }\n",
              "\n",
              "    .colab-df-convert {\n",
              "      background-color: #E8F0FE;\n",
              "      border: none;\n",
              "      border-radius: 50%;\n",
              "      cursor: pointer;\n",
              "      display: none;\n",
              "      fill: #1967D2;\n",
              "      height: 32px;\n",
              "      padding: 0 0 0 0;\n",
              "      width: 32px;\n",
              "    }\n",
              "\n",
              "    .colab-df-convert:hover {\n",
              "      background-color: #E2EBFA;\n",
              "      box-shadow: 0px 1px 2px rgba(60, 64, 67, 0.3), 0px 1px 3px 1px rgba(60, 64, 67, 0.15);\n",
              "      fill: #174EA6;\n",
              "    }\n",
              "\n",
              "    .colab-df-buttons div {\n",
              "      margin-bottom: 4px;\n",
              "    }\n",
              "\n",
              "    [theme=dark] .colab-df-convert {\n",
              "      background-color: #3B4455;\n",
              "      fill: #D2E3FC;\n",
              "    }\n",
              "\n",
              "    [theme=dark] .colab-df-convert:hover {\n",
              "      background-color: #434B5C;\n",
              "      box-shadow: 0px 1px 3px 1px rgba(0, 0, 0, 0.15);\n",
              "      filter: drop-shadow(0px 1px 2px rgba(0, 0, 0, 0.3));\n",
              "      fill: #FFFFFF;\n",
              "    }\n",
              "  </style>\n",
              "\n",
              "    <script>\n",
              "      const buttonEl =\n",
              "        document.querySelector('#df-5aeb76f6-1a55-4ff0-8b30-f528b0ece1bb button.colab-df-convert');\n",
              "      buttonEl.style.display =\n",
              "        google.colab.kernel.accessAllowed ? 'block' : 'none';\n",
              "\n",
              "      async function convertToInteractive(key) {\n",
              "        const element = document.querySelector('#df-5aeb76f6-1a55-4ff0-8b30-f528b0ece1bb');\n",
              "        const dataTable =\n",
              "          await google.colab.kernel.invokeFunction('convertToInteractive',\n",
              "                                                    [key], {});\n",
              "        if (!dataTable) return;\n",
              "\n",
              "        const docLinkHtml = 'Like what you see? Visit the ' +\n",
              "          '<a target=\"_blank\" href=https://colab.research.google.com/notebooks/data_table.ipynb>data table notebook</a>'\n",
              "          + ' to learn more about interactive tables.';\n",
              "        element.innerHTML = '';\n",
              "        dataTable['output_type'] = 'display_data';\n",
              "        await google.colab.output.renderOutput(dataTable, element);\n",
              "        const docLink = document.createElement('div');\n",
              "        docLink.innerHTML = docLinkHtml;\n",
              "        element.appendChild(docLink);\n",
              "      }\n",
              "    </script>\n",
              "  </div>\n",
              "\n",
              "\n",
              "<div id=\"df-d1e1d282-1939-4c48-9b40-fc42e0c35414\">\n",
              "  <button class=\"colab-df-quickchart\" onclick=\"quickchart('df-d1e1d282-1939-4c48-9b40-fc42e0c35414')\"\n",
              "            title=\"Suggest charts\"\n",
              "            style=\"display:none;\">\n",
              "\n",
              "<svg xmlns=\"http://www.w3.org/2000/svg\" height=\"24px\"viewBox=\"0 0 24 24\"\n",
              "     width=\"24px\">\n",
              "    <g>\n",
              "        <path d=\"M19 3H5c-1.1 0-2 .9-2 2v14c0 1.1.9 2 2 2h14c1.1 0 2-.9 2-2V5c0-1.1-.9-2-2-2zM9 17H7v-7h2v7zm4 0h-2V7h2v10zm4 0h-2v-4h2v4z\"/>\n",
              "    </g>\n",
              "</svg>\n",
              "  </button>\n",
              "\n",
              "<style>\n",
              "  .colab-df-quickchart {\n",
              "      --bg-color: #E8F0FE;\n",
              "      --fill-color: #1967D2;\n",
              "      --hover-bg-color: #E2EBFA;\n",
              "      --hover-fill-color: #174EA6;\n",
              "      --disabled-fill-color: #AAA;\n",
              "      --disabled-bg-color: #DDD;\n",
              "  }\n",
              "\n",
              "  [theme=dark] .colab-df-quickchart {\n",
              "      --bg-color: #3B4455;\n",
              "      --fill-color: #D2E3FC;\n",
              "      --hover-bg-color: #434B5C;\n",
              "      --hover-fill-color: #FFFFFF;\n",
              "      --disabled-bg-color: #3B4455;\n",
              "      --disabled-fill-color: #666;\n",
              "  }\n",
              "\n",
              "  .colab-df-quickchart {\n",
              "    background-color: var(--bg-color);\n",
              "    border: none;\n",
              "    border-radius: 50%;\n",
              "    cursor: pointer;\n",
              "    display: none;\n",
              "    fill: var(--fill-color);\n",
              "    height: 32px;\n",
              "    padding: 0;\n",
              "    width: 32px;\n",
              "  }\n",
              "\n",
              "  .colab-df-quickchart:hover {\n",
              "    background-color: var(--hover-bg-color);\n",
              "    box-shadow: 0 1px 2px rgba(60, 64, 67, 0.3), 0 1px 3px 1px rgba(60, 64, 67, 0.15);\n",
              "    fill: var(--button-hover-fill-color);\n",
              "  }\n",
              "\n",
              "  .colab-df-quickchart-complete:disabled,\n",
              "  .colab-df-quickchart-complete:disabled:hover {\n",
              "    background-color: var(--disabled-bg-color);\n",
              "    fill: var(--disabled-fill-color);\n",
              "    box-shadow: none;\n",
              "  }\n",
              "\n",
              "  .colab-df-spinner {\n",
              "    border: 2px solid var(--fill-color);\n",
              "    border-color: transparent;\n",
              "    border-bottom-color: var(--fill-color);\n",
              "    animation:\n",
              "      spin 1s steps(1) infinite;\n",
              "  }\n",
              "\n",
              "  @keyframes spin {\n",
              "    0% {\n",
              "      border-color: transparent;\n",
              "      border-bottom-color: var(--fill-color);\n",
              "      border-left-color: var(--fill-color);\n",
              "    }\n",
              "    20% {\n",
              "      border-color: transparent;\n",
              "      border-left-color: var(--fill-color);\n",
              "      border-top-color: var(--fill-color);\n",
              "    }\n",
              "    30% {\n",
              "      border-color: transparent;\n",
              "      border-left-color: var(--fill-color);\n",
              "      border-top-color: var(--fill-color);\n",
              "      border-right-color: var(--fill-color);\n",
              "    }\n",
              "    40% {\n",
              "      border-color: transparent;\n",
              "      border-right-color: var(--fill-color);\n",
              "      border-top-color: var(--fill-color);\n",
              "    }\n",
              "    60% {\n",
              "      border-color: transparent;\n",
              "      border-right-color: var(--fill-color);\n",
              "    }\n",
              "    80% {\n",
              "      border-color: transparent;\n",
              "      border-right-color: var(--fill-color);\n",
              "      border-bottom-color: var(--fill-color);\n",
              "    }\n",
              "    90% {\n",
              "      border-color: transparent;\n",
              "      border-bottom-color: var(--fill-color);\n",
              "    }\n",
              "  }\n",
              "</style>\n",
              "\n",
              "  <script>\n",
              "    async function quickchart(key) {\n",
              "      const quickchartButtonEl =\n",
              "        document.querySelector('#' + key + ' button');\n",
              "      quickchartButtonEl.disabled = true;  // To prevent multiple clicks.\n",
              "      quickchartButtonEl.classList.add('colab-df-spinner');\n",
              "      try {\n",
              "        const charts = await google.colab.kernel.invokeFunction(\n",
              "            'suggestCharts', [key], {});\n",
              "      } catch (error) {\n",
              "        console.error('Error during call to suggestCharts:', error);\n",
              "      }\n",
              "      quickchartButtonEl.classList.remove('colab-df-spinner');\n",
              "      quickchartButtonEl.classList.add('colab-df-quickchart-complete');\n",
              "    }\n",
              "    (() => {\n",
              "      let quickchartButtonEl =\n",
              "        document.querySelector('#df-d1e1d282-1939-4c48-9b40-fc42e0c35414 button');\n",
              "      quickchartButtonEl.style.display =\n",
              "        google.colab.kernel.accessAllowed ? 'block' : 'none';\n",
              "    })();\n",
              "  </script>\n",
              "</div>\n",
              "\n",
              "    </div>\n",
              "  </div>\n"
            ],
            "application/vnd.google.colaboratory.intrinsic+json": {
              "type": "dataframe",
              "variable_name": "bancs_avec_region",
              "repr_error": "0"
            }
          },
          "metadata": {},
          "execution_count": 38
        }
      ],
      "source": [
        "bancs_avec_region = gpd.sjoin(bancs, regions, how=\"inner\", predicate=\"within\")\n",
        "bancs_avec_region.head()"
      ]
    },
    {
      "cell_type": "markdown",
      "id": "6328d7de-2be6-4b29-ac69-eaf36d12d5e6",
      "metadata": {
        "id": "6328d7de-2be6-4b29-ac69-eaf36d12d5e6"
      },
      "source": [
        "L'information sur la région administrative est du coup dans `name_right`. Il suffit de compter le nombre de fois que chaque région apparaît dans la liste et on connaît le nombre de bancs dans chaque région...\n",
        "\n",
        "Techniquement, il s'agit ici d'une agrégation de type **«group by»** (on regroupe les bancs selon les régions), et ensuite on fait le décompte (le nombre):"
      ]
    },
    {
      "cell_type": "code",
      "execution_count": null,
      "id": "b95bb071-d668-4c83-b11f-11615323c361",
      "metadata": {
        "id": "b95bb071-d668-4c83-b11f-11615323c361",
        "colab": {
          "base_uri": "https://localhost:8080/",
          "height": 489
        },
        "outputId": "9d20fa5c-76b6-42df-e0d8-15192741a5d6"
      },
      "outputs": [
        {
          "output_type": "execute_result",
          "data": {
            "text/plain": [
              "name_right\n",
              "Alutaguse vald        12\n",
              "Anija vald            11\n",
              "Antsla vald           10\n",
              "Elva vald             47\n",
              "Haapsalu linn         92\n",
              "                    ... \n",
              "Viru-Nigula vald      10\n",
              "Vormsi vald            6\n",
              "Väike-Maarja vald      5\n",
              "Võru linn            103\n",
              "Võru vald             61\n",
              "Length: 77, dtype: int64"
            ],
            "text/html": [
              "<div>\n",
              "<style scoped>\n",
              "    .dataframe tbody tr th:only-of-type {\n",
              "        vertical-align: middle;\n",
              "    }\n",
              "\n",
              "    .dataframe tbody tr th {\n",
              "        vertical-align: top;\n",
              "    }\n",
              "\n",
              "    .dataframe thead th {\n",
              "        text-align: right;\n",
              "    }\n",
              "</style>\n",
              "<table border=\"1\" class=\"dataframe\">\n",
              "  <thead>\n",
              "    <tr style=\"text-align: right;\">\n",
              "      <th></th>\n",
              "      <th>0</th>\n",
              "    </tr>\n",
              "    <tr>\n",
              "      <th>name_right</th>\n",
              "      <th></th>\n",
              "    </tr>\n",
              "  </thead>\n",
              "  <tbody>\n",
              "    <tr>\n",
              "      <th>Alutaguse vald</th>\n",
              "      <td>12</td>\n",
              "    </tr>\n",
              "    <tr>\n",
              "      <th>Anija vald</th>\n",
              "      <td>11</td>\n",
              "    </tr>\n",
              "    <tr>\n",
              "      <th>Antsla vald</th>\n",
              "      <td>10</td>\n",
              "    </tr>\n",
              "    <tr>\n",
              "      <th>Elva vald</th>\n",
              "      <td>47</td>\n",
              "    </tr>\n",
              "    <tr>\n",
              "      <th>Haapsalu linn</th>\n",
              "      <td>92</td>\n",
              "    </tr>\n",
              "    <tr>\n",
              "      <th>...</th>\n",
              "      <td>...</td>\n",
              "    </tr>\n",
              "    <tr>\n",
              "      <th>Viru-Nigula vald</th>\n",
              "      <td>10</td>\n",
              "    </tr>\n",
              "    <tr>\n",
              "      <th>Vormsi vald</th>\n",
              "      <td>6</td>\n",
              "    </tr>\n",
              "    <tr>\n",
              "      <th>Väike-Maarja vald</th>\n",
              "      <td>5</td>\n",
              "    </tr>\n",
              "    <tr>\n",
              "      <th>Võru linn</th>\n",
              "      <td>103</td>\n",
              "    </tr>\n",
              "    <tr>\n",
              "      <th>Võru vald</th>\n",
              "      <td>61</td>\n",
              "    </tr>\n",
              "  </tbody>\n",
              "</table>\n",
              "<p>77 rows × 1 columns</p>\n",
              "</div><br><label><b>dtype:</b> int64</label>"
            ]
          },
          "metadata": {},
          "execution_count": 39
        }
      ],
      "source": [
        "bancs_decompte = bancs_avec_region.groupby('name_right').size()\n",
        "bancs_decompte"
      ]
    },
    {
      "cell_type": "markdown",
      "id": "2d5fa74c-f55d-42c5-9865-fc2f23c72dad",
      "metadata": {
        "id": "2d5fa74c-f55d-42c5-9865-fc2f23c72dad"
      },
      "source": [
        "Cette combinaison entre jointure spatiale et agrégation de type «group by» est très fréquent dans les analyses SIG. QGIS possède d'ailleurs un outil qui combine les deux étapes ensemble, il s'agit de l'outil *«Joindre les attributs par localisation (résumé)»*, qui est une variante de la jointure spatiale."
      ]
    },
    {
      "cell_type": "markdown",
      "id": "3eca56fa-6210-4b20-a53d-37f41ecb7b65",
      "metadata": {
        "id": "3eca56fa-6210-4b20-a53d-37f41ecb7b65"
      },
      "source": [
        "Par contre, nous devons encore joindre notre décompte à la couche des régions, dans une nouvelle colonne:"
      ]
    },
    {
      "cell_type": "code",
      "execution_count": null,
      "id": "d1233155-950c-4e3f-952e-7125f202289d",
      "metadata": {
        "id": "d1233155-950c-4e3f-952e-7125f202289d",
        "colab": {
          "base_uri": "https://localhost:8080/",
          "height": 206
        },
        "outputId": "ee7bdee4-8f96-4d1b-a338-15a87c98ede8"
      },
      "outputs": [
        {
          "output_type": "execute_result",
          "data": {
            "text/plain": [
              "   admin_level osm_admin_level           name      name_en  population  hasc  \\\n",
              "0            7               7  Viljandi vald         None     12987.0  None   \n",
              "1            7               7      Saku vald  Saku Parish      5686.0  None   \n",
              "2            7               7     Anija vald         None      4424.0  None   \n",
              "3            7               7     Rõuge vald         None      7124.0  None   \n",
              "4            7               7    Maardu linn       Maardu      3531.0  None   \n",
              "\n",
              "                                            geometry  n_bancs  \n",
              "0  MULTIPOLYGON (((25.30726 58.39193, 25.30734 58...     77.0  \n",
              "1  MULTIPOLYGON (((24.52208 59.27347, 24.5225 59....     49.0  \n",
              "2  MULTIPOLYGON (((25.16759 59.34274, 25.16761 59...     11.0  \n",
              "3  MULTIPOLYGON (((26.44342 57.65159, 26.446 57.6...     71.0  \n",
              "4  MULTIPOLYGON (((24.91462 59.47382, 24.91635 59...    136.0  "
            ],
            "text/html": [
              "\n",
              "  <div id=\"df-c4f93662-b268-439a-918f-639bdcbc5257\" class=\"colab-df-container\">\n",
              "    <div>\n",
              "<style scoped>\n",
              "    .dataframe tbody tr th:only-of-type {\n",
              "        vertical-align: middle;\n",
              "    }\n",
              "\n",
              "    .dataframe tbody tr th {\n",
              "        vertical-align: top;\n",
              "    }\n",
              "\n",
              "    .dataframe thead th {\n",
              "        text-align: right;\n",
              "    }\n",
              "</style>\n",
              "<table border=\"1\" class=\"dataframe\">\n",
              "  <thead>\n",
              "    <tr style=\"text-align: right;\">\n",
              "      <th></th>\n",
              "      <th>admin_level</th>\n",
              "      <th>osm_admin_level</th>\n",
              "      <th>name</th>\n",
              "      <th>name_en</th>\n",
              "      <th>population</th>\n",
              "      <th>hasc</th>\n",
              "      <th>geometry</th>\n",
              "      <th>n_bancs</th>\n",
              "    </tr>\n",
              "  </thead>\n",
              "  <tbody>\n",
              "    <tr>\n",
              "      <th>0</th>\n",
              "      <td>7</td>\n",
              "      <td>7</td>\n",
              "      <td>Viljandi vald</td>\n",
              "      <td>None</td>\n",
              "      <td>12987.0</td>\n",
              "      <td>None</td>\n",
              "      <td>MULTIPOLYGON (((25.30726 58.39193, 25.30734 58...</td>\n",
              "      <td>77.0</td>\n",
              "    </tr>\n",
              "    <tr>\n",
              "      <th>1</th>\n",
              "      <td>7</td>\n",
              "      <td>7</td>\n",
              "      <td>Saku vald</td>\n",
              "      <td>Saku Parish</td>\n",
              "      <td>5686.0</td>\n",
              "      <td>None</td>\n",
              "      <td>MULTIPOLYGON (((24.52208 59.27347, 24.5225 59....</td>\n",
              "      <td>49.0</td>\n",
              "    </tr>\n",
              "    <tr>\n",
              "      <th>2</th>\n",
              "      <td>7</td>\n",
              "      <td>7</td>\n",
              "      <td>Anija vald</td>\n",
              "      <td>None</td>\n",
              "      <td>4424.0</td>\n",
              "      <td>None</td>\n",
              "      <td>MULTIPOLYGON (((25.16759 59.34274, 25.16761 59...</td>\n",
              "      <td>11.0</td>\n",
              "    </tr>\n",
              "    <tr>\n",
              "      <th>3</th>\n",
              "      <td>7</td>\n",
              "      <td>7</td>\n",
              "      <td>Rõuge vald</td>\n",
              "      <td>None</td>\n",
              "      <td>7124.0</td>\n",
              "      <td>None</td>\n",
              "      <td>MULTIPOLYGON (((26.44342 57.65159, 26.446 57.6...</td>\n",
              "      <td>71.0</td>\n",
              "    </tr>\n",
              "    <tr>\n",
              "      <th>4</th>\n",
              "      <td>7</td>\n",
              "      <td>7</td>\n",
              "      <td>Maardu linn</td>\n",
              "      <td>Maardu</td>\n",
              "      <td>3531.0</td>\n",
              "      <td>None</td>\n",
              "      <td>MULTIPOLYGON (((24.91462 59.47382, 24.91635 59...</td>\n",
              "      <td>136.0</td>\n",
              "    </tr>\n",
              "  </tbody>\n",
              "</table>\n",
              "</div>\n",
              "    <div class=\"colab-df-buttons\">\n",
              "\n",
              "  <div class=\"colab-df-container\">\n",
              "    <button class=\"colab-df-convert\" onclick=\"convertToInteractive('df-c4f93662-b268-439a-918f-639bdcbc5257')\"\n",
              "            title=\"Convert this dataframe to an interactive table.\"\n",
              "            style=\"display:none;\">\n",
              "\n",
              "  <svg xmlns=\"http://www.w3.org/2000/svg\" height=\"24px\" viewBox=\"0 -960 960 960\">\n",
              "    <path d=\"M120-120v-720h720v720H120Zm60-500h600v-160H180v160Zm220 220h160v-160H400v160Zm0 220h160v-160H400v160ZM180-400h160v-160H180v160Zm440 0h160v-160H620v160ZM180-180h160v-160H180v160Zm440 0h160v-160H620v160Z\"/>\n",
              "  </svg>\n",
              "    </button>\n",
              "\n",
              "  <style>\n",
              "    .colab-df-container {\n",
              "      display:flex;\n",
              "      gap: 12px;\n",
              "    }\n",
              "\n",
              "    .colab-df-convert {\n",
              "      background-color: #E8F0FE;\n",
              "      border: none;\n",
              "      border-radius: 50%;\n",
              "      cursor: pointer;\n",
              "      display: none;\n",
              "      fill: #1967D2;\n",
              "      height: 32px;\n",
              "      padding: 0 0 0 0;\n",
              "      width: 32px;\n",
              "    }\n",
              "\n",
              "    .colab-df-convert:hover {\n",
              "      background-color: #E2EBFA;\n",
              "      box-shadow: 0px 1px 2px rgba(60, 64, 67, 0.3), 0px 1px 3px 1px rgba(60, 64, 67, 0.15);\n",
              "      fill: #174EA6;\n",
              "    }\n",
              "\n",
              "    .colab-df-buttons div {\n",
              "      margin-bottom: 4px;\n",
              "    }\n",
              "\n",
              "    [theme=dark] .colab-df-convert {\n",
              "      background-color: #3B4455;\n",
              "      fill: #D2E3FC;\n",
              "    }\n",
              "\n",
              "    [theme=dark] .colab-df-convert:hover {\n",
              "      background-color: #434B5C;\n",
              "      box-shadow: 0px 1px 3px 1px rgba(0, 0, 0, 0.15);\n",
              "      filter: drop-shadow(0px 1px 2px rgba(0, 0, 0, 0.3));\n",
              "      fill: #FFFFFF;\n",
              "    }\n",
              "  </style>\n",
              "\n",
              "    <script>\n",
              "      const buttonEl =\n",
              "        document.querySelector('#df-c4f93662-b268-439a-918f-639bdcbc5257 button.colab-df-convert');\n",
              "      buttonEl.style.display =\n",
              "        google.colab.kernel.accessAllowed ? 'block' : 'none';\n",
              "\n",
              "      async function convertToInteractive(key) {\n",
              "        const element = document.querySelector('#df-c4f93662-b268-439a-918f-639bdcbc5257');\n",
              "        const dataTable =\n",
              "          await google.colab.kernel.invokeFunction('convertToInteractive',\n",
              "                                                    [key], {});\n",
              "        if (!dataTable) return;\n",
              "\n",
              "        const docLinkHtml = 'Like what you see? Visit the ' +\n",
              "          '<a target=\"_blank\" href=https://colab.research.google.com/notebooks/data_table.ipynb>data table notebook</a>'\n",
              "          + ' to learn more about interactive tables.';\n",
              "        element.innerHTML = '';\n",
              "        dataTable['output_type'] = 'display_data';\n",
              "        await google.colab.output.renderOutput(dataTable, element);\n",
              "        const docLink = document.createElement('div');\n",
              "        docLink.innerHTML = docLinkHtml;\n",
              "        element.appendChild(docLink);\n",
              "      }\n",
              "    </script>\n",
              "  </div>\n",
              "\n",
              "\n",
              "<div id=\"df-920622a1-4ee2-4296-97e2-8f77ef244d36\">\n",
              "  <button class=\"colab-df-quickchart\" onclick=\"quickchart('df-920622a1-4ee2-4296-97e2-8f77ef244d36')\"\n",
              "            title=\"Suggest charts\"\n",
              "            style=\"display:none;\">\n",
              "\n",
              "<svg xmlns=\"http://www.w3.org/2000/svg\" height=\"24px\"viewBox=\"0 0 24 24\"\n",
              "     width=\"24px\">\n",
              "    <g>\n",
              "        <path d=\"M19 3H5c-1.1 0-2 .9-2 2v14c0 1.1.9 2 2 2h14c1.1 0 2-.9 2-2V5c0-1.1-.9-2-2-2zM9 17H7v-7h2v7zm4 0h-2V7h2v10zm4 0h-2v-4h2v4z\"/>\n",
              "    </g>\n",
              "</svg>\n",
              "  </button>\n",
              "\n",
              "<style>\n",
              "  .colab-df-quickchart {\n",
              "      --bg-color: #E8F0FE;\n",
              "      --fill-color: #1967D2;\n",
              "      --hover-bg-color: #E2EBFA;\n",
              "      --hover-fill-color: #174EA6;\n",
              "      --disabled-fill-color: #AAA;\n",
              "      --disabled-bg-color: #DDD;\n",
              "  }\n",
              "\n",
              "  [theme=dark] .colab-df-quickchart {\n",
              "      --bg-color: #3B4455;\n",
              "      --fill-color: #D2E3FC;\n",
              "      --hover-bg-color: #434B5C;\n",
              "      --hover-fill-color: #FFFFFF;\n",
              "      --disabled-bg-color: #3B4455;\n",
              "      --disabled-fill-color: #666;\n",
              "  }\n",
              "\n",
              "  .colab-df-quickchart {\n",
              "    background-color: var(--bg-color);\n",
              "    border: none;\n",
              "    border-radius: 50%;\n",
              "    cursor: pointer;\n",
              "    display: none;\n",
              "    fill: var(--fill-color);\n",
              "    height: 32px;\n",
              "    padding: 0;\n",
              "    width: 32px;\n",
              "  }\n",
              "\n",
              "  .colab-df-quickchart:hover {\n",
              "    background-color: var(--hover-bg-color);\n",
              "    box-shadow: 0 1px 2px rgba(60, 64, 67, 0.3), 0 1px 3px 1px rgba(60, 64, 67, 0.15);\n",
              "    fill: var(--button-hover-fill-color);\n",
              "  }\n",
              "\n",
              "  .colab-df-quickchart-complete:disabled,\n",
              "  .colab-df-quickchart-complete:disabled:hover {\n",
              "    background-color: var(--disabled-bg-color);\n",
              "    fill: var(--disabled-fill-color);\n",
              "    box-shadow: none;\n",
              "  }\n",
              "\n",
              "  .colab-df-spinner {\n",
              "    border: 2px solid var(--fill-color);\n",
              "    border-color: transparent;\n",
              "    border-bottom-color: var(--fill-color);\n",
              "    animation:\n",
              "      spin 1s steps(1) infinite;\n",
              "  }\n",
              "\n",
              "  @keyframes spin {\n",
              "    0% {\n",
              "      border-color: transparent;\n",
              "      border-bottom-color: var(--fill-color);\n",
              "      border-left-color: var(--fill-color);\n",
              "    }\n",
              "    20% {\n",
              "      border-color: transparent;\n",
              "      border-left-color: var(--fill-color);\n",
              "      border-top-color: var(--fill-color);\n",
              "    }\n",
              "    30% {\n",
              "      border-color: transparent;\n",
              "      border-left-color: var(--fill-color);\n",
              "      border-top-color: var(--fill-color);\n",
              "      border-right-color: var(--fill-color);\n",
              "    }\n",
              "    40% {\n",
              "      border-color: transparent;\n",
              "      border-right-color: var(--fill-color);\n",
              "      border-top-color: var(--fill-color);\n",
              "    }\n",
              "    60% {\n",
              "      border-color: transparent;\n",
              "      border-right-color: var(--fill-color);\n",
              "    }\n",
              "    80% {\n",
              "      border-color: transparent;\n",
              "      border-right-color: var(--fill-color);\n",
              "      border-bottom-color: var(--fill-color);\n",
              "    }\n",
              "    90% {\n",
              "      border-color: transparent;\n",
              "      border-bottom-color: var(--fill-color);\n",
              "    }\n",
              "  }\n",
              "</style>\n",
              "\n",
              "  <script>\n",
              "    async function quickchart(key) {\n",
              "      const quickchartButtonEl =\n",
              "        document.querySelector('#' + key + ' button');\n",
              "      quickchartButtonEl.disabled = true;  // To prevent multiple clicks.\n",
              "      quickchartButtonEl.classList.add('colab-df-spinner');\n",
              "      try {\n",
              "        const charts = await google.colab.kernel.invokeFunction(\n",
              "            'suggestCharts', [key], {});\n",
              "      } catch (error) {\n",
              "        console.error('Error during call to suggestCharts:', error);\n",
              "      }\n",
              "      quickchartButtonEl.classList.remove('colab-df-spinner');\n",
              "      quickchartButtonEl.classList.add('colab-df-quickchart-complete');\n",
              "    }\n",
              "    (() => {\n",
              "      let quickchartButtonEl =\n",
              "        document.querySelector('#df-920622a1-4ee2-4296-97e2-8f77ef244d36 button');\n",
              "      quickchartButtonEl.style.display =\n",
              "        google.colab.kernel.accessAllowed ? 'block' : 'none';\n",
              "    })();\n",
              "  </script>\n",
              "</div>\n",
              "\n",
              "    </div>\n",
              "  </div>\n"
            ],
            "application/vnd.google.colaboratory.intrinsic+json": {
              "type": "dataframe",
              "variable_name": "regions",
              "repr_error": "Out of range float values are not JSON compliant: nan"
            }
          },
          "metadata": {},
          "execution_count": 40
        }
      ],
      "source": [
        "regions['n_bancs'] = regions['name'].map(bancs_decompte)\n",
        "regions.head()"
      ]
    },
    {
      "cell_type": "markdown",
      "id": "7594b080-6b3d-4502-a35d-4e5e3f5c1cb7",
      "metadata": {
        "id": "7594b080-6b3d-4502-a35d-4e5e3f5c1cb7"
      },
      "source": [
        "Nous pouvons maintenant calculer le nombre de bancs par 1000 habitants et en faire une carte rapide:"
      ]
    },
    {
      "cell_type": "code",
      "execution_count": null,
      "id": "25ea1e9f-7245-4647-99d1-25fe6b847312",
      "metadata": {
        "id": "25ea1e9f-7245-4647-99d1-25fe6b847312",
        "colab": {
          "base_uri": "https://localhost:8080/",
          "height": 206
        },
        "outputId": "d603a484-a56c-4e33-b695-cdee1caf4d37"
      },
      "outputs": [
        {
          "output_type": "execute_result",
          "data": {
            "text/plain": [
              "            name  n_bancs  n_bancs_par_1k\n",
              "0  Viljandi vald     77.0        5.929006\n",
              "1      Saku vald     49.0        8.617657\n",
              "2     Anija vald     11.0        2.486438\n",
              "3     Rõuge vald     71.0        9.966311\n",
              "4    Maardu linn    136.0       38.516001"
            ],
            "text/html": [
              "\n",
              "  <div id=\"df-7de85493-ad2d-40c8-ae77-a825c4f5a85b\" class=\"colab-df-container\">\n",
              "    <div>\n",
              "<style scoped>\n",
              "    .dataframe tbody tr th:only-of-type {\n",
              "        vertical-align: middle;\n",
              "    }\n",
              "\n",
              "    .dataframe tbody tr th {\n",
              "        vertical-align: top;\n",
              "    }\n",
              "\n",
              "    .dataframe thead th {\n",
              "        text-align: right;\n",
              "    }\n",
              "</style>\n",
              "<table border=\"1\" class=\"dataframe\">\n",
              "  <thead>\n",
              "    <tr style=\"text-align: right;\">\n",
              "      <th></th>\n",
              "      <th>name</th>\n",
              "      <th>n_bancs</th>\n",
              "      <th>n_bancs_par_1k</th>\n",
              "    </tr>\n",
              "  </thead>\n",
              "  <tbody>\n",
              "    <tr>\n",
              "      <th>0</th>\n",
              "      <td>Viljandi vald</td>\n",
              "      <td>77.0</td>\n",
              "      <td>5.929006</td>\n",
              "    </tr>\n",
              "    <tr>\n",
              "      <th>1</th>\n",
              "      <td>Saku vald</td>\n",
              "      <td>49.0</td>\n",
              "      <td>8.617657</td>\n",
              "    </tr>\n",
              "    <tr>\n",
              "      <th>2</th>\n",
              "      <td>Anija vald</td>\n",
              "      <td>11.0</td>\n",
              "      <td>2.486438</td>\n",
              "    </tr>\n",
              "    <tr>\n",
              "      <th>3</th>\n",
              "      <td>Rõuge vald</td>\n",
              "      <td>71.0</td>\n",
              "      <td>9.966311</td>\n",
              "    </tr>\n",
              "    <tr>\n",
              "      <th>4</th>\n",
              "      <td>Maardu linn</td>\n",
              "      <td>136.0</td>\n",
              "      <td>38.516001</td>\n",
              "    </tr>\n",
              "  </tbody>\n",
              "</table>\n",
              "</div>\n",
              "    <div class=\"colab-df-buttons\">\n",
              "\n",
              "  <div class=\"colab-df-container\">\n",
              "    <button class=\"colab-df-convert\" onclick=\"convertToInteractive('df-7de85493-ad2d-40c8-ae77-a825c4f5a85b')\"\n",
              "            title=\"Convert this dataframe to an interactive table.\"\n",
              "            style=\"display:none;\">\n",
              "\n",
              "  <svg xmlns=\"http://www.w3.org/2000/svg\" height=\"24px\" viewBox=\"0 -960 960 960\">\n",
              "    <path d=\"M120-120v-720h720v720H120Zm60-500h600v-160H180v160Zm220 220h160v-160H400v160Zm0 220h160v-160H400v160ZM180-400h160v-160H180v160Zm440 0h160v-160H620v160ZM180-180h160v-160H180v160Zm440 0h160v-160H620v160Z\"/>\n",
              "  </svg>\n",
              "    </button>\n",
              "\n",
              "  <style>\n",
              "    .colab-df-container {\n",
              "      display:flex;\n",
              "      gap: 12px;\n",
              "    }\n",
              "\n",
              "    .colab-df-convert {\n",
              "      background-color: #E8F0FE;\n",
              "      border: none;\n",
              "      border-radius: 50%;\n",
              "      cursor: pointer;\n",
              "      display: none;\n",
              "      fill: #1967D2;\n",
              "      height: 32px;\n",
              "      padding: 0 0 0 0;\n",
              "      width: 32px;\n",
              "    }\n",
              "\n",
              "    .colab-df-convert:hover {\n",
              "      background-color: #E2EBFA;\n",
              "      box-shadow: 0px 1px 2px rgba(60, 64, 67, 0.3), 0px 1px 3px 1px rgba(60, 64, 67, 0.15);\n",
              "      fill: #174EA6;\n",
              "    }\n",
              "\n",
              "    .colab-df-buttons div {\n",
              "      margin-bottom: 4px;\n",
              "    }\n",
              "\n",
              "    [theme=dark] .colab-df-convert {\n",
              "      background-color: #3B4455;\n",
              "      fill: #D2E3FC;\n",
              "    }\n",
              "\n",
              "    [theme=dark] .colab-df-convert:hover {\n",
              "      background-color: #434B5C;\n",
              "      box-shadow: 0px 1px 3px 1px rgba(0, 0, 0, 0.15);\n",
              "      filter: drop-shadow(0px 1px 2px rgba(0, 0, 0, 0.3));\n",
              "      fill: #FFFFFF;\n",
              "    }\n",
              "  </style>\n",
              "\n",
              "    <script>\n",
              "      const buttonEl =\n",
              "        document.querySelector('#df-7de85493-ad2d-40c8-ae77-a825c4f5a85b button.colab-df-convert');\n",
              "      buttonEl.style.display =\n",
              "        google.colab.kernel.accessAllowed ? 'block' : 'none';\n",
              "\n",
              "      async function convertToInteractive(key) {\n",
              "        const element = document.querySelector('#df-7de85493-ad2d-40c8-ae77-a825c4f5a85b');\n",
              "        const dataTable =\n",
              "          await google.colab.kernel.invokeFunction('convertToInteractive',\n",
              "                                                    [key], {});\n",
              "        if (!dataTable) return;\n",
              "\n",
              "        const docLinkHtml = 'Like what you see? Visit the ' +\n",
              "          '<a target=\"_blank\" href=https://colab.research.google.com/notebooks/data_table.ipynb>data table notebook</a>'\n",
              "          + ' to learn more about interactive tables.';\n",
              "        element.innerHTML = '';\n",
              "        dataTable['output_type'] = 'display_data';\n",
              "        await google.colab.output.renderOutput(dataTable, element);\n",
              "        const docLink = document.createElement('div');\n",
              "        docLink.innerHTML = docLinkHtml;\n",
              "        element.appendChild(docLink);\n",
              "      }\n",
              "    </script>\n",
              "  </div>\n",
              "\n",
              "\n",
              "<div id=\"df-cb0531c9-7b48-4ad5-abe0-d7b619ad26c5\">\n",
              "  <button class=\"colab-df-quickchart\" onclick=\"quickchart('df-cb0531c9-7b48-4ad5-abe0-d7b619ad26c5')\"\n",
              "            title=\"Suggest charts\"\n",
              "            style=\"display:none;\">\n",
              "\n",
              "<svg xmlns=\"http://www.w3.org/2000/svg\" height=\"24px\"viewBox=\"0 0 24 24\"\n",
              "     width=\"24px\">\n",
              "    <g>\n",
              "        <path d=\"M19 3H5c-1.1 0-2 .9-2 2v14c0 1.1.9 2 2 2h14c1.1 0 2-.9 2-2V5c0-1.1-.9-2-2-2zM9 17H7v-7h2v7zm4 0h-2V7h2v10zm4 0h-2v-4h2v4z\"/>\n",
              "    </g>\n",
              "</svg>\n",
              "  </button>\n",
              "\n",
              "<style>\n",
              "  .colab-df-quickchart {\n",
              "      --bg-color: #E8F0FE;\n",
              "      --fill-color: #1967D2;\n",
              "      --hover-bg-color: #E2EBFA;\n",
              "      --hover-fill-color: #174EA6;\n",
              "      --disabled-fill-color: #AAA;\n",
              "      --disabled-bg-color: #DDD;\n",
              "  }\n",
              "\n",
              "  [theme=dark] .colab-df-quickchart {\n",
              "      --bg-color: #3B4455;\n",
              "      --fill-color: #D2E3FC;\n",
              "      --hover-bg-color: #434B5C;\n",
              "      --hover-fill-color: #FFFFFF;\n",
              "      --disabled-bg-color: #3B4455;\n",
              "      --disabled-fill-color: #666;\n",
              "  }\n",
              "\n",
              "  .colab-df-quickchart {\n",
              "    background-color: var(--bg-color);\n",
              "    border: none;\n",
              "    border-radius: 50%;\n",
              "    cursor: pointer;\n",
              "    display: none;\n",
              "    fill: var(--fill-color);\n",
              "    height: 32px;\n",
              "    padding: 0;\n",
              "    width: 32px;\n",
              "  }\n",
              "\n",
              "  .colab-df-quickchart:hover {\n",
              "    background-color: var(--hover-bg-color);\n",
              "    box-shadow: 0 1px 2px rgba(60, 64, 67, 0.3), 0 1px 3px 1px rgba(60, 64, 67, 0.15);\n",
              "    fill: var(--button-hover-fill-color);\n",
              "  }\n",
              "\n",
              "  .colab-df-quickchart-complete:disabled,\n",
              "  .colab-df-quickchart-complete:disabled:hover {\n",
              "    background-color: var(--disabled-bg-color);\n",
              "    fill: var(--disabled-fill-color);\n",
              "    box-shadow: none;\n",
              "  }\n",
              "\n",
              "  .colab-df-spinner {\n",
              "    border: 2px solid var(--fill-color);\n",
              "    border-color: transparent;\n",
              "    border-bottom-color: var(--fill-color);\n",
              "    animation:\n",
              "      spin 1s steps(1) infinite;\n",
              "  }\n",
              "\n",
              "  @keyframes spin {\n",
              "    0% {\n",
              "      border-color: transparent;\n",
              "      border-bottom-color: var(--fill-color);\n",
              "      border-left-color: var(--fill-color);\n",
              "    }\n",
              "    20% {\n",
              "      border-color: transparent;\n",
              "      border-left-color: var(--fill-color);\n",
              "      border-top-color: var(--fill-color);\n",
              "    }\n",
              "    30% {\n",
              "      border-color: transparent;\n",
              "      border-left-color: var(--fill-color);\n",
              "      border-top-color: var(--fill-color);\n",
              "      border-right-color: var(--fill-color);\n",
              "    }\n",
              "    40% {\n",
              "      border-color: transparent;\n",
              "      border-right-color: var(--fill-color);\n",
              "      border-top-color: var(--fill-color);\n",
              "    }\n",
              "    60% {\n",
              "      border-color: transparent;\n",
              "      border-right-color: var(--fill-color);\n",
              "    }\n",
              "    80% {\n",
              "      border-color: transparent;\n",
              "      border-right-color: var(--fill-color);\n",
              "      border-bottom-color: var(--fill-color);\n",
              "    }\n",
              "    90% {\n",
              "      border-color: transparent;\n",
              "      border-bottom-color: var(--fill-color);\n",
              "    }\n",
              "  }\n",
              "</style>\n",
              "\n",
              "  <script>\n",
              "    async function quickchart(key) {\n",
              "      const quickchartButtonEl =\n",
              "        document.querySelector('#' + key + ' button');\n",
              "      quickchartButtonEl.disabled = true;  // To prevent multiple clicks.\n",
              "      quickchartButtonEl.classList.add('colab-df-spinner');\n",
              "      try {\n",
              "        const charts = await google.colab.kernel.invokeFunction(\n",
              "            'suggestCharts', [key], {});\n",
              "      } catch (error) {\n",
              "        console.error('Error during call to suggestCharts:', error);\n",
              "      }\n",
              "      quickchartButtonEl.classList.remove('colab-df-spinner');\n",
              "      quickchartButtonEl.classList.add('colab-df-quickchart-complete');\n",
              "    }\n",
              "    (() => {\n",
              "      let quickchartButtonEl =\n",
              "        document.querySelector('#df-cb0531c9-7b48-4ad5-abe0-d7b619ad26c5 button');\n",
              "      quickchartButtonEl.style.display =\n",
              "        google.colab.kernel.accessAllowed ? 'block' : 'none';\n",
              "    })();\n",
              "  </script>\n",
              "</div>\n",
              "\n",
              "    </div>\n",
              "  </div>\n"
            ],
            "application/vnd.google.colaboratory.intrinsic+json": {
              "type": "dataframe",
              "summary": "{\n  \"name\": \"regions[['name', 'n_bancs', 'n_bancs_par_1k']]\",\n  \"rows\": 5,\n  \"fields\": [\n    {\n      \"column\": \"name\",\n      \"properties\": {\n        \"dtype\": \"string\",\n        \"num_unique_values\": 5,\n        \"samples\": [\n          \"Saku vald\",\n          \"Maardu linn\",\n          \"Anija vald\"\n        ],\n        \"semantic_type\": \"\",\n        \"description\": \"\"\n      }\n    },\n    {\n      \"column\": \"n_bancs\",\n      \"properties\": {\n        \"dtype\": \"number\",\n        \"std\": 45.6092095963085,\n        \"min\": 11.0,\n        \"max\": 136.0,\n        \"num_unique_values\": 5,\n        \"samples\": [\n          49.0,\n          136.0,\n          11.0\n        ],\n        \"semantic_type\": \"\",\n        \"description\": \"\"\n      }\n    },\n    {\n      \"column\": \"n_bancs_par_1k\",\n      \"properties\": {\n        \"dtype\": \"number\",\n        \"std\": 14.490991426494732,\n        \"min\": 2.4864376130198913,\n        \"max\": 38.51600113282356,\n        \"num_unique_values\": 5,\n        \"samples\": [\n          8.617657404150545,\n          38.51600113282356,\n          2.4864376130198913\n        ],\n        \"semantic_type\": \"\",\n        \"description\": \"\"\n      }\n    }\n  ]\n}"
            }
          },
          "metadata": {},
          "execution_count": 41
        }
      ],
      "source": [
        "regions['n_bancs_par_1k'] = regions['n_bancs'] / (regions['population'] / 1000)\n",
        "regions[['name', 'n_bancs', 'n_bancs_par_1k']].head()"
      ]
    },
    {
      "cell_type": "code",
      "execution_count": null,
      "id": "e3064fc3-480d-4fbd-a44a-76e4e241ef36",
      "metadata": {
        "id": "e3064fc3-480d-4fbd-a44a-76e4e241ef36",
        "colab": {
          "base_uri": "https://localhost:8080/",
          "height": 424
        },
        "outputId": "092c909f-47ed-48c7-f2a2-cba92bd10e2a"
      },
      "outputs": [
        {
          "output_type": "execute_result",
          "data": {
            "text/plain": [
              "<Axes: >"
            ]
          },
          "metadata": {},
          "execution_count": 42
        },
        {
          "output_type": "display_data",
          "data": {
            "text/plain": [
              "<Figure size 640x480 with 2 Axes>"
            ],
            "image/png": "[encoded data removed]"
          },
          "metadata": {}
        }
      ],
      "source": [
        "regions.plot(\n",
        "    column = 'n_bancs_par_1k',\n",
        "    cmap = 'viridis',\n",
        "    legend = True\n",
        ")"
      ]
    },
    {
      "cell_type": "markdown",
      "id": "5cdf82b5-2144-42a4-b9c4-69e572e59bed",
      "metadata": {
        "id": "5cdf82b5-2144-42a4-b9c4-69e572e59bed"
      },
      "source": [
        "Avec un peu de chance nous avons trouvé les régions les plus touristiques d'Estonie et nous pouvons planifier nos vacances. Autrement, il y aura au moins assez de bancs pour se reposer."
      ]
    },
    {
      "cell_type": "markdown",
      "id": "b1348f87-df06-4abf-8c05-a9a1594f5578",
      "metadata": {
        "id": "b1348f87-df06-4abf-8c05-a9a1594f5578"
      },
      "source": [
        "### La longueur du rail par région"
      ]
    },
    {
      "cell_type": "markdown",
      "id": "a5b71288-653c-454c-8601-82f9b2175919",
      "metadata": {
        "id": "a5b71288-653c-454c-8601-82f9b2175919"
      },
      "source": [
        "Nous pouvons aussi déterminer la longueur du rail par région à l'aide des données OSM. Commençons par charger la couche des trains:"
      ]
    },
    {
      "cell_type": "code",
      "execution_count": null,
      "id": "e875dd2a-4735-4fdc-abe1-ef73cec9b50b",
      "metadata": {
        "id": "e875dd2a-4735-4fdc-abe1-ef73cec9b50b",
        "colab": {
          "base_uri": "https://localhost:8080/",
          "height": 36
        },
        "outputId": "242aab25-fadf-40d2-a1ca-e6c49dcefbda"
      },
      "outputs": [
        {
          "output_type": "execute_result",
          "data": {
            "text/plain": [
              "'/root/.cache/pooch/b6cfe6a45ccd34fb337f2d7ce73792f4-analyse-estonie.zip.unzip/analyse-estonie/osm/gis_osm_railways_free_1.shp'"
            ],
            "application/vnd.google.colaboratory.intrinsic+json": {
              "type": "string"
            }
          },
          "metadata": {},
          "execution_count": 43
        }
      ],
      "source": [
        "rail_shp_path = [f for f in data_ee if f.endswith('.shp') and 'railways' in f][0]\n",
        "rail_shp_path"
      ]
    },
    {
      "cell_type": "markdown",
      "id": "329dcfa3-bd6d-44e7-a05a-433ff4f5aed3",
      "metadata": {
        "id": "329dcfa3-bd6d-44e7-a05a-433ff4f5aed3"
      },
      "source": [
        "Lire les données:"
      ]
    },
    {
      "cell_type": "code",
      "execution_count": null,
      "id": "23599fab-f719-4d33-89bd-266947394cd5",
      "metadata": {
        "id": "23599fab-f719-4d33-89bd-266947394cd5"
      },
      "outputs": [],
      "source": [
        "rails = gpd.read_file(rail_shp_path)"
      ]
    },
    {
      "cell_type": "markdown",
      "id": "360222d5-8838-435b-bbcb-4bd285095b7e",
      "metadata": {
        "id": "360222d5-8838-435b-bbcb-4bd285095b7e"
      },
      "source": [
        "Pour déterminer la région pour les lignes des trains, il faut découper les lignes aux limites des régions. L'opération SIG d'intersection permet de faire cela et combine en même temps les attributs des deux couches impliquées. Dans GeoPandas, nous utilisons la fonction `overlay`:"
      ]
    },
    {
      "cell_type": "code",
      "execution_count": null,
      "id": "8de0c741-4d5d-4d8d-88a5-b712bc6989da",
      "metadata": {
        "id": "8de0c741-4d5d-4d8d-88a5-b712bc6989da",
        "colab": {
          "base_uri": "https://localhost:8080/"
        },
        "outputId": "382f8670-4469-4d1d-d3ad-7bae1f8b7728"
      },
      "outputs": [
        {
          "output_type": "stream",
          "name": "stderr",
          "text": [
            "<ipython-input-45-acd9a62df9c8>:1: UserWarning: `keep_geom_type=True` in overlay resulted in 1 dropped geometries of different geometry types than df1 has. Set `keep_geom_type=False` to retain all geometries\n",
            "  rails_par_region = gpd.overlay(rails, regions, how=\"intersection\")\n"
          ]
        }
      ],
      "source": [
        "rails_par_region = gpd.overlay(rails, regions, how=\"intersection\")"
      ]
    },
    {
      "cell_type": "markdown",
      "id": "ef2b539b-965e-4967-8a5f-dba6fca78cc9",
      "metadata": {
        "id": "ef2b539b-965e-4967-8a5f-dba6fca78cc9"
      },
      "source": [
        "Nous pouvons encore ajouter la longueur des trains sur la base des lignes. Notez que cette opération dépend du système de coordonnées. Dans notre cas, nous avons un jeu de données en WGS84. Un système de coordonnées géographique en latitude/longitude ne se prête pas à un tel calcul. Nous allons projeter la couche d'abord dans un système de coordonnées UTM (la zone 35N correspond à l'Estonie, le code EPSG est 32635):"
      ]
    },
    {
      "cell_type": "code",
      "execution_count": null,
      "id": "d857b732-4fd8-48fa-9708-d4cbb7f556ca",
      "metadata": {
        "id": "d857b732-4fd8-48fa-9708-d4cbb7f556ca"
      },
      "outputs": [],
      "source": [
        "rails_par_region_utm = rails_par_region.to_crs(epsg=32635)"
      ]
    },
    {
      "cell_type": "markdown",
      "id": "9051c989-5081-4c9e-91a3-616c1e7f5db7",
      "metadata": {
        "id": "9051c989-5081-4c9e-91a3-616c1e7f5db7"
      },
      "source": [
        "Pour les opérations sur les géométries, on peut passer par l'attribut `geometry` du DataFrame GeoPandas. **Ceci nous permet de calculer des choses comme la longueur, la superficie ou le centroïde.**"
      ]
    },
    {
      "cell_type": "code",
      "execution_count": null,
      "id": "0c8a4ffe-6d84-450d-a1b3-cedd447ba305",
      "metadata": {
        "id": "0c8a4ffe-6d84-450d-a1b3-cedd447ba305"
      },
      "outputs": [],
      "source": [
        "rails_par_region_utm['longueur'] = rails_par_region_utm.geometry.length"
      ]
    },
    {
      "cell_type": "markdown",
      "id": "71728f79-b030-4363-96ff-414505b8986c",
      "metadata": {
        "id": "71728f79-b030-4363-96ff-414505b8986c"
      },
      "source": [
        "Et nous pouvons à nouveau faire une agrégation de type *«group by»* et calculer la somme. Il faut encore connaître le nom de la colonne qui contient le nom de la région:"
      ]
    },
    {
      "cell_type": "code",
      "execution_count": null,
      "id": "526fecf9-981c-40a9-94b1-ba307406f814",
      "metadata": {
        "id": "526fecf9-981c-40a9-94b1-ba307406f814",
        "colab": {
          "base_uri": "https://localhost:8080/",
          "height": 206
        },
        "outputId": "5de63a37-771d-47ce-b4d3-80ae6f19a94c"
      },
      "outputs": [
        {
          "output_type": "execute_result",
          "data": {
            "text/plain": [
              "    osm_id  code fclass name_1  layer bridge tunnel  admin_level  \\\n",
              "0  3934073  6101   rail   None      0      F      F            7   \n",
              "1  3934073  6101   rail   None      0      F      F            7   \n",
              "2  3997258  6101   rail   None      0      F      F            7   \n",
              "3  4037625  6101   rail   None      0      F      F            7   \n",
              "4  4037625  6101   rail   None      0      F      F            7   \n",
              "\n",
              "  osm_admin_level        name_2 name_en  population  hasc  n_bancs  \\\n",
              "0               7  Kadrina vald    None      2832.0  None     30.0   \n",
              "1               7  Rakvere vald    None      3179.0  None     10.0   \n",
              "2               7     Tapa vald    None      5614.0  None     62.0   \n",
              "3               7  Rakvere linn    None      2666.0  None    127.0   \n",
              "4               7  Rakvere vald    None      3179.0  None     10.0   \n",
              "\n",
              "   n_bancs_par_1k                                           geometry  \\\n",
              "0       10.593220  LINESTRING (452658.208 6578127.7, 453119.563 6...   \n",
              "1        3.145643  LINESTRING (457337.23 6578664.481, 457391.856 ...   \n",
              "2       11.043819  LINESTRING (441034.556 6570108.031, 441125.881...   \n",
              "3       47.636909  LINESTRING (462299.411 6579723.309, 462431.742...   \n",
              "4        3.145643  LINESTRING (461553.74 6579563.205, 461811.494 ...   \n",
              "\n",
              "      longueur  \n",
              "0  4714.793317  \n",
              "1  4311.226770  \n",
              "2   808.697190  \n",
              "3   783.458584  \n",
              "4   762.665633  "
            ],
            "text/html": [
              "\n",
              "  <div id=\"df-f4fbabee-2c3c-49d3-92f8-6a8b9988d05c\" class=\"colab-df-container\">\n",
              "    <div>\n",
              "<style scoped>\n",
              "    .dataframe tbody tr th:only-of-type {\n",
              "        vertical-align: middle;\n",
              "    }\n",
              "\n",
              "    .dataframe tbody tr th {\n",
              "        vertical-align: top;\n",
              "    }\n",
              "\n",
              "    .dataframe thead th {\n",
              "        text-align: right;\n",
              "    }\n",
              "</style>\n",
              "<table border=\"1\" class=\"dataframe\">\n",
              "  <thead>\n",
              "    <tr style=\"text-align: right;\">\n",
              "      <th></th>\n",
              "      <th>osm_id</th>\n",
              "      <th>code</th>\n",
              "      <th>fclass</th>\n",
              "      <th>name_1</th>\n",
              "      <th>layer</th>\n",
              "      <th>bridge</th>\n",
              "      <th>tunnel</th>\n",
              "      <th>admin_level</th>\n",
              "      <th>osm_admin_level</th>\n",
              "      <th>name_2</th>\n",
              "      <th>name_en</th>\n",
              "      <th>population</th>\n",
              "      <th>hasc</th>\n",
              "      <th>n_bancs</th>\n",
              "      <th>n_bancs_par_1k</th>\n",
              "      <th>geometry</th>\n",
              "      <th>longueur</th>\n",
              "    </tr>\n",
              "  </thead>\n",
              "  <tbody>\n",
              "    <tr>\n",
              "      <th>0</th>\n",
              "      <td>3934073</td>\n",
              "      <td>6101</td>\n",
              "      <td>rail</td>\n",
              "      <td>None</td>\n",
              "      <td>0</td>\n",
              "      <td>F</td>\n",
              "      <td>F</td>\n",
              "      <td>7</td>\n",
              "      <td>7</td>\n",
              "      <td>Kadrina vald</td>\n",
              "      <td>None</td>\n",
              "      <td>2832.0</td>\n",
              "      <td>None</td>\n",
              "      <td>30.0</td>\n",
              "      <td>10.593220</td>\n",
              "      <td>LINESTRING (452658.208 6578127.7, 453119.563 6...</td>\n",
              "      <td>4714.793317</td>\n",
              "    </tr>\n",
              "    <tr>\n",
              "      <th>1</th>\n",
              "      <td>3934073</td>\n",
              "      <td>6101</td>\n",
              "      <td>rail</td>\n",
              "      <td>None</td>\n",
              "      <td>0</td>\n",
              "      <td>F</td>\n",
              "      <td>F</td>\n",
              "      <td>7</td>\n",
              "      <td>7</td>\n",
              "      <td>Rakvere vald</td>\n",
              "      <td>None</td>\n",
              "      <td>3179.0</td>\n",
              "      <td>None</td>\n",
              "      <td>10.0</td>\n",
              "      <td>3.145643</td>\n",
              "      <td>LINESTRING (457337.23 6578664.481, 457391.856 ...</td>\n",
              "      <td>4311.226770</td>\n",
              "    </tr>\n",
              "    <tr>\n",
              "      <th>2</th>\n",
              "      <td>3997258</td>\n",
              "      <td>6101</td>\n",
              "      <td>rail</td>\n",
              "      <td>None</td>\n",
              "      <td>0</td>\n",
              "      <td>F</td>\n",
              "      <td>F</td>\n",
              "      <td>7</td>\n",
              "      <td>7</td>\n",
              "      <td>Tapa vald</td>\n",
              "      <td>None</td>\n",
              "      <td>5614.0</td>\n",
              "      <td>None</td>\n",
              "      <td>62.0</td>\n",
              "      <td>11.043819</td>\n",
              "      <td>LINESTRING (441034.556 6570108.031, 441125.881...</td>\n",
              "      <td>808.697190</td>\n",
              "    </tr>\n",
              "    <tr>\n",
              "      <th>3</th>\n",
              "      <td>4037625</td>\n",
              "      <td>6101</td>\n",
              "      <td>rail</td>\n",
              "      <td>None</td>\n",
              "      <td>0</td>\n",
              "      <td>F</td>\n",
              "      <td>F</td>\n",
              "      <td>7</td>\n",
              "      <td>7</td>\n",
              "      <td>Rakvere linn</td>\n",
              "      <td>None</td>\n",
              "      <td>2666.0</td>\n",
              "      <td>None</td>\n",
              "      <td>127.0</td>\n",
              "      <td>47.636909</td>\n",
              "      <td>LINESTRING (462299.411 6579723.309, 462431.742...</td>\n",
              "      <td>783.458584</td>\n",
              "    </tr>\n",
              "    <tr>\n",
              "      <th>4</th>\n",
              "      <td>4037625</td>\n",
              "      <td>6101</td>\n",
              "      <td>rail</td>\n",
              "      <td>None</td>\n",
              "      <td>0</td>\n",
              "      <td>F</td>\n",
              "      <td>F</td>\n",
              "      <td>7</td>\n",
              "      <td>7</td>\n",
              "      <td>Rakvere vald</td>\n",
              "      <td>None</td>\n",
              "      <td>3179.0</td>\n",
              "      <td>None</td>\n",
              "      <td>10.0</td>\n",
              "      <td>3.145643</td>\n",
              "      <td>LINESTRING (461553.74 6579563.205, 461811.494 ...</td>\n",
              "      <td>762.665633</td>\n",
              "    </tr>\n",
              "  </tbody>\n",
              "</table>\n",
              "</div>\n",
              "    <div class=\"colab-df-buttons\">\n",
              "\n",
              "  <div class=\"colab-df-container\">\n",
              "    <button class=\"colab-df-convert\" onclick=\"convertToInteractive('df-f4fbabee-2c3c-49d3-92f8-6a8b9988d05c')\"\n",
              "            title=\"Convert this dataframe to an interactive table.\"\n",
              "            style=\"display:none;\">\n",
              "\n",
              "  <svg xmlns=\"http://www.w3.org/2000/svg\" height=\"24px\" viewBox=\"0 -960 960 960\">\n",
              "    <path d=\"M120-120v-720h720v720H120Zm60-500h600v-160H180v160Zm220 220h160v-160H400v160Zm0 220h160v-160H400v160ZM180-400h160v-160H180v160Zm440 0h160v-160H620v160ZM180-180h160v-160H180v160Zm440 0h160v-160H620v160Z\"/>\n",
              "  </svg>\n",
              "    </button>\n",
              "\n",
              "  <style>\n",
              "    .colab-df-container {\n",
              "      display:flex;\n",
              "      gap: 12px;\n",
              "    }\n",
              "\n",
              "    .colab-df-convert {\n",
              "      background-color: #E8F0FE;\n",
              "      border: none;\n",
              "      border-radius: 50%;\n",
              "      cursor: pointer;\n",
              "      display: none;\n",
              "      fill: #1967D2;\n",
              "      height: 32px;\n",
              "      padding: 0 0 0 0;\n",
              "      width: 32px;\n",
              "    }\n",
              "\n",
              "    .colab-df-convert:hover {\n",
              "      background-color: #E2EBFA;\n",
              "      box-shadow: 0px 1px 2px rgba(60, 64, 67, 0.3), 0px 1px 3px 1px rgba(60, 64, 67, 0.15);\n",
              "      fill: #174EA6;\n",
              "    }\n",
              "\n",
              "    .colab-df-buttons div {\n",
              "      margin-bottom: 4px;\n",
              "    }\n",
              "\n",
              "    [theme=dark] .colab-df-convert {\n",
              "      background-color: #3B4455;\n",
              "      fill: #D2E3FC;\n",
              "    }\n",
              "\n",
              "    [theme=dark] .colab-df-convert:hover {\n",
              "      background-color: #434B5C;\n",
              "      box-shadow: 0px 1px 3px 1px rgba(0, 0, 0, 0.15);\n",
              "      filter: drop-shadow(0px 1px 2px rgba(0, 0, 0, 0.3));\n",
              "      fill: #FFFFFF;\n",
              "    }\n",
              "  </style>\n",
              "\n",
              "    <script>\n",
              "      const buttonEl =\n",
              "        document.querySelector('#df-f4fbabee-2c3c-49d3-92f8-6a8b9988d05c button.colab-df-convert');\n",
              "      buttonEl.style.display =\n",
              "        google.colab.kernel.accessAllowed ? 'block' : 'none';\n",
              "\n",
              "      async function convertToInteractive(key) {\n",
              "        const element = document.querySelector('#df-f4fbabee-2c3c-49d3-92f8-6a8b9988d05c');\n",
              "        const dataTable =\n",
              "          await google.colab.kernel.invokeFunction('convertToInteractive',\n",
              "                                                    [key], {});\n",
              "        if (!dataTable) return;\n",
              "\n",
              "        const docLinkHtml = 'Like what you see? Visit the ' +\n",
              "          '<a target=\"_blank\" href=https://colab.research.google.com/notebooks/data_table.ipynb>data table notebook</a>'\n",
              "          + ' to learn more about interactive tables.';\n",
              "        element.innerHTML = '';\n",
              "        dataTable['output_type'] = 'display_data';\n",
              "        await google.colab.output.renderOutput(dataTable, element);\n",
              "        const docLink = document.createElement('div');\n",
              "        docLink.innerHTML = docLinkHtml;\n",
              "        element.appendChild(docLink);\n",
              "      }\n",
              "    </script>\n",
              "  </div>\n",
              "\n",
              "\n",
              "<div id=\"df-02c77d41-e33e-4194-98cc-f939f5525fcf\">\n",
              "  <button class=\"colab-df-quickchart\" onclick=\"quickchart('df-02c77d41-e33e-4194-98cc-f939f5525fcf')\"\n",
              "            title=\"Suggest charts\"\n",
              "            style=\"display:none;\">\n",
              "\n",
              "<svg xmlns=\"http://www.w3.org/2000/svg\" height=\"24px\"viewBox=\"0 0 24 24\"\n",
              "     width=\"24px\">\n",
              "    <g>\n",
              "        <path d=\"M19 3H5c-1.1 0-2 .9-2 2v14c0 1.1.9 2 2 2h14c1.1 0 2-.9 2-2V5c0-1.1-.9-2-2-2zM9 17H7v-7h2v7zm4 0h-2V7h2v10zm4 0h-2v-4h2v4z\"/>\n",
              "    </g>\n",
              "</svg>\n",
              "  </button>\n",
              "\n",
              "<style>\n",
              "  .colab-df-quickchart {\n",
              "      --bg-color: #E8F0FE;\n",
              "      --fill-color: #1967D2;\n",
              "      --hover-bg-color: #E2EBFA;\n",
              "      --hover-fill-color: #174EA6;\n",
              "      --disabled-fill-color: #AAA;\n",
              "      --disabled-bg-color: #DDD;\n",
              "  }\n",
              "\n",
              "  [theme=dark] .colab-df-quickchart {\n",
              "      --bg-color: #3B4455;\n",
              "      --fill-color: #D2E3FC;\n",
              "      --hover-bg-color: #434B5C;\n",
              "      --hover-fill-color: #FFFFFF;\n",
              "      --disabled-bg-color: #3B4455;\n",
              "      --disabled-fill-color: #666;\n",
              "  }\n",
              "\n",
              "  .colab-df-quickchart {\n",
              "    background-color: var(--bg-color);\n",
              "    border: none;\n",
              "    border-radius: 50%;\n",
              "    cursor: pointer;\n",
              "    display: none;\n",
              "    fill: var(--fill-color);\n",
              "    height: 32px;\n",
              "    padding: 0;\n",
              "    width: 32px;\n",
              "  }\n",
              "\n",
              "  .colab-df-quickchart:hover {\n",
              "    background-color: var(--hover-bg-color);\n",
              "    box-shadow: 0 1px 2px rgba(60, 64, 67, 0.3), 0 1px 3px 1px rgba(60, 64, 67, 0.15);\n",
              "    fill: var(--button-hover-fill-color);\n",
              "  }\n",
              "\n",
              "  .colab-df-quickchart-complete:disabled,\n",
              "  .colab-df-quickchart-complete:disabled:hover {\n",
              "    background-color: var(--disabled-bg-color);\n",
              "    fill: var(--disabled-fill-color);\n",
              "    box-shadow: none;\n",
              "  }\n",
              "\n",
              "  .colab-df-spinner {\n",
              "    border: 2px solid var(--fill-color);\n",
              "    border-color: transparent;\n",
              "    border-bottom-color: var(--fill-color);\n",
              "    animation:\n",
              "      spin 1s steps(1) infinite;\n",
              "  }\n",
              "\n",
              "  @keyframes spin {\n",
              "    0% {\n",
              "      border-color: transparent;\n",
              "      border-bottom-color: var(--fill-color);\n",
              "      border-left-color: var(--fill-color);\n",
              "    }\n",
              "    20% {\n",
              "      border-color: transparent;\n",
              "      border-left-color: var(--fill-color);\n",
              "      border-top-color: var(--fill-color);\n",
              "    }\n",
              "    30% {\n",
              "      border-color: transparent;\n",
              "      border-left-color: var(--fill-color);\n",
              "      border-top-color: var(--fill-color);\n",
              "      border-right-color: var(--fill-color);\n",
              "    }\n",
              "    40% {\n",
              "      border-color: transparent;\n",
              "      border-right-color: var(--fill-color);\n",
              "      border-top-color: var(--fill-color);\n",
              "    }\n",
              "    60% {\n",
              "      border-color: transparent;\n",
              "      border-right-color: var(--fill-color);\n",
              "    }\n",
              "    80% {\n",
              "      border-color: transparent;\n",
              "      border-right-color: var(--fill-color);\n",
              "      border-bottom-color: var(--fill-color);\n",
              "    }\n",
              "    90% {\n",
              "      border-color: transparent;\n",
              "      border-bottom-color: var(--fill-color);\n",
              "    }\n",
              "  }\n",
              "</style>\n",
              "\n",
              "  <script>\n",
              "    async function quickchart(key) {\n",
              "      const quickchartButtonEl =\n",
              "        document.querySelector('#' + key + ' button');\n",
              "      quickchartButtonEl.disabled = true;  // To prevent multiple clicks.\n",
              "      quickchartButtonEl.classList.add('colab-df-spinner');\n",
              "      try {\n",
              "        const charts = await google.colab.kernel.invokeFunction(\n",
              "            'suggestCharts', [key], {});\n",
              "      } catch (error) {\n",
              "        console.error('Error during call to suggestCharts:', error);\n",
              "      }\n",
              "      quickchartButtonEl.classList.remove('colab-df-spinner');\n",
              "      quickchartButtonEl.classList.add('colab-df-quickchart-complete');\n",
              "    }\n",
              "    (() => {\n",
              "      let quickchartButtonEl =\n",
              "        document.querySelector('#df-02c77d41-e33e-4194-98cc-f939f5525fcf button');\n",
              "      quickchartButtonEl.style.display =\n",
              "        google.colab.kernel.accessAllowed ? 'block' : 'none';\n",
              "    })();\n",
              "  </script>\n",
              "</div>\n",
              "\n",
              "    </div>\n",
              "  </div>\n"
            ],
            "application/vnd.google.colaboratory.intrinsic+json": {
              "type": "dataframe",
              "variable_name": "rails_par_region_utm",
              "repr_error": "Out of range float values are not JSON compliant: nan"
            }
          },
          "metadata": {},
          "execution_count": 48
        }
      ],
      "source": [
        "rails_par_region_utm.head()"
      ]
    },
    {
      "cell_type": "code",
      "execution_count": null,
      "id": "317f2c04-ee06-4713-9a3f-acf340529d3f",
      "metadata": {
        "id": "317f2c04-ee06-4713-9a3f-acf340529d3f",
        "colab": {
          "base_uri": "https://localhost:8080/",
          "height": 272
        },
        "outputId": "91350af1-afba-4eda-a988-58b0f3a7183a"
      },
      "outputs": [
        {
          "output_type": "execute_result",
          "data": {
            "text/plain": [
              "name_2\n",
              "Alutaguse vald    24563.534651\n",
              "Anija vald        70664.036293\n",
              "Antsla vald       16020.806355\n",
              "Elva vald         24785.511269\n",
              "Haapsalu linn      2351.591157\n",
              "Name: longueur, dtype: float64"
            ],
            "text/html": [
              "<div>\n",
              "<style scoped>\n",
              "    .dataframe tbody tr th:only-of-type {\n",
              "        vertical-align: middle;\n",
              "    }\n",
              "\n",
              "    .dataframe tbody tr th {\n",
              "        vertical-align: top;\n",
              "    }\n",
              "\n",
              "    .dataframe thead th {\n",
              "        text-align: right;\n",
              "    }\n",
              "</style>\n",
              "<table border=\"1\" class=\"dataframe\">\n",
              "  <thead>\n",
              "    <tr style=\"text-align: right;\">\n",
              "      <th></th>\n",
              "      <th>longueur</th>\n",
              "    </tr>\n",
              "    <tr>\n",
              "      <th>name_2</th>\n",
              "      <th></th>\n",
              "    </tr>\n",
              "  </thead>\n",
              "  <tbody>\n",
              "    <tr>\n",
              "      <th>Alutaguse vald</th>\n",
              "      <td>24563.534651</td>\n",
              "    </tr>\n",
              "    <tr>\n",
              "      <th>Anija vald</th>\n",
              "      <td>70664.036293</td>\n",
              "    </tr>\n",
              "    <tr>\n",
              "      <th>Antsla vald</th>\n",
              "      <td>16020.806355</td>\n",
              "    </tr>\n",
              "    <tr>\n",
              "      <th>Elva vald</th>\n",
              "      <td>24785.511269</td>\n",
              "    </tr>\n",
              "    <tr>\n",
              "      <th>Haapsalu linn</th>\n",
              "      <td>2351.591157</td>\n",
              "    </tr>\n",
              "  </tbody>\n",
              "</table>\n",
              "</div><br><label><b>dtype:</b> float64</label>"
            ]
          },
          "metadata": {},
          "execution_count": 49
        }
      ],
      "source": [
        "rail_longueurs = rails_par_region_utm.groupby('name_2')['longueur'].sum()\n",
        "rail_longueurs.head()"
      ]
    },
    {
      "cell_type": "markdown",
      "id": "38fd521d-0920-4a0f-9cb4-02b1eb7c7462",
      "metadata": {
        "id": "38fd521d-0920-4a0f-9cb4-02b1eb7c7462"
      },
      "source": [
        "Et nous pouvons ajouter l'information au GeoDataFrame sous forme d'une nouvelle colonne:"
      ]
    },
    {
      "cell_type": "code",
      "execution_count": null,
      "id": "84a4fb02-45ce-4003-b4f7-f484a049981b",
      "metadata": {
        "id": "84a4fb02-45ce-4003-b4f7-f484a049981b",
        "colab": {
          "base_uri": "https://localhost:8080/",
          "height": 206
        },
        "outputId": "3ad8b7b1-e84c-4a5e-d8ad-6aadd666875a"
      },
      "outputs": [
        {
          "output_type": "execute_result",
          "data": {
            "text/plain": [
              "   admin_level osm_admin_level           name      name_en  population  hasc  \\\n",
              "0            7               7  Viljandi vald         None     12987.0  None   \n",
              "1            7               7      Saku vald  Saku Parish      5686.0  None   \n",
              "2            7               7     Anija vald         None      4424.0  None   \n",
              "3            7               7     Rõuge vald         None      7124.0  None   \n",
              "4            7               7    Maardu linn       Maardu      3531.0  None   \n",
              "\n",
              "                                            geometry  n_bancs  n_bancs_par_1k  \\\n",
              "0  MULTIPOLYGON (((25.30726 58.39193, 25.30734 58...     77.0        5.929006   \n",
              "1  MULTIPOLYGON (((24.52208 59.27347, 24.5225 59....     49.0        8.617657   \n",
              "2  MULTIPOLYGON (((25.16759 59.34274, 25.16761 59...     11.0        2.486438   \n",
              "3  MULTIPOLYGON (((26.44342 57.65159, 26.446 57.6...     71.0        9.966311   \n",
              "4  MULTIPOLYGON (((24.91462 59.47382, 24.91635 59...    136.0       38.516001   \n",
              "\n",
              "   rail_longueur  \n",
              "0   10121.266885  \n",
              "1   18023.618075  \n",
              "2   70664.036293  \n",
              "3    1459.614624  \n",
              "4   79907.784848  "
            ],
            "text/html": [
              "\n",
              "  <div id=\"df-0f3a5297-c2df-4438-984c-3191ea06bcfe\" class=\"colab-df-container\">\n",
              "    <div>\n",
              "<style scoped>\n",
              "    .dataframe tbody tr th:only-of-type {\n",
              "        vertical-align: middle;\n",
              "    }\n",
              "\n",
              "    .dataframe tbody tr th {\n",
              "        vertical-align: top;\n",
              "    }\n",
              "\n",
              "    .dataframe thead th {\n",
              "        text-align: right;\n",
              "    }\n",
              "</style>\n",
              "<table border=\"1\" class=\"dataframe\">\n",
              "  <thead>\n",
              "    <tr style=\"text-align: right;\">\n",
              "      <th></th>\n",
              "      <th>admin_level</th>\n",
              "      <th>osm_admin_level</th>\n",
              "      <th>name</th>\n",
              "      <th>name_en</th>\n",
              "      <th>population</th>\n",
              "      <th>hasc</th>\n",
              "      <th>geometry</th>\n",
              "      <th>n_bancs</th>\n",
              "      <th>n_bancs_par_1k</th>\n",
              "      <th>rail_longueur</th>\n",
              "    </tr>\n",
              "  </thead>\n",
              "  <tbody>\n",
              "    <tr>\n",
              "      <th>0</th>\n",
              "      <td>7</td>\n",
              "      <td>7</td>\n",
              "      <td>Viljandi vald</td>\n",
              "      <td>None</td>\n",
              "      <td>12987.0</td>\n",
              "      <td>None</td>\n",
              "      <td>MULTIPOLYGON (((25.30726 58.39193, 25.30734 58...</td>\n",
              "      <td>77.0</td>\n",
              "      <td>5.929006</td>\n",
              "      <td>10121.266885</td>\n",
              "    </tr>\n",
              "    <tr>\n",
              "      <th>1</th>\n",
              "      <td>7</td>\n",
              "      <td>7</td>\n",
              "      <td>Saku vald</td>\n",
              "      <td>Saku Parish</td>\n",
              "      <td>5686.0</td>\n",
              "      <td>None</td>\n",
              "      <td>MULTIPOLYGON (((24.52208 59.27347, 24.5225 59....</td>\n",
              "      <td>49.0</td>\n",
              "      <td>8.617657</td>\n",
              "      <td>18023.618075</td>\n",
              "    </tr>\n",
              "    <tr>\n",
              "      <th>2</th>\n",
              "      <td>7</td>\n",
              "      <td>7</td>\n",
              "      <td>Anija vald</td>\n",
              "      <td>None</td>\n",
              "      <td>4424.0</td>\n",
              "      <td>None</td>\n",
              "      <td>MULTIPOLYGON (((25.16759 59.34274, 25.16761 59...</td>\n",
              "      <td>11.0</td>\n",
              "      <td>2.486438</td>\n",
              "      <td>70664.036293</td>\n",
              "    </tr>\n",
              "    <tr>\n",
              "      <th>3</th>\n",
              "      <td>7</td>\n",
              "      <td>7</td>\n",
              "      <td>Rõuge vald</td>\n",
              "      <td>None</td>\n",
              "      <td>7124.0</td>\n",
              "      <td>None</td>\n",
              "      <td>MULTIPOLYGON (((26.44342 57.65159, 26.446 57.6...</td>\n",
              "      <td>71.0</td>\n",
              "      <td>9.966311</td>\n",
              "      <td>1459.614624</td>\n",
              "    </tr>\n",
              "    <tr>\n",
              "      <th>4</th>\n",
              "      <td>7</td>\n",
              "      <td>7</td>\n",
              "      <td>Maardu linn</td>\n",
              "      <td>Maardu</td>\n",
              "      <td>3531.0</td>\n",
              "      <td>None</td>\n",
              "      <td>MULTIPOLYGON (((24.91462 59.47382, 24.91635 59...</td>\n",
              "      <td>136.0</td>\n",
              "      <td>38.516001</td>\n",
              "      <td>79907.784848</td>\n",
              "    </tr>\n",
              "  </tbody>\n",
              "</table>\n",
              "</div>\n",
              "    <div class=\"colab-df-buttons\">\n",
              "\n",
              "  <div class=\"colab-df-container\">\n",
              "    <button class=\"colab-df-convert\" onclick=\"convertToInteractive('df-0f3a5297-c2df-4438-984c-3191ea06bcfe')\"\n",
              "            title=\"Convert this dataframe to an interactive table.\"\n",
              "            style=\"display:none;\">\n",
              "\n",
              "  <svg xmlns=\"http://www.w3.org/2000/svg\" height=\"24px\" viewBox=\"0 -960 960 960\">\n",
              "    <path d=\"M120-120v-720h720v720H120Zm60-500h600v-160H180v160Zm220 220h160v-160H400v160Zm0 220h160v-160H400v160ZM180-400h160v-160H180v160Zm440 0h160v-160H620v160ZM180-180h160v-160H180v160Zm440 0h160v-160H620v160Z\"/>\n",
              "  </svg>\n",
              "    </button>\n",
              "\n",
              "  <style>\n",
              "    .colab-df-container {\n",
              "      display:flex;\n",
              "      gap: 12px;\n",
              "    }\n",
              "\n",
              "    .colab-df-convert {\n",
              "      background-color: #E8F0FE;\n",
              "      border: none;\n",
              "      border-radius: 50%;\n",
              "      cursor: pointer;\n",
              "      display: none;\n",
              "      fill: #1967D2;\n",
              "      height: 32px;\n",
              "      padding: 0 0 0 0;\n",
              "      width: 32px;\n",
              "    }\n",
              "\n",
              "    .colab-df-convert:hover {\n",
              "      background-color: #E2EBFA;\n",
              "      box-shadow: 0px 1px 2px rgba(60, 64, 67, 0.3), 0px 1px 3px 1px rgba(60, 64, 67, 0.15);\n",
              "      fill: #174EA6;\n",
              "    }\n",
              "\n",
              "    .colab-df-buttons div {\n",
              "      margin-bottom: 4px;\n",
              "    }\n",
              "\n",
              "    [theme=dark] .colab-df-convert {\n",
              "      background-color: #3B4455;\n",
              "      fill: #D2E3FC;\n",
              "    }\n",
              "\n",
              "    [theme=dark] .colab-df-convert:hover {\n",
              "      background-color: #434B5C;\n",
              "      box-shadow: 0px 1px 3px 1px rgba(0, 0, 0, 0.15);\n",
              "      filter: drop-shadow(0px 1px 2px rgba(0, 0, 0, 0.3));\n",
              "      fill: #FFFFFF;\n",
              "    }\n",
              "  </style>\n",
              "\n",
              "    <script>\n",
              "      const buttonEl =\n",
              "        document.querySelector('#df-0f3a5297-c2df-4438-984c-3191ea06bcfe button.colab-df-convert');\n",
              "      buttonEl.style.display =\n",
              "        google.colab.kernel.accessAllowed ? 'block' : 'none';\n",
              "\n",
              "      async function convertToInteractive(key) {\n",
              "        const element = document.querySelector('#df-0f3a5297-c2df-4438-984c-3191ea06bcfe');\n",
              "        const dataTable =\n",
              "          await google.colab.kernel.invokeFunction('convertToInteractive',\n",
              "                                                    [key], {});\n",
              "        if (!dataTable) return;\n",
              "\n",
              "        const docLinkHtml = 'Like what you see? Visit the ' +\n",
              "          '<a target=\"_blank\" href=https://colab.research.google.com/notebooks/data_table.ipynb>data table notebook</a>'\n",
              "          + ' to learn more about interactive tables.';\n",
              "        element.innerHTML = '';\n",
              "        dataTable['output_type'] = 'display_data';\n",
              "        await google.colab.output.renderOutput(dataTable, element);\n",
              "        const docLink = document.createElement('div');\n",
              "        docLink.innerHTML = docLinkHtml;\n",
              "        element.appendChild(docLink);\n",
              "      }\n",
              "    </script>\n",
              "  </div>\n",
              "\n",
              "\n",
              "<div id=\"df-3b93d184-228b-4bda-b678-47830a8ea172\">\n",
              "  <button class=\"colab-df-quickchart\" onclick=\"quickchart('df-3b93d184-228b-4bda-b678-47830a8ea172')\"\n",
              "            title=\"Suggest charts\"\n",
              "            style=\"display:none;\">\n",
              "\n",
              "<svg xmlns=\"http://www.w3.org/2000/svg\" height=\"24px\"viewBox=\"0 0 24 24\"\n",
              "     width=\"24px\">\n",
              "    <g>\n",
              "        <path d=\"M19 3H5c-1.1 0-2 .9-2 2v14c0 1.1.9 2 2 2h14c1.1 0 2-.9 2-2V5c0-1.1-.9-2-2-2zM9 17H7v-7h2v7zm4 0h-2V7h2v10zm4 0h-2v-4h2v4z\"/>\n",
              "    </g>\n",
              "</svg>\n",
              "  </button>\n",
              "\n",
              "<style>\n",
              "  .colab-df-quickchart {\n",
              "      --bg-color: #E8F0FE;\n",
              "      --fill-color: #1967D2;\n",
              "      --hover-bg-color: #E2EBFA;\n",
              "      --hover-fill-color: #174EA6;\n",
              "      --disabled-fill-color: #AAA;\n",
              "      --disabled-bg-color: #DDD;\n",
              "  }\n",
              "\n",
              "  [theme=dark] .colab-df-quickchart {\n",
              "      --bg-color: #3B4455;\n",
              "      --fill-color: #D2E3FC;\n",
              "      --hover-bg-color: #434B5C;\n",
              "      --hover-fill-color: #FFFFFF;\n",
              "      --disabled-bg-color: #3B4455;\n",
              "      --disabled-fill-color: #666;\n",
              "  }\n",
              "\n",
              "  .colab-df-quickchart {\n",
              "    background-color: var(--bg-color);\n",
              "    border: none;\n",
              "    border-radius: 50%;\n",
              "    cursor: pointer;\n",
              "    display: none;\n",
              "    fill: var(--fill-color);\n",
              "    height: 32px;\n",
              "    padding: 0;\n",
              "    width: 32px;\n",
              "  }\n",
              "\n",
              "  .colab-df-quickchart:hover {\n",
              "    background-color: var(--hover-bg-color);\n",
              "    box-shadow: 0 1px 2px rgba(60, 64, 67, 0.3), 0 1px 3px 1px rgba(60, 64, 67, 0.15);\n",
              "    fill: var(--button-hover-fill-color);\n",
              "  }\n",
              "\n",
              "  .colab-df-quickchart-complete:disabled,\n",
              "  .colab-df-quickchart-complete:disabled:hover {\n",
              "    background-color: var(--disabled-bg-color);\n",
              "    fill: var(--disabled-fill-color);\n",
              "    box-shadow: none;\n",
              "  }\n",
              "\n",
              "  .colab-df-spinner {\n",
              "    border: 2px solid var(--fill-color);\n",
              "    border-color: transparent;\n",
              "    border-bottom-color: var(--fill-color);\n",
              "    animation:\n",
              "      spin 1s steps(1) infinite;\n",
              "  }\n",
              "\n",
              "  @keyframes spin {\n",
              "    0% {\n",
              "      border-color: transparent;\n",
              "      border-bottom-color: var(--fill-color);\n",
              "      border-left-color: var(--fill-color);\n",
              "    }\n",
              "    20% {\n",
              "      border-color: transparent;\n",
              "      border-left-color: var(--fill-color);\n",
              "      border-top-color: var(--fill-color);\n",
              "    }\n",
              "    30% {\n",
              "      border-color: transparent;\n",
              "      border-left-color: var(--fill-color);\n",
              "      border-top-color: var(--fill-color);\n",
              "      border-right-color: var(--fill-color);\n",
              "    }\n",
              "    40% {\n",
              "      border-color: transparent;\n",
              "      border-right-color: var(--fill-color);\n",
              "      border-top-color: var(--fill-color);\n",
              "    }\n",
              "    60% {\n",
              "      border-color: transparent;\n",
              "      border-right-color: var(--fill-color);\n",
              "    }\n",
              "    80% {\n",
              "      border-color: transparent;\n",
              "      border-right-color: var(--fill-color);\n",
              "      border-bottom-color: var(--fill-color);\n",
              "    }\n",
              "    90% {\n",
              "      border-color: transparent;\n",
              "      border-bottom-color: var(--fill-color);\n",
              "    }\n",
              "  }\n",
              "</style>\n",
              "\n",
              "  <script>\n",
              "    async function quickchart(key) {\n",
              "      const quickchartButtonEl =\n",
              "        document.querySelector('#' + key + ' button');\n",
              "      quickchartButtonEl.disabled = true;  // To prevent multiple clicks.\n",
              "      quickchartButtonEl.classList.add('colab-df-spinner');\n",
              "      try {\n",
              "        const charts = await google.colab.kernel.invokeFunction(\n",
              "            'suggestCharts', [key], {});\n",
              "      } catch (error) {\n",
              "        console.error('Error during call to suggestCharts:', error);\n",
              "      }\n",
              "      quickchartButtonEl.classList.remove('colab-df-spinner');\n",
              "      quickchartButtonEl.classList.add('colab-df-quickchart-complete');\n",
              "    }\n",
              "    (() => {\n",
              "      let quickchartButtonEl =\n",
              "        document.querySelector('#df-3b93d184-228b-4bda-b678-47830a8ea172 button');\n",
              "      quickchartButtonEl.style.display =\n",
              "        google.colab.kernel.accessAllowed ? 'block' : 'none';\n",
              "    })();\n",
              "  </script>\n",
              "</div>\n",
              "\n",
              "    </div>\n",
              "  </div>\n"
            ],
            "application/vnd.google.colaboratory.intrinsic+json": {
              "type": "dataframe",
              "variable_name": "regions",
              "repr_error": "Out of range float values are not JSON compliant: nan"
            }
          },
          "metadata": {},
          "execution_count": 50
        }
      ],
      "source": [
        "regions[\"rail_longueur\"] = regions[\"name\"].map(rail_longueurs)\n",
        "regions.head()"
      ]
    },
    {
      "cell_type": "markdown",
      "id": "3f404030-957d-49c3-8550-79a6600c3375",
      "metadata": {
        "id": "3f404030-957d-49c3-8550-79a6600c3375"
      },
      "source": [
        "Par ailleurs, l'unité de la longueur est la même que celle du système de coordonnées. Pour UTM, ce sont des mètres."
      ]
    }
  ],
  "metadata": {
    "kernelspec": {
      "display_name": "Python 3 (ipykernel)",
      "language": "python",
      "name": "python3"
    },
    "language_info": {
      "codemirror_mode": {
        "name": "ipython",
        "version": 3
      },
      "file_extension": ".py",
      "mimetype": "text/x-python",
      "name": "python",
      "nbconvert_exporter": "python",
      "pygments_lexer": "ipython3",
      "version": "3.10.12"
    },
    "colab": {
      "provenance": [],
      "toc_visible": true,
      "include_colab_link": true
    }
  },
  "nbformat": 4,
  "nbformat_minor": 5
}