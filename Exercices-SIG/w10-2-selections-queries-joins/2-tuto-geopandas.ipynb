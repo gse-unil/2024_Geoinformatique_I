{
 "cells": [
  {
   "cell_type": "markdown",
   "id": "a272ccc7-3f65-455d-8c74-411bf02586e6",
   "metadata": {},
   "source": [
    "<a target=\"_blank\" href=\"https://colab.research.google.com/github/gse-unil/2024_Geoinformatique_I/blob/main/Exercices-SIG/w10-2-selections-queries-joins/2-tuto-geopandas.ipynb\">\n",
    "  <img src=\"data:image/png;base64, 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\" alt=\"Open In Colab\"/>\n",
    "</a>"
   ]
  },
  {
   "cell_type": "markdown",
   "id": "ac8e0f66-e58b-4792-8c39-e08002515cac",
   "metadata": {},
   "source": [
    "# Intro à GeoPandas"
   ]
  },
  {
   "cell_type": "markdown",
   "id": "ac07ecf9-ba20-4bf4-86bf-e51dfe826a52",
   "metadata": {},
   "source": [
    "GeoPandas est une extension du module Pandas et rajoute la prise en charge de données géospatiales. La structure de données principale de GeoPandas est le **GeoDataFrame**. C'est un **DataFrame** de Pandas, mais qui supporte des colonnes géométriques. En fait, la géométrie est traitée simplement comme une colonne supplémentaire du DataFrame.\n",
    "\n",
    "Chaque colonne est représentée par une GeoSeries, qui est l'équivalent GeoPandas des Series de Pandas. Donc un GeoDataFrame est simplement une collection de GeoSeries. Une GeoSeries peut contenir des données numériques, textuelles etc. comme dans Pandas, mais en plus aussi des géométries.\n",
    "\n",
    "Chaque GeoDataFrame peut contenir en principe plusieurs colonnes géométriques, ce qui les différencie d'une couche vectorielle traditionnelle d'un SIG.\n",
    "\n",
    "Toutes les opérations qui peuvent être faites sur un DataFrame de Pandas peuvent aussi être faites sur un GeoDataFrame."
   ]
  },
  {
   "cell_type": "markdown",
   "id": "b7a0d422-8cc8-49ac-88df-e2ce3d81a5f8",
   "metadata": {},
   "source": [
    "## Objectifs\n",
    "\n",
    "Dans ce tutoriel, nous allons explorer l'utilisation de GeoPandas pour manipuler des données géospatiales. GeoPandas est une extension de Pandas, et si vous êtes déjà familier avec Pandas, apprendre GeoPandas sera une transition naturelle. GeoPandas ajoute des capacités géospatiales aux DataFrames de Pandas, ce qui en fait un outil puissant pour analyser des données géographiques.\n",
    "\n",
    "Nous allons découvrir les possibilités de GeoPandas à l'aide de deux exemples:\n",
    "\n",
    "- Manipulation des données géospatiales des pays du monde : lecture, jointure, calculs géographiques et analyse statistique.\n",
    "- Analyse géospatiale des données OpenStreetMap en Estonie : calcul des distances, agrégation des données, et statistiques géographiques."
   ]
  },
  {
   "cell_type": "markdown",
   "id": "1fa275d1-fe84-4f3a-8020-8f4322562cab",
   "metadata": {},
   "source": [
    "## Partie 1: Indice démographique des pays du monde\n",
    "\n",
    "Dans cet exemple, nous allons calculer un indice démographique pour les pays du monde, à l'aide des données de la Banque mondiale et des géométries de [Natural Earth](https://naturalearthdata.com)."
   ]
  },
  {
   "cell_type": "markdown",
   "id": "f79cfa84-dcbf-4bad-8aeb-f396833288a1",
   "metadata": {},
   "source": [
    "Avant de commencer, nous devons obtenir les données nécessaires à l'analyse. Nous faisons cela avec le module `pooch`. Il faut d'abord s'assurer qu'il est installé:"
   ]
  },
  {
   "cell_type": "code",
   "execution_count": null,
   "id": "c7921a91-62d2-451f-a466-0a6fee4931fc",
   "metadata": {},
   "outputs": [],
   "source": [
    "!pip install pooch"
   ]
  },
  {
   "cell_type": "markdown",
   "id": "c0ee1720-ebd5-4a95-95ff-93a622f1c502",
   "metadata": {},
   "source": [
    "Les données sont prêtes à être téléchargées depuis l'URL suivante, sous forme d'une archive ZIP: [https://files.swisscarto.ch/geoinf1/demographie-monde.zip](https://files.swisscarto.ch/geoinf1/demographie-monde.zip). Nous pouvons le télécharger directement avec Pooch:"
   ]
  },
  {
   "cell_type": "code",
   "execution_count": null,
   "id": "1c60d6d0-5f3e-4633-8257-8c81b24cb5d4",
   "metadata": {},
   "outputs": [],
   "source": [
    "import pooch"
   ]
  },
  {
   "cell_type": "code",
   "execution_count": null,
   "id": "f2cf505b-dca9-413b-a238-7ca82a80fad9",
   "metadata": {},
   "outputs": [],
   "source": [
    "data_files = pooch.retrieve(\n",
    "    url = 'https://files.swisscarto.ch/geoinf1/demographie-monde.zip',\n",
    "    known_hash = None,\n",
    "    processor = pooch.Unzip()\n",
    ")"
   ]
  },
  {
   "cell_type": "markdown",
   "id": "441e2f90-b3dd-4409-a567-1e0a518aeaf6",
   "metadata": {},
   "source": [
    "Cette opération a permis de télécharger le fichier dans un dossier temporaire sur le disque dur et de le décompresser. `data_files` contient maintenant une liste avec tous les fichiers contenus dans l'archive ZIP."
   ]
  },
  {
   "cell_type": "markdown",
   "id": "037a2b87-68a0-4faa-a8c9-a2caa669845c",
   "metadata": {},
   "source": [
    "### Lecture du fichier Shape des pays du monde\n",
    "\n",
    "Nous allons maintenant charger le fichier Shape des pays du monde à l'aide de GeoPandas. Assurons-nous d'abord que GeoPandas est installé:"
   ]
  },
  {
   "cell_type": "code",
   "execution_count": null,
   "id": "b4f96349-a8d6-4772-be47-9cd21755e57a",
   "metadata": {},
   "outputs": [],
   "source": [
    "!pip install geopandas"
   ]
  },
  {
   "cell_type": "markdown",
   "id": "058ed31e-2bd9-465d-a448-40ddfcb8af75",
   "metadata": {},
   "source": [
    "Nous pouvons import GeoPandas, nous utilisons le nom court `gpd` pour nommer le module:"
   ]
  },
  {
   "cell_type": "code",
   "execution_count": null,
   "id": "b29dc543-1a57-4fe4-97e1-48e86e11e5d1",
   "metadata": {},
   "outputs": [],
   "source": [
    "import geopandas as gpd"
   ]
  },
  {
   "cell_type": "markdown",
   "id": "11d46000-f0f5-4001-83c2-42062e0e724d",
   "metadata": {},
   "source": [
    "Nous devons maintenant obtenir le chemin d'accès du fichier Shape. L'archive ZIP contient un seul fichier Shape, nous pouvons donc filtrer les fichiers à l'aide de l'extension:"
   ]
  },
  {
   "cell_type": "code",
   "execution_count": null,
   "id": "51ffbf3f-ce6f-4aeb-a3af-341ec62ec2ba",
   "metadata": {},
   "outputs": [],
   "source": [
    "pays_shp_path = [df for df in data_files if df.endswith('.shp')][0]\n",
    "pays_shp_path"
   ]
  },
  {
   "cell_type": "markdown",
   "id": "73e1a524-d22a-4672-91bc-7698798bf451",
   "metadata": {},
   "source": [
    "Le chargement du fichier Shape se fait simplement avec la fonction `read_file`:"
   ]
  },
  {
   "cell_type": "code",
   "execution_count": null,
   "id": "807eca16-dd3d-448d-a7c6-510ed73ffa79",
   "metadata": {},
   "outputs": [],
   "source": [
    "pays = gpd.read_file(pays_shp_path)"
   ]
  },
  {
   "cell_type": "markdown",
   "id": "26be38d8-0bb2-4e3d-a70e-77519a03c2b6",
   "metadata": {},
   "source": [
    "Inspecter le contenu du fichier:"
   ]
  },
  {
   "cell_type": "code",
   "execution_count": null,
   "id": "ba2890d2-2162-4e51-8324-0f7a4beec8fe",
   "metadata": {},
   "outputs": [],
   "source": [
    "pays.plot()"
   ]
  },
  {
   "cell_type": "markdown",
   "id": "65f6ed61-816b-4c6c-a149-0f91d3f58091",
   "metadata": {},
   "source": [
    "### Lecture du fichier des données"
   ]
  },
  {
   "cell_type": "markdown",
   "id": "17955f3f-b146-48ec-8600-88c6fda21229",
   "metadata": {},
   "source": [
    "Les données se trouvent dans un fichier TSV qui était à l'intérieur de l'archive ZIP. Nous pouvons obtenir le chemin d'accès comme avant pour le fichier Shape, sauf que nous cherchons pour l'extension `.tsv`:"
   ]
  },
  {
   "cell_type": "code",
   "execution_count": null,
   "id": "70d85613-331f-48d7-9797-b7dc84d47607",
   "metadata": {},
   "outputs": [],
   "source": [
    "wb_data_path = [df for df in data_files if df.endswith('.tsv')][0]\n",
    "wb_data_path"
   ]
  },
  {
   "cell_type": "markdown",
   "id": "1d83611a-4c54-4e03-a69d-a9d7440bf75e",
   "metadata": {},
   "source": [
    "Nous pouvons lire le fichier avec Pandas. Il faut l'importer avant:"
   ]
  },
  {
   "cell_type": "code",
   "execution_count": null,
   "id": "a03db52b-ffee-4163-a0c5-6ad6040ffbe1",
   "metadata": {},
   "outputs": [],
   "source": [
    "import pandas as pd"
   ]
  },
  {
   "cell_type": "code",
   "execution_count": null,
   "id": "b91c91fa-6411-4eda-ac1d-5dae5113204c",
   "metadata": {},
   "outputs": [],
   "source": [
    "wb_data = pd.read_csv(wb_data_path, sep='\\t')\n",
    "print(wb_data.head())"
   ]
  },
  {
   "cell_type": "markdown",
   "id": "f4d7a3c9-d8e2-4360-ac50-0660fc5e414e",
   "metadata": {},
   "source": [
    "Nous pouvons maintenant faire une jointure par attribut des données aux DataFrame des pays. Pour ceci, nous devons identifier deux colonnes qui contiennent la même information.\n",
    "\n",
    "Nous pouvons inspecter les colonnes des deux DataFrames:"
   ]
  },
  {
   "cell_type": "code",
   "execution_count": null,
   "id": "b8cc848c-99df-4d22-bacb-aa452d801d4d",
   "metadata": {},
   "outputs": [],
   "source": [
    "pays.columns.tolist()"
   ]
  },
  {
   "cell_type": "code",
   "execution_count": null,
   "id": "cdf2edfd-4fec-4d6c-a7ac-f86ffd04181e",
   "metadata": {},
   "outputs": [],
   "source": [
    "wb_data.columns.tolist()"
   ]
  },
  {
   "cell_type": "markdown",
   "id": "e7511bb1-5680-4685-8620-a99423ded36a",
   "metadata": {},
   "source": [
    "Nous allons utiliser la colonne `WB_A3` du DataFrame des pays, et la colonne `Country Code` du DataFrame des données de la Banque mondiale.\n",
    "\n",
    "Nous pouvons maintenant faire la jointure avec la fonction `merge`:"
   ]
  },
  {
   "cell_type": "code",
   "execution_count": null,
   "id": "0be767fa-2b8b-457e-a540-0d7845a6ec62",
   "metadata": {},
   "outputs": [],
   "source": [
    "pays_data = pays.merge(wb_data, left_on='WB_A3', right_on='Country Code', how='left')"
   ]
  },
  {
   "cell_type": "markdown",
   "id": "364b3fa9-2ef0-48f5-b52c-eb08042d230e",
   "metadata": {},
   "source": [
    "### Calculer un indicateur d'âge\n",
    "\n",
    "Nous allons calculer un indicateur d’âge, défini comme le rapport entre la population âgée (65 ans et plus) et la population jeune (0-14 ans), ou plus extactement le nombre de personnes âgées (65 ans et plus) pour 100 personnes jeunes (0 à 14 ans).\n",
    "\n",
    "Le calcul est assez simple une fois que l'on a trouvé les noms des colonnes. Vu que les noms des colonnes ne sont vraiment pas simples, nous le gardons dans une variable:"
   ]
  },
  {
   "cell_type": "code",
   "execution_count": null,
   "id": "1f1e4be2-bc69-4695-a761-39253c252ef7",
   "metadata": {},
   "outputs": [],
   "source": [
    "indic_vieux = '2023 [YR2023] - Population ages 65 and above, total [SP.POP.65UP.TO]'\n",
    "indic_jeunes = '2023 [YR2023] - Population ages 0-14, total [SP.POP.0014.TO]'"
   ]
  },
  {
   "cell_type": "markdown",
   "id": "e101c601-9cb3-455c-9472-2fed777da55b",
   "metadata": {},
   "source": [
    "Avant de procéder au calcul, nous devons nous assurer que les valeurs sont numériques et que les valeurs non numériques sont des `NaN` (avec `errors = 'coerce'`):"
   ]
  },
  {
   "cell_type": "code",
   "execution_count": null,
   "id": "b2fdf4fa-63bf-4a3b-a53f-424639a93bd9",
   "metadata": {},
   "outputs": [],
   "source": [
    "pays_data[indic_vieux] = pd.to_numeric(pays_data[indic_vieux], errors='coerce')\n",
    "pays_data[indic_jeunes] = pd.to_numeric(pays_data[indic_jeunes], errors='coerce')"
   ]
  },
  {
   "cell_type": "markdown",
   "id": "d8a8c288-758c-4e49-b3d4-10be2f860402",
   "metadata": {},
   "source": [
    "Ensuite le calcul en tant que tel:"
   ]
  },
  {
   "cell_type": "code",
   "execution_count": null,
   "id": "0276e77a-f6a8-47b4-84f0-cacb08b25e39",
   "metadata": {},
   "outputs": [],
   "source": [
    "pays_data['indic_age'] = pays_data[indic_vieux] / pays_data[indic_jeunes] * 100"
   ]
  },
  {
   "cell_type": "markdown",
   "id": "54ed0c3a-f52e-4833-bf04-80060eebf94b",
   "metadata": {},
   "source": [
    "Vérifier le calcul:"
   ]
  },
  {
   "cell_type": "code",
   "execution_count": null,
   "id": "55213edf-0691-456e-bd71-6a53adc5a45c",
   "metadata": {},
   "outputs": [],
   "source": [
    "pays_data['indic_age']"
   ]
  },
  {
   "cell_type": "markdown",
   "id": "a5fabbbe-f3c9-452e-8f65-e18c767c0eb4",
   "metadata": {},
   "source": [
    "### Créer des classes et faire le décompte des personnes\n",
    "\n",
    "Nous allons maintenant diviser les pays en 5 classes selon l'indicateur d'âge. chaque classe aura à peu près le même nombre de pays. Nous utilisons la fonction `qcut` de Pandas pour cela. Consultez la documentation Pandas pour en savoir plus:"
   ]
  },
  {
   "cell_type": "code",
   "execution_count": null,
   "id": "36d3cde0-d303-4449-8c52-1712d6e05fd7",
   "metadata": {},
   "outputs": [],
   "source": [
    "pays_data['indic_age_cls'] = pd.qcut(pays_data['indic_age'], q=5, labels=False)"
   ]
  },
  {
   "cell_type": "markdown",
   "id": "ccc0a2e4-7325-45a8-aab1-c57f64e2b5c8",
   "metadata": {},
   "source": [
    "Et inspecter le résultat:"
   ]
  },
  {
   "cell_type": "code",
   "execution_count": null,
   "id": "b75a07c7-4e79-45ea-a085-6bbefc55f690",
   "metadata": {},
   "outputs": [],
   "source": [
    "print(pays_data[['NAME', 'indic_age_cls']].head())"
   ]
  },
  {
   "cell_type": "markdown",
   "id": "c646bbb6-29f0-40b1-a1f1-7b913410b3b5",
   "metadata": {},
   "source": [
    "Regardons le résultat sur une carte rapide:"
   ]
  },
  {
   "cell_type": "code",
   "execution_count": null,
   "id": "2eff67cc-62bf-4e92-869b-32c8c73d72fa",
   "metadata": {},
   "outputs": [],
   "source": [
    "pays_data.plot(\n",
    "    column = 'indic_age_cls',\n",
    "    cmap = 'viridis',\n",
    "    legend = True,\n",
    "    figsize = (16, 12)\n",
    ")"
   ]
  },
  {
   "cell_type": "markdown",
   "id": "9daeb39b-c4c9-464f-bd0f-3b039e070f5c",
   "metadata": {},
   "source": [
    "Nous avons certainement vu des meilleures cartes... mais elle fait l'affaire pour le moment. L'indicateur d'âge représente le ratio vieux / jeunes, et plus l'indicateur est élevé, plus il y a de personnes âgées par rapport aux jeunes. Il représente donc une facette du veillissement de la population, avec surtout les pays occidentaux ayant une valeur élevée.\n",
    "\n",
    "Nous pouvons maintenant compter combien de personnes appartiennent à quelle classe de l'indicateur d'âge. Cette opération d'agrégation s'appelle un **«group by»** et on groupe toutes les entités avec la même valeur. Ensuite, on peut calculer des statistiques sur ces groupes, en l'occurrence la somme:"
   ]
  },
  {
   "cell_type": "code",
   "execution_count": null,
   "id": "587249e7-b53b-46f5-8d55-f6b58f68cb43",
   "metadata": {},
   "outputs": [],
   "source": [
    "col_pop = '2023 [YR2023] - Population, total [SP.POP.TOTL]'\n",
    "pays_data[col_pop] = pd.to_numeric(pays_data[col_pop], errors='coerce')\n",
    "pop_par_classe = pays_data.groupby('indic_age_cls')[col_pop].sum()"
   ]
  },
  {
   "cell_type": "code",
   "execution_count": null,
   "id": "24db7115-7709-4520-999f-f5f17709ecdc",
   "metadata": {},
   "outputs": [],
   "source": [
    "pop_par_classe"
   ]
  },
  {
   "cell_type": "markdown",
   "id": "662c7122-fb44-42bd-b224-5408d3b3dd54",
   "metadata": {},
   "source": [
    "Nous pouvons maintenant faire un graphique avec Matplotlib:"
   ]
  },
  {
   "cell_type": "code",
   "execution_count": null,
   "id": "b32b4077-b6b8-442a-bc36-bc546bfb255b",
   "metadata": {},
   "outputs": [],
   "source": [
    "import matplotlib.pyplot as plt"
   ]
  },
  {
   "cell_type": "code",
   "execution_count": null,
   "id": "524d7a89-0e0c-4db0-a035-65c783186165",
   "metadata": {},
   "outputs": [],
   "source": [
    "pop_par_classe.plot(kind=\"bar\", color=\"darkblue\", edgecolor=\"white\")\n",
    "plt.title(\"Population par classe du ratio vieux / jeunes\")\n",
    "plt.xlabel(\"Class du ratio vieux / jeunes\")\n",
    "plt.ylabel(\"Population\")\n",
    "plt.show()"
   ]
  },
  {
   "cell_type": "markdown",
   "id": "38b9dfb9-0181-41be-b6e5-b7fed62e6cc9",
   "metadata": {},
   "source": [
    "Pour finir cette partie, nous écrivons le jeu de données final dans un fichier Parquet:"
   ]
  },
  {
   "cell_type": "code",
   "execution_count": null,
   "id": "6e7b9a14-feb6-4a4f-b8ad-0a6510be8f06",
   "metadata": {},
   "outputs": [],
   "source": [
    "pays_data.to_file('pays_data.gpkg', driver='GPKG', layer='pays_data') "
   ]
  },
  {
   "cell_type": "markdown",
   "id": "872979cd-982d-427f-9a28-a65825df97ef",
   "metadata": {},
   "source": [
    "## Partie 2: Analyse des données OpenStreetMap d'Estonie"
   ]
  },
  {
   "cell_type": "markdown",
   "id": "2f6b070e-629b-4e21-bc2c-ebabf57e6e9c",
   "metadata": {},
   "source": [
    "Les données OpenStreetMap contiennent beaucoup de données que nous pouvons exploiter pour différentes analyses. Nous allons montrer quelques exemples concrets dans cette partie.\n",
    "\n",
    "Il faut noter que les données OpenStreetMap sont des données qui sont générées par les utilisateurs et elles ne sont pas partout complètes au même degré. Dans certaines régions, l'administration publique contribue également aux données. Ou certaines entreprises utilisent les données OpenStreetMap dans leurs produits et aident à compléter la base de données (p.ex. Facebook, Apple, Microsoft utilisent tous les données OSM dans leur cartes).\n",
    "\n",
    "Par ailleurs, si vous constatez que les données sur OpenStreetMap ne sont pas complètes, n'hésitez pas à les compléter sur [osm.org](https://osm.org). Àprès connexion, il y a un bouton «Éditer» qui devient disponible..."
   ]
  },
  {
   "cell_type": "markdown",
   "id": "aa15fa93-9dc1-4b0c-b818-997e56d86835",
   "metadata": {},
   "source": [
    "### Les bancs publics d'Estonie\n",
    "\n",
    "Pour commencer, nous pouvons télécharger les données OpenStreetMap d'Estonie depuis l'URL suivante: [https://files.swisscarto.ch/geoinf1/analyse-estonie.zip](https://files.swisscarto.ch/geoinf1/analyse-estonie.zip).\n",
    "\n",
    "L'archive ZIP contient également des régions administratives d'Estonie. Ces données viennent de l'Office statistique d'Estonie et contiennent également une information sur la population par région.\n",
    "\n",
    "Nous pouvons à nouveau utiliser Pooch pour télécharger l'archive et ensuite la décompresser:"
   ]
  },
  {
   "cell_type": "code",
   "execution_count": null,
   "id": "cc28d156-5dc8-421a-8f0f-d5e6e116e204",
   "metadata": {},
   "outputs": [],
   "source": [
    "data_ee = pooch.retrieve(\n",
    "    url = 'https://files.swisscarto.ch/geoinf1/analyse-estonie.zip',\n",
    "    known_hash = None,\n",
    "    processor = pooch.Unzip()\n",
    ")"
   ]
  },
  {
   "cell_type": "markdown",
   "id": "f69a1660-d5dc-46e5-ad68-462b5066383c",
   "metadata": {},
   "source": [
    "Nous cherchons le fichier avec les points d'intérêts. Nous allons extraire les bancs publics depuis ce jeu de données (oui, oui, cette information y est) pour ensuite faire le décompte.\n",
    "\n",
    "Le fichier des points d'intérêts est un fichier Shape (avec extension `.shp` et qui contient le mot `pois`:"
   ]
  },
  {
   "cell_type": "code",
   "execution_count": null,
   "id": "5e07b722-ab80-40eb-afdd-cd0c1fb6aed0",
   "metadata": {},
   "outputs": [],
   "source": [
    "pois_shp_path = [f for f in data_ee if f.endswith('.shp') and 'pois' in f][0]\n",
    "pois_shp_path"
   ]
  },
  {
   "cell_type": "markdown",
   "id": "4e2e0e65-803e-4a47-a9a2-887d0e960555",
   "metadata": {},
   "source": [
    "On peut maintenant lire le fichier avec GeoPandas:"
   ]
  },
  {
   "cell_type": "code",
   "execution_count": null,
   "id": "88f2d7d8-c4bb-410e-a8af-474032bbdd21",
   "metadata": {},
   "outputs": [],
   "source": [
    "pois_ee = gpd.read_file(pois_shp_path)\n",
    "print(pois_ee.head())"
   ]
  },
  {
   "cell_type": "markdown",
   "id": "f3a42e43-da84-4c48-bba8-6edcb37760e2",
   "metadata": {},
   "source": [
    "Les bancs publics ont la valeur `bench` pour la colonne `fclass`. On peut les extraire avec une expression un peu bizarre mais assez simple au final:"
   ]
  },
  {
   "cell_type": "code",
   "execution_count": null,
   "id": "f35add76-6236-485b-81b4-0ddefe250b2a",
   "metadata": {},
   "outputs": [],
   "source": [
    "bancs = pois_ee[pois_ee['fclass'] == 'bench']\n",
    "print(bancs.head())"
   ]
  },
  {
   "cell_type": "markdown",
   "id": "a980e305-79d8-4581-9189-95ac0597784d",
   "metadata": {},
   "source": [
    "Nous pouvons décomposer un peu cette ligne de code. La partie `pois_ee['fclass']` est la colonne qui contient toutes les valeurs de l'attribut `fclass`:"
   ]
  },
  {
   "cell_type": "code",
   "execution_count": null,
   "id": "b6780ea5-5534-4765-abe5-8ca8f09df534",
   "metadata": {},
   "outputs": [],
   "source": [
    "pois_ee['fclass']"
   ]
  },
  {
   "cell_type": "markdown",
   "id": "3d76f6e7-2463-454e-bd8f-563b9f06064b",
   "metadata": {},
   "source": [
    "On peut demander à Pandas si ces valeurs sont égales à `bench`:"
   ]
  },
  {
   "cell_type": "code",
   "execution_count": null,
   "id": "a75eb890-9585-477f-ad1a-e91b306f2515",
   "metadata": {},
   "outputs": [],
   "source": [
    "pois_ee['fclass'] == 'bench'"
   ]
  },
  {
   "cell_type": "markdown",
   "id": "395bef71-031c-4ed9-b6f3-d2ee342ce150",
   "metadata": {},
   "source": [
    "Ceci évalue cette comparaison pour chaque entité dans le DataFrame `pois_ee`, et retourne soit `True` soit `False`. Nous pouvons utiliser ce mécanisme pour filtrer les entités du DataFrame, en passant une sorte de liste avec des `True` et `False`. Les entités avec `True` sont retenues, les autres écartées.\n",
    "\n",
    "On peut même enregistrer la condition dans une variable et écrire la même instruction que plus haut en deux lignes:"
   ]
  },
  {
   "cell_type": "code",
   "execution_count": null,
   "id": "3eb1f895-6cfa-48ec-9573-0f09f7bfb497",
   "metadata": {},
   "outputs": [],
   "source": [
    "critere = pois_ee['fclass'] == 'bench'\n",
    "bancs = pois_ee[critere]\n",
    "print(bancs.head())"
   ]
  },
  {
   "cell_type": "markdown",
   "id": "50ec5d8d-7a7c-4a7a-9b7d-daf5b7400030",
   "metadata": {},
   "source": [
    "### Les régions d'Estonie"
   ]
  },
  {
   "cell_type": "markdown",
   "id": "038a7d0a-10ec-46d2-91f3-56653f3bb552",
   "metadata": {},
   "source": [
    "Nous pouvons maintenant charger la couche des régions administratives depuis le Geopackage:"
   ]
  },
  {
   "cell_type": "code",
   "execution_count": null,
   "id": "215e5cc3-87b7-421d-8417-ca486a36bbf1",
   "metadata": {},
   "outputs": [],
   "source": [
    "regions_ee_path = [f for f in data_ee if f.endswith('.gpkg')][0]\n",
    "regions_ee_path"
   ]
  },
  {
   "cell_type": "markdown",
   "id": "f020fd77-7ce9-496b-b1d4-828f4ed5ae1d",
   "metadata": {},
   "source": [
    "Les fichiers Geopackage peuvent contenir plusieurs couches vectorielles. Si le Geopackage n'a qu'une seule couche, GeoPandas pourra la lire sans indiquer le nom. Mais avec plus d'une couche, il faudra spécifier le nom. Seulement, comment connaître le nom de la couche? Pour cela, nous pouvons utiliser un autre module Python: `pyogrio` (nous avons déjà rencontré `ogr` dans `ogr2ogr`, c'est bien le même). `pyogrio` est utilisé par GeoPandas et donc déjà disponible sur notre système. Il suffit de l'importer:"
   ]
  },
  {
   "cell_type": "code",
   "execution_count": null,
   "id": "c4062d83-fa39-49b2-99b3-17e5f3bfbb12",
   "metadata": {},
   "outputs": [],
   "source": [
    "import pyogrio"
   ]
  },
  {
   "cell_type": "markdown",
   "id": "313a4905-9581-412d-a555-79fe3340a55a",
   "metadata": {},
   "source": [
    "Ensuite on peut afficher la liste des couches à l'intérieur du GeoPackage:"
   ]
  },
  {
   "cell_type": "code",
   "execution_count": null,
   "id": "3c130ba0-f8e9-4279-a1b1-e6a0fea4df07",
   "metadata": {},
   "outputs": [],
   "source": [
    "pyogrio.list_layers(regions_ee_path)"
   ]
  },
  {
   "cell_type": "code",
   "execution_count": null,
   "id": "c21973cc-04cf-40de-95d0-d7d232ac99f2",
   "metadata": {},
   "outputs": [],
   "source": [
    "regions = gpd.read_file(regions_ee_path,  layer='boundaries')\n",
    "print(regions.head())"
   ]
  },
  {
   "cell_type": "markdown",
   "id": "c7b14051-6060-48e9-9f6c-771f96c952c1",
   "metadata": {},
   "source": [
    "### Le nombre de bancs publics par région et par habitant"
   ]
  },
  {
   "cell_type": "markdown",
   "id": "619f876a-f61e-4cca-a765-a7c961d03f07",
   "metadata": {},
   "source": [
    "Combien de bancs publics il y a par région? Pour cela, il faut savoir dans quelle région se trouve chacun des bancs. Dans un SIG, une telle opération se fait à l'aide d'une **jointure spatiale**. Et avec GeoPandas, une jointure spatiale n'est pas compliquée, la fonction `sjoin` s'en occupe. Voici comment nous pouvons joindre les informations sur les régions à la couche des bancs:"
   ]
  },
  {
   "cell_type": "code",
   "execution_count": null,
   "id": "b172cc73-338a-4d59-ad74-364d56068c69",
   "metadata": {},
   "outputs": [],
   "source": [
    "bancs_avec_region = gpd.sjoin(bancs, regions, how=\"inner\", predicate=\"within\")\n",
    "bancs_avec_region.head()"
   ]
  },
  {
   "cell_type": "markdown",
   "id": "6328d7de-2be6-4b29-ac69-eaf36d12d5e6",
   "metadata": {},
   "source": [
    "L'information sur la région administrative est du coup dans `name_right`. Il suffit de compter le nombre de fois que chaque région apparaît dans la liste et on connaît le nombre de bancs dans chaque région...\n",
    "\n",
    "Techniquement, il s'agit ici d'une agrégation de type **«group by»** (on regroupe les bancs selon les régions), et ensuite on fait le décompte (le nombre):"
   ]
  },
  {
   "cell_type": "code",
   "execution_count": null,
   "id": "b95bb071-d668-4c83-b11f-11615323c361",
   "metadata": {},
   "outputs": [],
   "source": [
    "bancs_decompte = bancs_avec_region.groupby('name_right').size()\n",
    "bancs_decompte"
   ]
  },
  {
   "cell_type": "markdown",
   "id": "2d5fa74c-f55d-42c5-9865-fc2f23c72dad",
   "metadata": {},
   "source": [
    "Cette combinaison entre jointure spatiale et agrégation de type «group by» est très fréquent dans les analyses SIG. QGIS possède d'ailleurs un outil qui combine les deux étapes ensemble, il s'agit de l'outil *«Joindre les attributs par localisation (résumé)»*, qui est une variante de la jointure spatiale."
   ]
  },
  {
   "cell_type": "markdown",
   "id": "3eca56fa-6210-4b20-a53d-37f41ecb7b65",
   "metadata": {},
   "source": [
    "Par contre, nous devons encore joindre notre décompte à la couche des régions, dans une nouvelle colonne:"
   ]
  },
  {
   "cell_type": "code",
   "execution_count": null,
   "id": "d1233155-950c-4e3f-952e-7125f202289d",
   "metadata": {},
   "outputs": [],
   "source": [
    "regions['n_bancs'] = regions['name'].map(bancs_decompte)\n",
    "regions.head()"
   ]
  },
  {
   "cell_type": "markdown",
   "id": "7594b080-6b3d-4502-a35d-4e5e3f5c1cb7",
   "metadata": {},
   "source": [
    "Nous pouvons maintenant calculer le nombre de bancs par 1000 habitants et en faire une carte rapide:"
   ]
  },
  {
   "cell_type": "code",
   "execution_count": null,
   "id": "25ea1e9f-7245-4647-99d1-25fe6b847312",
   "metadata": {},
   "outputs": [],
   "source": [
    "regions['n_bancs_par_1k'] = regions['n_bancs'] / (regions['population'] / 1000)\n",
    "regions[['name', 'n_bancs', 'n_bancs_par_1k']].head()"
   ]
  },
  {
   "cell_type": "code",
   "execution_count": null,
   "id": "e3064fc3-480d-4fbd-a44a-76e4e241ef36",
   "metadata": {},
   "outputs": [],
   "source": [
    "regions.plot(\n",
    "    column = 'n_bancs_par_1k',\n",
    "    cmap = 'viridis',\n",
    "    legend = True\n",
    ")"
   ]
  },
  {
   "cell_type": "markdown",
   "id": "5cdf82b5-2144-42a4-b9c4-69e572e59bed",
   "metadata": {},
   "source": [
    "Avec un peu de chance nous avons trouvé les régions les plus touristiques d'Estonie et nous pouvons planifier nos vacances. Autrement, il y aura au moins assez de bancs pour se reposer."
   ]
  },
  {
   "cell_type": "markdown",
   "id": "b1348f87-df06-4abf-8c05-a9a1594f5578",
   "metadata": {},
   "source": [
    "### La longueur du rail par région"
   ]
  },
  {
   "cell_type": "markdown",
   "id": "a5b71288-653c-454c-8601-82f9b2175919",
   "metadata": {},
   "source": [
    "Nous pouvons aussi déterminer la longueur du rail par région à l'aide des données OSM. Commençons par charger la couche des trains:"
   ]
  },
  {
   "cell_type": "code",
   "execution_count": null,
   "id": "e875dd2a-4735-4fdc-abe1-ef73cec9b50b",
   "metadata": {},
   "outputs": [],
   "source": [
    "rail_shp_path = [f for f in data_ee if f.endswith('.shp') and 'railways' in f][0]\n",
    "rail_shp_path"
   ]
  },
  {
   "cell_type": "markdown",
   "id": "329dcfa3-bd6d-44e7-a05a-433ff4f5aed3",
   "metadata": {},
   "source": [
    "Lire les données:"
   ]
  },
  {
   "cell_type": "code",
   "execution_count": null,
   "id": "23599fab-f719-4d33-89bd-266947394cd5",
   "metadata": {},
   "outputs": [],
   "source": [
    "rails = gpd.read_file(rail_shp_path)"
   ]
  },
  {
   "cell_type": "markdown",
   "id": "360222d5-8838-435b-bbcb-4bd285095b7e",
   "metadata": {},
   "source": [
    "Pour déterminer la région pour les lignes des trains, il faut découper les lignes aux limites des régions. L'opération SIG d'intersection permet de faire cela et combine en même temps les attributs des deux couches impliquées. Dans GeoPandas, nous utilisons la fonction `overlay`:"
   ]
  },
  {
   "cell_type": "code",
   "execution_count": null,
   "id": "8de0c741-4d5d-4d8d-88a5-b712bc6989da",
   "metadata": {},
   "outputs": [],
   "source": [
    "rails_par_region = gdp.overlay(rails, regions, how=\"intersection\")"
   ]
  },
  {
   "cell_type": "markdown",
   "id": "ef2b539b-965e-4967-8a5f-dba6fca78cc9",
   "metadata": {},
   "source": [
    "Nous pouvons encore ajouter la longueur des trains sur la base des lignes. Notez que cette opération dépend du système de coordonnées. Dans notre cas, nous avons un jeu de données en WGS84. Un système de coordonnées géographique en latitude/longitude ne se prête pas à un tel calcul. Nous allons projeter la couche d'abord dans un système de coordonnées UTM (la zone 35N correspond à l'Estonie, le code EPSG est 32635):"
   ]
  },
  {
   "cell_type": "code",
   "execution_count": null,
   "id": "d857b732-4fd8-48fa-9708-d4cbb7f556ca",
   "metadata": {},
   "outputs": [],
   "source": [
    "rails_par_region_utm = rails_par_region.to_crs(epsg=32635)"
   ]
  },
  {
   "cell_type": "markdown",
   "id": "9051c989-5081-4c9e-91a3-616c1e7f5db7",
   "metadata": {},
   "source": [
    "Pour les opérations sur les géométries, on peut passer par l'attribut `geometry` du DataFrame GeoPandas. **Ceci nous permet de calculer des choses comme la longueur, la superficie ou le centroïde.**"
   ]
  },
  {
   "cell_type": "code",
   "execution_count": null,
   "id": "0c8a4ffe-6d84-450d-a1b3-cedd447ba305",
   "metadata": {},
   "outputs": [],
   "source": [
    "rails_par_region_utm['longueur'] = rails_par_region_utm.geometry.length"
   ]
  },
  {
   "cell_type": "markdown",
   "id": "71728f79-b030-4363-96ff-414505b8986c",
   "metadata": {},
   "source": [
    "Et nous pouvons à nouveau faire une agrégation de type *«group by»* et calculer la somme. Il faut encore connaître le nom de la colonne qui contient le nom de la région:"
   ]
  },
  {
   "cell_type": "code",
   "execution_count": null,
   "id": "526fecf9-981c-40a9-94b1-ba307406f814",
   "metadata": {},
   "outputs": [],
   "source": [
    "rails_par_region_utm.head()"
   ]
  },
  {
   "cell_type": "code",
   "execution_count": null,
   "id": "317f2c04-ee06-4713-9a3f-acf340529d3f",
   "metadata": {},
   "outputs": [],
   "source": [
    "rail_longueurs = rails_par_region_utm.groupby('name_2')['longueur'].sum()\n",
    "rail_longueurs.head()"
   ]
  },
  {
   "cell_type": "markdown",
   "id": "38fd521d-0920-4a0f-9cb4-02b1eb7c7462",
   "metadata": {},
   "source": [
    "Et nous pouvons ajouter l'information au GeoDataFrame sous forme d'une nouvelle colonne:"
   ]
  },
  {
   "cell_type": "code",
   "execution_count": null,
   "id": "84a4fb02-45ce-4003-b4f7-f484a049981b",
   "metadata": {},
   "outputs": [],
   "source": [
    "regions[\"rail_longueur\"] = regions[\"name\"].map(rail_longueurs)\n",
    "regions.head()"
   ]
  },
  {
   "cell_type": "markdown",
   "id": "3f404030-957d-49c3-8550-79a6600c3375",
   "metadata": {},
   "source": [
    "Par ailleurs, l'unité de la longueur est la même que celle du système de coordonnées. Pour UTM, ce sont des mètres."
   ]
  }
 ],
 "metadata": {
  "kernelspec": {
   "display_name": "Python 3 (ipykernel)",
   "language": "python",
   "name": "python3"
  },
  "language_info": {
   "codemirror_mode": {
    "name": "ipython",
    "version": 3
   },
   "file_extension": ".py",
   "mimetype": "text/x-python",
   "name": "python",
   "nbconvert_exporter": "python",
   "pygments_lexer": "ipython3",
   "version": "3.10.12"
  }
 },
 "nbformat": 4,
 "nbformat_minor": 5
}
